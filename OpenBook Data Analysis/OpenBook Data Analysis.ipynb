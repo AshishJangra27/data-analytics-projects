{
  "nbformat": 4,
  "nbformat_minor": 0,
  "metadata": {
    "colab": {
      "provenance": []
    },
    "kernelspec": {
      "name": "python3",
      "display_name": "Python 3"
    },
    "language_info": {
      "name": "python"
    },
    "widgets": {
      "application/vnd.jupyter.widget-state+json": {
        "a605c70db4bd4839b76f35fad471e4e9": {
          "model_module": "@jupyter-widgets/controls",
          "model_name": "HBoxModel",
          "model_module_version": "1.5.0",
          "state": {
            "_dom_classes": [],
            "_model_module": "@jupyter-widgets/controls",
            "_model_module_version": "1.5.0",
            "_model_name": "HBoxModel",
            "_view_count": null,
            "_view_module": "@jupyter-widgets/controls",
            "_view_module_version": "1.5.0",
            "_view_name": "HBoxView",
            "box_style": "",
            "children": [
              "IPY_MODEL_6df921d531704f41aaf658ca11c7f193",
              "IPY_MODEL_96911df6bb9d4f239392181c53bb28a7",
              "IPY_MODEL_7552226521484aee8be09b2da60f6836"
            ],
            "layout": "IPY_MODEL_a356a79c7ef24eafa7ce644d34ef03bf"
          }
        },
        "6df921d531704f41aaf658ca11c7f193": {
          "model_module": "@jupyter-widgets/controls",
          "model_name": "HTMLModel",
          "model_module_version": "1.5.0",
          "state": {
            "_dom_classes": [],
            "_model_module": "@jupyter-widgets/controls",
            "_model_module_version": "1.5.0",
            "_model_name": "HTMLModel",
            "_view_count": null,
            "_view_module": "@jupyter-widgets/controls",
            "_view_module_version": "1.5.0",
            "_view_name": "HTMLView",
            "description": "",
            "description_tooltip": null,
            "layout": "IPY_MODEL_24770f18dded4939bbe131786272cebd",
            "placeholder": "​",
            "style": "IPY_MODEL_d76f482236f043b3bd60c3710bf80cc9",
            "value": "100%"
          }
        },
        "96911df6bb9d4f239392181c53bb28a7": {
          "model_module": "@jupyter-widgets/controls",
          "model_name": "FloatProgressModel",
          "model_module_version": "1.5.0",
          "state": {
            "_dom_classes": [],
            "_model_module": "@jupyter-widgets/controls",
            "_model_module_version": "1.5.0",
            "_model_name": "FloatProgressModel",
            "_view_count": null,
            "_view_module": "@jupyter-widgets/controls",
            "_view_module_version": "1.5.0",
            "_view_name": "ProgressView",
            "bar_style": "success",
            "description": "",
            "description_tooltip": null,
            "layout": "IPY_MODEL_fd4b4f6b23354b4da151b843c3214aaa",
            "max": 141,
            "min": 0,
            "orientation": "horizontal",
            "style": "IPY_MODEL_9c05ef6c93a0439f824a46e21c008067",
            "value": 141
          }
        },
        "7552226521484aee8be09b2da60f6836": {
          "model_module": "@jupyter-widgets/controls",
          "model_name": "HTMLModel",
          "model_module_version": "1.5.0",
          "state": {
            "_dom_classes": [],
            "_model_module": "@jupyter-widgets/controls",
            "_model_module_version": "1.5.0",
            "_model_name": "HTMLModel",
            "_view_count": null,
            "_view_module": "@jupyter-widgets/controls",
            "_view_module_version": "1.5.0",
            "_view_name": "HTMLView",
            "description": "",
            "description_tooltip": null,
            "layout": "IPY_MODEL_f1ef59578e5543a48e5c22d13e1348b1",
            "placeholder": "​",
            "style": "IPY_MODEL_0465cd630a694659a7a53b2c8ecaf100",
            "value": " 141/141 [00:33&lt;00:00,  1.96it/s]"
          }
        },
        "a356a79c7ef24eafa7ce644d34ef03bf": {
          "model_module": "@jupyter-widgets/base",
          "model_name": "LayoutModel",
          "model_module_version": "1.2.0",
          "state": {
            "_model_module": "@jupyter-widgets/base",
            "_model_module_version": "1.2.0",
            "_model_name": "LayoutModel",
            "_view_count": null,
            "_view_module": "@jupyter-widgets/base",
            "_view_module_version": "1.2.0",
            "_view_name": "LayoutView",
            "align_content": null,
            "align_items": null,
            "align_self": null,
            "border": null,
            "bottom": null,
            "display": null,
            "flex": null,
            "flex_flow": null,
            "grid_area": null,
            "grid_auto_columns": null,
            "grid_auto_flow": null,
            "grid_auto_rows": null,
            "grid_column": null,
            "grid_gap": null,
            "grid_row": null,
            "grid_template_areas": null,
            "grid_template_columns": null,
            "grid_template_rows": null,
            "height": null,
            "justify_content": null,
            "justify_items": null,
            "left": null,
            "margin": null,
            "max_height": null,
            "max_width": null,
            "min_height": null,
            "min_width": null,
            "object_fit": null,
            "object_position": null,
            "order": null,
            "overflow": null,
            "overflow_x": null,
            "overflow_y": null,
            "padding": null,
            "right": null,
            "top": null,
            "visibility": null,
            "width": null
          }
        },
        "24770f18dded4939bbe131786272cebd": {
          "model_module": "@jupyter-widgets/base",
          "model_name": "LayoutModel",
          "model_module_version": "1.2.0",
          "state": {
            "_model_module": "@jupyter-widgets/base",
            "_model_module_version": "1.2.0",
            "_model_name": "LayoutModel",
            "_view_count": null,
            "_view_module": "@jupyter-widgets/base",
            "_view_module_version": "1.2.0",
            "_view_name": "LayoutView",
            "align_content": null,
            "align_items": null,
            "align_self": null,
            "border": null,
            "bottom": null,
            "display": null,
            "flex": null,
            "flex_flow": null,
            "grid_area": null,
            "grid_auto_columns": null,
            "grid_auto_flow": null,
            "grid_auto_rows": null,
            "grid_column": null,
            "grid_gap": null,
            "grid_row": null,
            "grid_template_areas": null,
            "grid_template_columns": null,
            "grid_template_rows": null,
            "height": null,
            "justify_content": null,
            "justify_items": null,
            "left": null,
            "margin": null,
            "max_height": null,
            "max_width": null,
            "min_height": null,
            "min_width": null,
            "object_fit": null,
            "object_position": null,
            "order": null,
            "overflow": null,
            "overflow_x": null,
            "overflow_y": null,
            "padding": null,
            "right": null,
            "top": null,
            "visibility": null,
            "width": null
          }
        },
        "d76f482236f043b3bd60c3710bf80cc9": {
          "model_module": "@jupyter-widgets/controls",
          "model_name": "DescriptionStyleModel",
          "model_module_version": "1.5.0",
          "state": {
            "_model_module": "@jupyter-widgets/controls",
            "_model_module_version": "1.5.0",
            "_model_name": "DescriptionStyleModel",
            "_view_count": null,
            "_view_module": "@jupyter-widgets/base",
            "_view_module_version": "1.2.0",
            "_view_name": "StyleView",
            "description_width": ""
          }
        },
        "fd4b4f6b23354b4da151b843c3214aaa": {
          "model_module": "@jupyter-widgets/base",
          "model_name": "LayoutModel",
          "model_module_version": "1.2.0",
          "state": {
            "_model_module": "@jupyter-widgets/base",
            "_model_module_version": "1.2.0",
            "_model_name": "LayoutModel",
            "_view_count": null,
            "_view_module": "@jupyter-widgets/base",
            "_view_module_version": "1.2.0",
            "_view_name": "LayoutView",
            "align_content": null,
            "align_items": null,
            "align_self": null,
            "border": null,
            "bottom": null,
            "display": null,
            "flex": null,
            "flex_flow": null,
            "grid_area": null,
            "grid_auto_columns": null,
            "grid_auto_flow": null,
            "grid_auto_rows": null,
            "grid_column": null,
            "grid_gap": null,
            "grid_row": null,
            "grid_template_areas": null,
            "grid_template_columns": null,
            "grid_template_rows": null,
            "height": null,
            "justify_content": null,
            "justify_items": null,
            "left": null,
            "margin": null,
            "max_height": null,
            "max_width": null,
            "min_height": null,
            "min_width": null,
            "object_fit": null,
            "object_position": null,
            "order": null,
            "overflow": null,
            "overflow_x": null,
            "overflow_y": null,
            "padding": null,
            "right": null,
            "top": null,
            "visibility": null,
            "width": null
          }
        },
        "9c05ef6c93a0439f824a46e21c008067": {
          "model_module": "@jupyter-widgets/controls",
          "model_name": "ProgressStyleModel",
          "model_module_version": "1.5.0",
          "state": {
            "_model_module": "@jupyter-widgets/controls",
            "_model_module_version": "1.5.0",
            "_model_name": "ProgressStyleModel",
            "_view_count": null,
            "_view_module": "@jupyter-widgets/base",
            "_view_module_version": "1.2.0",
            "_view_name": "StyleView",
            "bar_color": null,
            "description_width": ""
          }
        },
        "f1ef59578e5543a48e5c22d13e1348b1": {
          "model_module": "@jupyter-widgets/base",
          "model_name": "LayoutModel",
          "model_module_version": "1.2.0",
          "state": {
            "_model_module": "@jupyter-widgets/base",
            "_model_module_version": "1.2.0",
            "_model_name": "LayoutModel",
            "_view_count": null,
            "_view_module": "@jupyter-widgets/base",
            "_view_module_version": "1.2.0",
            "_view_name": "LayoutView",
            "align_content": null,
            "align_items": null,
            "align_self": null,
            "border": null,
            "bottom": null,
            "display": null,
            "flex": null,
            "flex_flow": null,
            "grid_area": null,
            "grid_auto_columns": null,
            "grid_auto_flow": null,
            "grid_auto_rows": null,
            "grid_column": null,
            "grid_gap": null,
            "grid_row": null,
            "grid_template_areas": null,
            "grid_template_columns": null,
            "grid_template_rows": null,
            "height": null,
            "justify_content": null,
            "justify_items": null,
            "left": null,
            "margin": null,
            "max_height": null,
            "max_width": null,
            "min_height": null,
            "min_width": null,
            "object_fit": null,
            "object_position": null,
            "order": null,
            "overflow": null,
            "overflow_x": null,
            "overflow_y": null,
            "padding": null,
            "right": null,
            "top": null,
            "visibility": null,
            "width": null
          }
        },
        "0465cd630a694659a7a53b2c8ecaf100": {
          "model_module": "@jupyter-widgets/controls",
          "model_name": "DescriptionStyleModel",
          "model_module_version": "1.5.0",
          "state": {
            "_model_module": "@jupyter-widgets/controls",
            "_model_module_version": "1.5.0",
            "_model_name": "DescriptionStyleModel",
            "_view_count": null,
            "_view_module": "@jupyter-widgets/base",
            "_view_module_version": "1.2.0",
            "_view_name": "StyleView",
            "description_width": ""
          }
        },
        "801bfa14f4aa4ae084d6494bd9906a46": {
          "model_module": "@jupyter-widgets/controls",
          "model_name": "HBoxModel",
          "model_module_version": "1.5.0",
          "state": {
            "_dom_classes": [],
            "_model_module": "@jupyter-widgets/controls",
            "_model_module_version": "1.5.0",
            "_model_name": "HBoxModel",
            "_view_count": null,
            "_view_module": "@jupyter-widgets/controls",
            "_view_module_version": "1.5.0",
            "_view_name": "HBoxView",
            "box_style": "",
            "children": [
              "IPY_MODEL_07382e34ab3a4e86b2d950fcb5c5e634",
              "IPY_MODEL_f0326c2591f5437abc8d30bf03e20191",
              "IPY_MODEL_5006a536270a4e78b13f8a0e16c3454e"
            ],
            "layout": "IPY_MODEL_eae9722ce899462a8060dea0ddc15259"
          }
        },
        "07382e34ab3a4e86b2d950fcb5c5e634": {
          "model_module": "@jupyter-widgets/controls",
          "model_name": "HTMLModel",
          "model_module_version": "1.5.0",
          "state": {
            "_dom_classes": [],
            "_model_module": "@jupyter-widgets/controls",
            "_model_module_version": "1.5.0",
            "_model_name": "HTMLModel",
            "_view_count": null,
            "_view_module": "@jupyter-widgets/controls",
            "_view_module_version": "1.5.0",
            "_view_name": "HTMLView",
            "description": "",
            "description_tooltip": null,
            "layout": "IPY_MODEL_f804bb37db584427b0a635fd1d013bd2",
            "placeholder": "​",
            "style": "IPY_MODEL_7c32619adffd43968e48849dc6e3d8ce",
            "value": "100%"
          }
        },
        "f0326c2591f5437abc8d30bf03e20191": {
          "model_module": "@jupyter-widgets/controls",
          "model_name": "FloatProgressModel",
          "model_module_version": "1.5.0",
          "state": {
            "_dom_classes": [],
            "_model_module": "@jupyter-widgets/controls",
            "_model_module_version": "1.5.0",
            "_model_name": "FloatProgressModel",
            "_view_count": null,
            "_view_module": "@jupyter-widgets/controls",
            "_view_module_version": "1.5.0",
            "_view_name": "ProgressView",
            "bar_style": "success",
            "description": "",
            "description_tooltip": null,
            "layout": "IPY_MODEL_2267ebfbd4ab4d43af16fca42423de73",
            "max": 1253472,
            "min": 0,
            "orientation": "horizontal",
            "style": "IPY_MODEL_2e53d5b8683d477a99d0abd6bde3c39e",
            "value": 1253472
          }
        },
        "5006a536270a4e78b13f8a0e16c3454e": {
          "model_module": "@jupyter-widgets/controls",
          "model_name": "HTMLModel",
          "model_module_version": "1.5.0",
          "state": {
            "_dom_classes": [],
            "_model_module": "@jupyter-widgets/controls",
            "_model_module_version": "1.5.0",
            "_model_name": "HTMLModel",
            "_view_count": null,
            "_view_module": "@jupyter-widgets/controls",
            "_view_module_version": "1.5.0",
            "_view_name": "HTMLView",
            "description": "",
            "description_tooltip": null,
            "layout": "IPY_MODEL_82ed8b3e14494ce38e800ec4e8222681",
            "placeholder": "​",
            "style": "IPY_MODEL_1997dd0cd83f46b5985e5eed51c028ba",
            "value": " 1253472/1253472 [00:01&lt;00:00, 1195407.79it/s]"
          }
        },
        "eae9722ce899462a8060dea0ddc15259": {
          "model_module": "@jupyter-widgets/base",
          "model_name": "LayoutModel",
          "model_module_version": "1.2.0",
          "state": {
            "_model_module": "@jupyter-widgets/base",
            "_model_module_version": "1.2.0",
            "_model_name": "LayoutModel",
            "_view_count": null,
            "_view_module": "@jupyter-widgets/base",
            "_view_module_version": "1.2.0",
            "_view_name": "LayoutView",
            "align_content": null,
            "align_items": null,
            "align_self": null,
            "border": null,
            "bottom": null,
            "display": null,
            "flex": null,
            "flex_flow": null,
            "grid_area": null,
            "grid_auto_columns": null,
            "grid_auto_flow": null,
            "grid_auto_rows": null,
            "grid_column": null,
            "grid_gap": null,
            "grid_row": null,
            "grid_template_areas": null,
            "grid_template_columns": null,
            "grid_template_rows": null,
            "height": null,
            "justify_content": null,
            "justify_items": null,
            "left": null,
            "margin": null,
            "max_height": null,
            "max_width": null,
            "min_height": null,
            "min_width": null,
            "object_fit": null,
            "object_position": null,
            "order": null,
            "overflow": null,
            "overflow_x": null,
            "overflow_y": null,
            "padding": null,
            "right": null,
            "top": null,
            "visibility": null,
            "width": null
          }
        },
        "f804bb37db584427b0a635fd1d013bd2": {
          "model_module": "@jupyter-widgets/base",
          "model_name": "LayoutModel",
          "model_module_version": "1.2.0",
          "state": {
            "_model_module": "@jupyter-widgets/base",
            "_model_module_version": "1.2.0",
            "_model_name": "LayoutModel",
            "_view_count": null,
            "_view_module": "@jupyter-widgets/base",
            "_view_module_version": "1.2.0",
            "_view_name": "LayoutView",
            "align_content": null,
            "align_items": null,
            "align_self": null,
            "border": null,
            "bottom": null,
            "display": null,
            "flex": null,
            "flex_flow": null,
            "grid_area": null,
            "grid_auto_columns": null,
            "grid_auto_flow": null,
            "grid_auto_rows": null,
            "grid_column": null,
            "grid_gap": null,
            "grid_row": null,
            "grid_template_areas": null,
            "grid_template_columns": null,
            "grid_template_rows": null,
            "height": null,
            "justify_content": null,
            "justify_items": null,
            "left": null,
            "margin": null,
            "max_height": null,
            "max_width": null,
            "min_height": null,
            "min_width": null,
            "object_fit": null,
            "object_position": null,
            "order": null,
            "overflow": null,
            "overflow_x": null,
            "overflow_y": null,
            "padding": null,
            "right": null,
            "top": null,
            "visibility": null,
            "width": null
          }
        },
        "7c32619adffd43968e48849dc6e3d8ce": {
          "model_module": "@jupyter-widgets/controls",
          "model_name": "DescriptionStyleModel",
          "model_module_version": "1.5.0",
          "state": {
            "_model_module": "@jupyter-widgets/controls",
            "_model_module_version": "1.5.0",
            "_model_name": "DescriptionStyleModel",
            "_view_count": null,
            "_view_module": "@jupyter-widgets/base",
            "_view_module_version": "1.2.0",
            "_view_name": "StyleView",
            "description_width": ""
          }
        },
        "2267ebfbd4ab4d43af16fca42423de73": {
          "model_module": "@jupyter-widgets/base",
          "model_name": "LayoutModel",
          "model_module_version": "1.2.0",
          "state": {
            "_model_module": "@jupyter-widgets/base",
            "_model_module_version": "1.2.0",
            "_model_name": "LayoutModel",
            "_view_count": null,
            "_view_module": "@jupyter-widgets/base",
            "_view_module_version": "1.2.0",
            "_view_name": "LayoutView",
            "align_content": null,
            "align_items": null,
            "align_self": null,
            "border": null,
            "bottom": null,
            "display": null,
            "flex": null,
            "flex_flow": null,
            "grid_area": null,
            "grid_auto_columns": null,
            "grid_auto_flow": null,
            "grid_auto_rows": null,
            "grid_column": null,
            "grid_gap": null,
            "grid_row": null,
            "grid_template_areas": null,
            "grid_template_columns": null,
            "grid_template_rows": null,
            "height": null,
            "justify_content": null,
            "justify_items": null,
            "left": null,
            "margin": null,
            "max_height": null,
            "max_width": null,
            "min_height": null,
            "min_width": null,
            "object_fit": null,
            "object_position": null,
            "order": null,
            "overflow": null,
            "overflow_x": null,
            "overflow_y": null,
            "padding": null,
            "right": null,
            "top": null,
            "visibility": null,
            "width": null
          }
        },
        "2e53d5b8683d477a99d0abd6bde3c39e": {
          "model_module": "@jupyter-widgets/controls",
          "model_name": "ProgressStyleModel",
          "model_module_version": "1.5.0",
          "state": {
            "_model_module": "@jupyter-widgets/controls",
            "_model_module_version": "1.5.0",
            "_model_name": "ProgressStyleModel",
            "_view_count": null,
            "_view_module": "@jupyter-widgets/base",
            "_view_module_version": "1.2.0",
            "_view_name": "StyleView",
            "bar_color": null,
            "description_width": ""
          }
        },
        "82ed8b3e14494ce38e800ec4e8222681": {
          "model_module": "@jupyter-widgets/base",
          "model_name": "LayoutModel",
          "model_module_version": "1.2.0",
          "state": {
            "_model_module": "@jupyter-widgets/base",
            "_model_module_version": "1.2.0",
            "_model_name": "LayoutModel",
            "_view_count": null,
            "_view_module": "@jupyter-widgets/base",
            "_view_module_version": "1.2.0",
            "_view_name": "LayoutView",
            "align_content": null,
            "align_items": null,
            "align_self": null,
            "border": null,
            "bottom": null,
            "display": null,
            "flex": null,
            "flex_flow": null,
            "grid_area": null,
            "grid_auto_columns": null,
            "grid_auto_flow": null,
            "grid_auto_rows": null,
            "grid_column": null,
            "grid_gap": null,
            "grid_row": null,
            "grid_template_areas": null,
            "grid_template_columns": null,
            "grid_template_rows": null,
            "height": null,
            "justify_content": null,
            "justify_items": null,
            "left": null,
            "margin": null,
            "max_height": null,
            "max_width": null,
            "min_height": null,
            "min_width": null,
            "object_fit": null,
            "object_position": null,
            "order": null,
            "overflow": null,
            "overflow_x": null,
            "overflow_y": null,
            "padding": null,
            "right": null,
            "top": null,
            "visibility": null,
            "width": null
          }
        },
        "1997dd0cd83f46b5985e5eed51c028ba": {
          "model_module": "@jupyter-widgets/controls",
          "model_name": "DescriptionStyleModel",
          "model_module_version": "1.5.0",
          "state": {
            "_model_module": "@jupyter-widgets/controls",
            "_model_module_version": "1.5.0",
            "_model_name": "DescriptionStyleModel",
            "_view_count": null,
            "_view_module": "@jupyter-widgets/base",
            "_view_module_version": "1.2.0",
            "_view_name": "StyleView",
            "description_width": ""
          }
        }
      }
    }
  },
  "cells": [
    {
      "cell_type": "markdown",
      "source": [
        "# Book Dataset Analysis\n",
        "\n",
        "A concise, insight-first exploration of a books dataset—covering inventory, authorship, categories, publication trends, and reader engagement. The notebook answers the following:\n",
        "\n",
        "\n",
        "![Alt text for the image](https://images.ctfassets.net/fi0zmnwlsnja/5kamkNPoauwtkBjgpl2jJW/d90b3d7716227313423422f01bde001c/viz-libraries-07.png?w=1296&h=810&q=50&fm=webp)\n",
        "\n",
        "\n",
        "## Objectives (Clear Questions)\n",
        "1. Total number of books.\n",
        "2. Top 25 categories by book count.\n",
        "3. Top 25 authors by number of books published.\n",
        "4. Yearly trend in books published (earliest → latest).\n",
        "5. Top 25 most common book titles.\n",
        "6. Top 25 authors by total pages written.\n",
        "7. Top 25 books by “want_to_read”.\n",
        "8. Top 25 books by “currently_reading”.\n",
        "9. Top 25 books by “have_read”.\n",
        "10. Top 25 authors by “want_to_read”, “currently_reading”, and “have_read”.\n",
        "\n",
        "---\n",
        "\n",
        "\n",
        "\n",
        "## Data Preview (5 rows)\n",
        "\n",
        "| title                                               | author                    | category      | publish_year             | reading_stats                                     |\n",
        "|-----------------------------------------------------|---------------------------|---------------|--------------------------|---------------------------------------------------|\n",
        "| Grasping the Changing World                         | Vaclav Hubinger           | anthropology  | First published in 2002  | 0 Want to read \\| 0 Currently reading \\| 0 Have read |\n",
        "| Design Anthropology in Context                      | Adam Drazin               | anthropology  | First published in 2020  | 0 Want to read \\| 0 Currently reading \\| 0 Have read |\n",
        "| Transculture, Société et Savoirs Dans les Amériques | Adina Balint              | anthropology  | First published in 2017  | 0 Want to read \\| 0 Currently reading \\| 0 Have read |\n",
        "| Methods and Data Analysis for Cross-Cultural R...   | Fons J. R. van de Vijver  | anthropology  | First published in 2021  | 0 Want to read \\| 0 Currently reading \\| 0 Have read |\n",
        "| Redefining Nature                                   | R. F. Ellen               | anthropology  | First published in 2021  | 0 Want to read \\| 0 Currently reading \\| 0 Have read |\n",
        "\n",
        "---"
      ],
      "metadata": {
        "id": "HlQqnUbaDlp2"
      }
    },
    {
      "cell_type": "markdown",
      "source": [],
      "metadata": {
        "id": "NnVlfih8s23T"
      }
    },
    {
      "cell_type": "markdown",
      "source": [
        "### 1. Importing Libraries & Data Loading"
      ],
      "metadata": {
        "id": "JI-MQIZQ96vT"
      }
    },
    {
      "cell_type": "code",
      "source": [
        "!git clone https://github.com/AshishJangra27/datasets\n",
        "\n",
        "import os\n",
        "import numpy as np\n",
        "import pandas as pd\n",
        "from tqdm.auto import tqdm\n",
        "\n",
        "data = pd.DataFrame()\n",
        "\n",
        "for file in tqdm(os.listdir('/content/datasets/OpenBook')):\n",
        "\n",
        "  file_path = '/content/datasets/OpenBook/' + file\n",
        "  df = pd.read_csv(file_path)\n",
        "  data = pd.concat([data, df], ignore_index=True)\n",
        "\n",
        "data.head()"
      ],
      "metadata": {
        "colab": {
          "base_uri": "https://localhost:8080/",
          "height": 0,
          "referenced_widgets": [
            "a605c70db4bd4839b76f35fad471e4e9",
            "6df921d531704f41aaf658ca11c7f193",
            "96911df6bb9d4f239392181c53bb28a7",
            "7552226521484aee8be09b2da60f6836",
            "a356a79c7ef24eafa7ce644d34ef03bf",
            "24770f18dded4939bbe131786272cebd",
            "d76f482236f043b3bd60c3710bf80cc9",
            "fd4b4f6b23354b4da151b843c3214aaa",
            "9c05ef6c93a0439f824a46e21c008067",
            "f1ef59578e5543a48e5c22d13e1348b1",
            "0465cd630a694659a7a53b2c8ecaf100"
          ]
        },
        "id": "lS5Y8VQ390IT",
        "outputId": "5ab6e592-264e-4e1c-bbcd-67f2ab6a1668"
      },
      "execution_count": 1,
      "outputs": [
        {
          "output_type": "stream",
          "name": "stdout",
          "text": [
            "Cloning into 'datasets'...\n",
            "remote: Enumerating objects: 344, done.\u001b[K\n",
            "remote: Counting objects: 100% (109/109), done.\u001b[K\n",
            "remote: Compressing objects: 100% (98/98), done.\u001b[K\n",
            "remote: Total 344 (delta 23), reused 54 (delta 9), pack-reused 235 (from 1)\u001b[K\n",
            "Receiving objects: 100% (344/344), 280.65 MiB | 16.12 MiB/s, done.\n",
            "Resolving deltas: 100% (149/149), done.\n",
            "Updating files: 100% (231/231), done.\n"
          ]
        },
        {
          "output_type": "display_data",
          "data": {
            "text/plain": [
              "  0%|          | 0/141 [00:00<?, ?it/s]"
            ],
            "application/vnd.jupyter.widget-view+json": {
              "version_major": 2,
              "version_minor": 0,
              "model_id": "a605c70db4bd4839b76f35fad471e4e9"
            }
          },
          "metadata": {}
        },
        {
          "output_type": "execute_result",
          "data": {
            "text/plain": [
              "                                             title              author  \\\n",
              "0  Intellectual roots of entrepreneurship research      Hans Landström   \n",
              "1                          Le ali della creatività      Paolo Smoglica   \n",
              "2                        Minority Entrepreneurship       Timothy Bates   \n",
              "3                                  Uvolʹte sebi͡a!  Robert T. Kiyosaki   \n",
              "4                        Entrepreneurial Marketing      Ian Chaston Dr   \n",
              "\n",
              "           category             publish_year  \\\n",
              "0  entrepreneurship  First published in 2012   \n",
              "1  entrepreneurship  First published in 2013   \n",
              "2  entrepreneurship  First published in 2011   \n",
              "3  entrepreneurship  First published in 2015   \n",
              "4  entrepreneurship  First published in 2015   \n",
              "\n",
              "                                            title_id  \\\n",
              "0                                 /works/OL23256851W   \n",
              "1  /works/OL23146095W?edition=ia%3Alealidellacrea...   \n",
              "2                                 /works/OL21366194W   \n",
              "3  /works/OL21242135W?edition=ia%3Auvoltesebia000...   \n",
              "4                                 /works/OL20680990W   \n",
              "\n",
              "                               author_id  \\\n",
              "0     /authors/OL6843420A/Hans_Landström   \n",
              "1     /authors/OL8774858A/Paolo_Smoglica   \n",
              "2      /authors/OL8079333A/Timothy_Bates   \n",
              "3  /authors/OL242220A/Robert_T._Kiyosaki   \n",
              "4     /authors/OL7845855A/Ian_Chaston_Dr   \n",
              "\n",
              "                                           cover_url  \\\n",
              "0                   /images/icons/avatar_book-sm.png   \n",
              "1  //covers.openlibrary.org/b/olid/OL30984745M-M.jpg   \n",
              "2                   /images/icons/avatar_book-sm.png   \n",
              "3  //covers.openlibrary.org/b/olid/OL28757898M-M.jpg   \n",
              "4  //covers.openlibrary.org/b/olid/OL27964087M-M.jpg   \n",
              "\n",
              "                                          book_stats  \\\n",
              "0  Publish Date 2012|Publisher  Edward Elgar Pub....   \n",
              "1  Publish Date 2013|Publisher  Rubbettino|Langua...   \n",
              "2  Publish Date 2011|Publisher  Now Publishers|La...   \n",
              "3  Publish Date 2015|Publisher  Popurri|Language ...   \n",
              "4  Publish Date Nov 03, 2015|Publisher  Palgrave ...   \n",
              "\n",
              "                                        descriptions  \\\n",
              "0  This edition doesn't have a description yet. C...   \n",
              "1  This edition doesn't have a description yet. C...   \n",
              "2  This edition doesn't have a description yet. C...   \n",
              "3  This edition doesn't have a description yet. C...   \n",
              "4  This edition doesn't have a description yet. C...   \n",
              "\n",
              "                                    reading_stats  \n",
              "0  0 Want to read|0 Currently reading|0 Have read  \n",
              "1  0 Want to read|0 Currently reading|0 Have read  \n",
              "2  0 Want to read|0 Currently reading|0 Have read  \n",
              "3  0 Want to read|0 Currently reading|0 Have read  \n",
              "4  0 Want to read|0 Currently reading|0 Have read  "
            ],
            "text/html": [
              "\n",
              "  <div id=\"df-99c98cbb-8853-4d59-a0aa-539f99ad20e2\" class=\"colab-df-container\">\n",
              "    <div>\n",
              "<style scoped>\n",
              "    .dataframe tbody tr th:only-of-type {\n",
              "        vertical-align: middle;\n",
              "    }\n",
              "\n",
              "    .dataframe tbody tr th {\n",
              "        vertical-align: top;\n",
              "    }\n",
              "\n",
              "    .dataframe thead th {\n",
              "        text-align: right;\n",
              "    }\n",
              "</style>\n",
              "<table border=\"1\" class=\"dataframe\">\n",
              "  <thead>\n",
              "    <tr style=\"text-align: right;\">\n",
              "      <th></th>\n",
              "      <th>title</th>\n",
              "      <th>author</th>\n",
              "      <th>category</th>\n",
              "      <th>publish_year</th>\n",
              "      <th>title_id</th>\n",
              "      <th>author_id</th>\n",
              "      <th>cover_url</th>\n",
              "      <th>book_stats</th>\n",
              "      <th>descriptions</th>\n",
              "      <th>reading_stats</th>\n",
              "    </tr>\n",
              "  </thead>\n",
              "  <tbody>\n",
              "    <tr>\n",
              "      <th>0</th>\n",
              "      <td>Intellectual roots of entrepreneurship research</td>\n",
              "      <td>Hans Landström</td>\n",
              "      <td>entrepreneurship</td>\n",
              "      <td>First published in 2012</td>\n",
              "      <td>/works/OL23256851W</td>\n",
              "      <td>/authors/OL6843420A/Hans_Landström</td>\n",
              "      <td>/images/icons/avatar_book-sm.png</td>\n",
              "      <td>Publish Date 2012|Publisher  Edward Elgar Pub....</td>\n",
              "      <td>This edition doesn't have a description yet. C...</td>\n",
              "      <td>0 Want to read|0 Currently reading|0 Have read</td>\n",
              "    </tr>\n",
              "    <tr>\n",
              "      <th>1</th>\n",
              "      <td>Le ali della creatività</td>\n",
              "      <td>Paolo Smoglica</td>\n",
              "      <td>entrepreneurship</td>\n",
              "      <td>First published in 2013</td>\n",
              "      <td>/works/OL23146095W?edition=ia%3Alealidellacrea...</td>\n",
              "      <td>/authors/OL8774858A/Paolo_Smoglica</td>\n",
              "      <td>//covers.openlibrary.org/b/olid/OL30984745M-M.jpg</td>\n",
              "      <td>Publish Date 2013|Publisher  Rubbettino|Langua...</td>\n",
              "      <td>This edition doesn't have a description yet. C...</td>\n",
              "      <td>0 Want to read|0 Currently reading|0 Have read</td>\n",
              "    </tr>\n",
              "    <tr>\n",
              "      <th>2</th>\n",
              "      <td>Minority Entrepreneurship</td>\n",
              "      <td>Timothy Bates</td>\n",
              "      <td>entrepreneurship</td>\n",
              "      <td>First published in 2011</td>\n",
              "      <td>/works/OL21366194W</td>\n",
              "      <td>/authors/OL8079333A/Timothy_Bates</td>\n",
              "      <td>/images/icons/avatar_book-sm.png</td>\n",
              "      <td>Publish Date 2011|Publisher  Now Publishers|La...</td>\n",
              "      <td>This edition doesn't have a description yet. C...</td>\n",
              "      <td>0 Want to read|0 Currently reading|0 Have read</td>\n",
              "    </tr>\n",
              "    <tr>\n",
              "      <th>3</th>\n",
              "      <td>Uvolʹte sebi͡a!</td>\n",
              "      <td>Robert T. Kiyosaki</td>\n",
              "      <td>entrepreneurship</td>\n",
              "      <td>First published in 2015</td>\n",
              "      <td>/works/OL21242135W?edition=ia%3Auvoltesebia000...</td>\n",
              "      <td>/authors/OL242220A/Robert_T._Kiyosaki</td>\n",
              "      <td>//covers.openlibrary.org/b/olid/OL28757898M-M.jpg</td>\n",
              "      <td>Publish Date 2015|Publisher  Popurri|Language ...</td>\n",
              "      <td>This edition doesn't have a description yet. C...</td>\n",
              "      <td>0 Want to read|0 Currently reading|0 Have read</td>\n",
              "    </tr>\n",
              "    <tr>\n",
              "      <th>4</th>\n",
              "      <td>Entrepreneurial Marketing</td>\n",
              "      <td>Ian Chaston Dr</td>\n",
              "      <td>entrepreneurship</td>\n",
              "      <td>First published in 2015</td>\n",
              "      <td>/works/OL20680990W</td>\n",
              "      <td>/authors/OL7845855A/Ian_Chaston_Dr</td>\n",
              "      <td>//covers.openlibrary.org/b/olid/OL27964087M-M.jpg</td>\n",
              "      <td>Publish Date Nov 03, 2015|Publisher  Palgrave ...</td>\n",
              "      <td>This edition doesn't have a description yet. C...</td>\n",
              "      <td>0 Want to read|0 Currently reading|0 Have read</td>\n",
              "    </tr>\n",
              "  </tbody>\n",
              "</table>\n",
              "</div>\n",
              "    <div class=\"colab-df-buttons\">\n",
              "\n",
              "  <div class=\"colab-df-container\">\n",
              "    <button class=\"colab-df-convert\" onclick=\"convertToInteractive('df-99c98cbb-8853-4d59-a0aa-539f99ad20e2')\"\n",
              "            title=\"Convert this dataframe to an interactive table.\"\n",
              "            style=\"display:none;\">\n",
              "\n",
              "  <svg xmlns=\"http://www.w3.org/2000/svg\" height=\"24px\" viewBox=\"0 -960 960 960\">\n",
              "    <path d=\"M120-120v-720h720v720H120Zm60-500h600v-160H180v160Zm220 220h160v-160H400v160Zm0 220h160v-160H400v160ZM180-400h160v-160H180v160Zm440 0h160v-160H620v160ZM180-180h160v-160H180v160Zm440 0h160v-160H620v160Z\"/>\n",
              "  </svg>\n",
              "    </button>\n",
              "\n",
              "  <style>\n",
              "    .colab-df-container {\n",
              "      display:flex;\n",
              "      gap: 12px;\n",
              "    }\n",
              "\n",
              "    .colab-df-convert {\n",
              "      background-color: #E8F0FE;\n",
              "      border: none;\n",
              "      border-radius: 50%;\n",
              "      cursor: pointer;\n",
              "      display: none;\n",
              "      fill: #1967D2;\n",
              "      height: 32px;\n",
              "      padding: 0 0 0 0;\n",
              "      width: 32px;\n",
              "    }\n",
              "\n",
              "    .colab-df-convert:hover {\n",
              "      background-color: #E2EBFA;\n",
              "      box-shadow: 0px 1px 2px rgba(60, 64, 67, 0.3), 0px 1px 3px 1px rgba(60, 64, 67, 0.15);\n",
              "      fill: #174EA6;\n",
              "    }\n",
              "\n",
              "    .colab-df-buttons div {\n",
              "      margin-bottom: 4px;\n",
              "    }\n",
              "\n",
              "    [theme=dark] .colab-df-convert {\n",
              "      background-color: #3B4455;\n",
              "      fill: #D2E3FC;\n",
              "    }\n",
              "\n",
              "    [theme=dark] .colab-df-convert:hover {\n",
              "      background-color: #434B5C;\n",
              "      box-shadow: 0px 1px 3px 1px rgba(0, 0, 0, 0.15);\n",
              "      filter: drop-shadow(0px 1px 2px rgba(0, 0, 0, 0.3));\n",
              "      fill: #FFFFFF;\n",
              "    }\n",
              "  </style>\n",
              "\n",
              "    <script>\n",
              "      const buttonEl =\n",
              "        document.querySelector('#df-99c98cbb-8853-4d59-a0aa-539f99ad20e2 button.colab-df-convert');\n",
              "      buttonEl.style.display =\n",
              "        google.colab.kernel.accessAllowed ? 'block' : 'none';\n",
              "\n",
              "      async function convertToInteractive(key) {\n",
              "        const element = document.querySelector('#df-99c98cbb-8853-4d59-a0aa-539f99ad20e2');\n",
              "        const dataTable =\n",
              "          await google.colab.kernel.invokeFunction('convertToInteractive',\n",
              "                                                    [key], {});\n",
              "        if (!dataTable) return;\n",
              "\n",
              "        const docLinkHtml = 'Like what you see? Visit the ' +\n",
              "          '<a target=\"_blank\" href=https://colab.research.google.com/notebooks/data_table.ipynb>data table notebook</a>'\n",
              "          + ' to learn more about interactive tables.';\n",
              "        element.innerHTML = '';\n",
              "        dataTable['output_type'] = 'display_data';\n",
              "        await google.colab.output.renderOutput(dataTable, element);\n",
              "        const docLink = document.createElement('div');\n",
              "        docLink.innerHTML = docLinkHtml;\n",
              "        element.appendChild(docLink);\n",
              "      }\n",
              "    </script>\n",
              "  </div>\n",
              "\n",
              "\n",
              "    <div id=\"df-9ae6d8f4-18f8-49dc-b867-d8afbea98e5a\">\n",
              "      <button class=\"colab-df-quickchart\" onclick=\"quickchart('df-9ae6d8f4-18f8-49dc-b867-d8afbea98e5a')\"\n",
              "                title=\"Suggest charts\"\n",
              "                style=\"display:none;\">\n",
              "\n",
              "<svg xmlns=\"http://www.w3.org/2000/svg\" height=\"24px\"viewBox=\"0 0 24 24\"\n",
              "     width=\"24px\">\n",
              "    <g>\n",
              "        <path d=\"M19 3H5c-1.1 0-2 .9-2 2v14c0 1.1.9 2 2 2h14c1.1 0 2-.9 2-2V5c0-1.1-.9-2-2-2zM9 17H7v-7h2v7zm4 0h-2V7h2v10zm4 0h-2v-4h2v4z\"/>\n",
              "    </g>\n",
              "</svg>\n",
              "      </button>\n",
              "\n",
              "<style>\n",
              "  .colab-df-quickchart {\n",
              "      --bg-color: #E8F0FE;\n",
              "      --fill-color: #1967D2;\n",
              "      --hover-bg-color: #E2EBFA;\n",
              "      --hover-fill-color: #174EA6;\n",
              "      --disabled-fill-color: #AAA;\n",
              "      --disabled-bg-color: #DDD;\n",
              "  }\n",
              "\n",
              "  [theme=dark] .colab-df-quickchart {\n",
              "      --bg-color: #3B4455;\n",
              "      --fill-color: #D2E3FC;\n",
              "      --hover-bg-color: #434B5C;\n",
              "      --hover-fill-color: #FFFFFF;\n",
              "      --disabled-bg-color: #3B4455;\n",
              "      --disabled-fill-color: #666;\n",
              "  }\n",
              "\n",
              "  .colab-df-quickchart {\n",
              "    background-color: var(--bg-color);\n",
              "    border: none;\n",
              "    border-radius: 50%;\n",
              "    cursor: pointer;\n",
              "    display: none;\n",
              "    fill: var(--fill-color);\n",
              "    height: 32px;\n",
              "    padding: 0;\n",
              "    width: 32px;\n",
              "  }\n",
              "\n",
              "  .colab-df-quickchart:hover {\n",
              "    background-color: var(--hover-bg-color);\n",
              "    box-shadow: 0 1px 2px rgba(60, 64, 67, 0.3), 0 1px 3px 1px rgba(60, 64, 67, 0.15);\n",
              "    fill: var(--button-hover-fill-color);\n",
              "  }\n",
              "\n",
              "  .colab-df-quickchart-complete:disabled,\n",
              "  .colab-df-quickchart-complete:disabled:hover {\n",
              "    background-color: var(--disabled-bg-color);\n",
              "    fill: var(--disabled-fill-color);\n",
              "    box-shadow: none;\n",
              "  }\n",
              "\n",
              "  .colab-df-spinner {\n",
              "    border: 2px solid var(--fill-color);\n",
              "    border-color: transparent;\n",
              "    border-bottom-color: var(--fill-color);\n",
              "    animation:\n",
              "      spin 1s steps(1) infinite;\n",
              "  }\n",
              "\n",
              "  @keyframes spin {\n",
              "    0% {\n",
              "      border-color: transparent;\n",
              "      border-bottom-color: var(--fill-color);\n",
              "      border-left-color: var(--fill-color);\n",
              "    }\n",
              "    20% {\n",
              "      border-color: transparent;\n",
              "      border-left-color: var(--fill-color);\n",
              "      border-top-color: var(--fill-color);\n",
              "    }\n",
              "    30% {\n",
              "      border-color: transparent;\n",
              "      border-left-color: var(--fill-color);\n",
              "      border-top-color: var(--fill-color);\n",
              "      border-right-color: var(--fill-color);\n",
              "    }\n",
              "    40% {\n",
              "      border-color: transparent;\n",
              "      border-right-color: var(--fill-color);\n",
              "      border-top-color: var(--fill-color);\n",
              "    }\n",
              "    60% {\n",
              "      border-color: transparent;\n",
              "      border-right-color: var(--fill-color);\n",
              "    }\n",
              "    80% {\n",
              "      border-color: transparent;\n",
              "      border-right-color: var(--fill-color);\n",
              "      border-bottom-color: var(--fill-color);\n",
              "    }\n",
              "    90% {\n",
              "      border-color: transparent;\n",
              "      border-bottom-color: var(--fill-color);\n",
              "    }\n",
              "  }\n",
              "</style>\n",
              "\n",
              "      <script>\n",
              "        async function quickchart(key) {\n",
              "          const quickchartButtonEl =\n",
              "            document.querySelector('#' + key + ' button');\n",
              "          quickchartButtonEl.disabled = true;  // To prevent multiple clicks.\n",
              "          quickchartButtonEl.classList.add('colab-df-spinner');\n",
              "          try {\n",
              "            const charts = await google.colab.kernel.invokeFunction(\n",
              "                'suggestCharts', [key], {});\n",
              "          } catch (error) {\n",
              "            console.error('Error during call to suggestCharts:', error);\n",
              "          }\n",
              "          quickchartButtonEl.classList.remove('colab-df-spinner');\n",
              "          quickchartButtonEl.classList.add('colab-df-quickchart-complete');\n",
              "        }\n",
              "        (() => {\n",
              "          let quickchartButtonEl =\n",
              "            document.querySelector('#df-9ae6d8f4-18f8-49dc-b867-d8afbea98e5a button');\n",
              "          quickchartButtonEl.style.display =\n",
              "            google.colab.kernel.accessAllowed ? 'block' : 'none';\n",
              "        })();\n",
              "      </script>\n",
              "    </div>\n",
              "\n",
              "    </div>\n",
              "  </div>\n"
            ],
            "application/vnd.google.colaboratory.intrinsic+json": {
              "type": "dataframe",
              "variable_name": "data"
            }
          },
          "metadata": {},
          "execution_count": 1
        }
      ]
    },
    {
      "cell_type": "markdown",
      "source": [
        "### 2. Data Exploration"
      ],
      "metadata": {
        "id": "2HxbaeYI-JcI"
      }
    },
    {
      "cell_type": "markdown",
      "source": [
        "#### 2.1) Check Null Values"
      ],
      "metadata": {
        "id": "VTNZdFvV-MSc"
      }
    },
    {
      "cell_type": "code",
      "source": [
        "data.isnull().sum()"
      ],
      "metadata": {
        "colab": {
          "base_uri": "https://localhost:8080/",
          "height": 0
        },
        "id": "CSX5QhAF-LvU",
        "outputId": "2afa3353-43e3-4ebf-e53f-42b08327455b"
      },
      "execution_count": 2,
      "outputs": [
        {
          "output_type": "execute_result",
          "data": {
            "text/plain": [
              "title                1\n",
              "author           65295\n",
              "category             0\n",
              "publish_year      9813\n",
              "title_id             0\n",
              "author_id        64833\n",
              "cover_url            0\n",
              "book_stats        3822\n",
              "descriptions      2780\n",
              "reading_stats     2780\n",
              "dtype: int64"
            ],
            "text/html": [
              "<div>\n",
              "<style scoped>\n",
              "    .dataframe tbody tr th:only-of-type {\n",
              "        vertical-align: middle;\n",
              "    }\n",
              "\n",
              "    .dataframe tbody tr th {\n",
              "        vertical-align: top;\n",
              "    }\n",
              "\n",
              "    .dataframe thead th {\n",
              "        text-align: right;\n",
              "    }\n",
              "</style>\n",
              "<table border=\"1\" class=\"dataframe\">\n",
              "  <thead>\n",
              "    <tr style=\"text-align: right;\">\n",
              "      <th></th>\n",
              "      <th>0</th>\n",
              "    </tr>\n",
              "  </thead>\n",
              "  <tbody>\n",
              "    <tr>\n",
              "      <th>title</th>\n",
              "      <td>1</td>\n",
              "    </tr>\n",
              "    <tr>\n",
              "      <th>author</th>\n",
              "      <td>65295</td>\n",
              "    </tr>\n",
              "    <tr>\n",
              "      <th>category</th>\n",
              "      <td>0</td>\n",
              "    </tr>\n",
              "    <tr>\n",
              "      <th>publish_year</th>\n",
              "      <td>9813</td>\n",
              "    </tr>\n",
              "    <tr>\n",
              "      <th>title_id</th>\n",
              "      <td>0</td>\n",
              "    </tr>\n",
              "    <tr>\n",
              "      <th>author_id</th>\n",
              "      <td>64833</td>\n",
              "    </tr>\n",
              "    <tr>\n",
              "      <th>cover_url</th>\n",
              "      <td>0</td>\n",
              "    </tr>\n",
              "    <tr>\n",
              "      <th>book_stats</th>\n",
              "      <td>3822</td>\n",
              "    </tr>\n",
              "    <tr>\n",
              "      <th>descriptions</th>\n",
              "      <td>2780</td>\n",
              "    </tr>\n",
              "    <tr>\n",
              "      <th>reading_stats</th>\n",
              "      <td>2780</td>\n",
              "    </tr>\n",
              "  </tbody>\n",
              "</table>\n",
              "</div><br><label><b>dtype:</b> int64</label>"
            ]
          },
          "metadata": {},
          "execution_count": 2
        }
      ]
    },
    {
      "cell_type": "markdown",
      "source": [
        "#### 2.2) Check Duplicate Values"
      ],
      "metadata": {
        "id": "MI8tBpI9-T8i"
      }
    },
    {
      "cell_type": "code",
      "source": [
        "print('Duplicated based on ID : ',len(data) - data['title_id'].str.split('?').str[0].str.split('/').str[-1].nunique())"
      ],
      "metadata": {
        "colab": {
          "base_uri": "https://localhost:8080/"
        },
        "id": "a6MzG79d-WLq",
        "outputId": "7f4470b1-9511-4a7a-df8d-1ba538ba9cf8"
      },
      "execution_count": 3,
      "outputs": [
        {
          "output_type": "stream",
          "name": "stdout",
          "text": [
            "Duplicated based on ID :  10102\n"
          ]
        }
      ]
    },
    {
      "cell_type": "markdown",
      "source": [
        "### 3. Data Cleaning"
      ],
      "metadata": {
        "id": "789N_TIO-aV7"
      }
    },
    {
      "cell_type": "markdown",
      "source": [
        "#### 3.1) Remove Columns"
      ],
      "metadata": {
        "id": "jR4Kgdg1FDja"
      }
    },
    {
      "cell_type": "code",
      "source": [
        "del data['descriptions']\n",
        "del data['cover_url']"
      ],
      "metadata": {
        "id": "-iMA35ckFGr8"
      },
      "execution_count": 4,
      "outputs": []
    },
    {
      "cell_type": "markdown",
      "source": [
        "#### 3.2) Remove Null Values"
      ],
      "metadata": {
        "id": "cahPvbGa-fUY"
      }
    },
    {
      "cell_type": "code",
      "source": [
        "data = data.dropna()"
      ],
      "metadata": {
        "id": "PNec_kRS-b4t"
      },
      "execution_count": 5,
      "outputs": []
    },
    {
      "cell_type": "markdown",
      "source": [
        "#### 3.3) Remove Duplicate Values"
      ],
      "metadata": {
        "id": "WKbe_DZo-irm"
      }
    },
    {
      "cell_type": "code",
      "source": [
        "data['title_id'] = data['title_id'].str.split('?').str[0].str.split('/').str[-1]\n",
        "\n",
        "data = data.drop_duplicates(subset=['title_id'])"
      ],
      "metadata": {
        "id": "U_6eMBt8MoNa"
      },
      "execution_count": 6,
      "outputs": []
    },
    {
      "cell_type": "markdown",
      "source": [
        "#### 3.4) Clean Publish Years Column and change its datatype top int"
      ],
      "metadata": {
        "id": "nbIZZG6v-ka8"
      }
    },
    {
      "cell_type": "code",
      "source": [
        "data['publish_year'] = data['publish_year'].str.split(' ').str[-1].astype(int)\n",
        "\n",
        "data = data[(data['publish_year'] < 2024) & (data['publish_year'] > 1200)]"
      ],
      "metadata": {
        "id": "HFcd2mZH-oPn"
      },
      "execution_count": null,
      "outputs": []
    },
    {
      "cell_type": "markdown",
      "source": [
        "#### 3.5) Clean author ID"
      ],
      "metadata": {
        "id": "RyStA02fKEwc"
      }
    },
    {
      "cell_type": "code",
      "source": [
        "data['author_id'] = data['author_id'].str.split('/').str[2]"
      ],
      "metadata": {
        "id": "AECv0sl0NpIo"
      },
      "execution_count": 8,
      "outputs": []
    },
    {
      "cell_type": "markdown",
      "source": [
        "#### 3.6) Extract no of pages from book_stats"
      ],
      "metadata": {
        "id": "hDeLopw1KSDO"
      }
    },
    {
      "cell_type": "code",
      "source": [
        "pages = []\n",
        "\n",
        "for page in data['book_stats'].str.split('|').str[-1].str.split(' ').str[-1]:\n",
        "\n",
        "  try:\n",
        "    pages.append(int(page))\n",
        "  except:\n",
        "    pages.append(0)\n",
        "\n",
        "data['pages'] = pages\n",
        "\n",
        "del data['book_stats']"
      ],
      "metadata": {
        "colab": {
          "base_uri": "https://localhost:8080/",
          "height": 0,
          "referenced_widgets": [
            "801bfa14f4aa4ae084d6494bd9906a46",
            "07382e34ab3a4e86b2d950fcb5c5e634",
            "f0326c2591f5437abc8d30bf03e20191",
            "5006a536270a4e78b13f8a0e16c3454e",
            "eae9722ce899462a8060dea0ddc15259",
            "f804bb37db584427b0a635fd1d013bd2",
            "7c32619adffd43968e48849dc6e3d8ce",
            "2267ebfbd4ab4d43af16fca42423de73",
            "2e53d5b8683d477a99d0abd6bde3c39e",
            "82ed8b3e14494ce38e800ec4e8222681",
            "1997dd0cd83f46b5985e5eed51c028ba"
          ]
        },
        "id": "I7L1fyP7KR1a",
        "outputId": "0311fac9-6525-4d8e-f668-dcf4a22825b1"
      },
      "execution_count": 9,
      "outputs": [
        {
          "output_type": "display_data",
          "data": {
            "text/plain": [
              "  0%|          | 0/1253472 [00:00<?, ?it/s]"
            ],
            "application/vnd.jupyter.widget-view+json": {
              "version_major": 2,
              "version_minor": 0,
              "model_id": "801bfa14f4aa4ae084d6494bd9906a46"
            }
          },
          "metadata": {}
        }
      ]
    },
    {
      "cell_type": "markdown",
      "source": [
        "#### 3.7) Create want_to_read, currently_reading, have_read column from reading_stats"
      ],
      "metadata": {
        "id": "WGAptEWaKauc"
      }
    },
    {
      "cell_type": "code",
      "source": [
        "data['want_to_read']      = data['reading_stats'].str.split('|').str[0].str.split(' ').str[0].astype(int)\n",
        "data['currently_reading'] = data['reading_stats'].str.split('|').str[1].str.split(' ').str[0].astype(int)\n",
        "data['have_read']         = data['reading_stats'].str.split('|').str[2].str.split(' ').str[0].astype(int)\n",
        "\n",
        "del data['reading_stats']"
      ],
      "metadata": {
        "id": "nH_1zInoKbLa"
      },
      "execution_count": 10,
      "outputs": []
    },
    {
      "cell_type": "markdown",
      "source": [
        "### 4. Data Analysis"
      ],
      "metadata": {
        "id": "lKqfXfTu-oma"
      }
    },
    {
      "cell_type": "markdown",
      "source": [
        "#### 4.1) Total number of books"
      ],
      "metadata": {
        "id": "q4zMhvEp-sW2"
      }
    },
    {
      "cell_type": "code",
      "source": [
        "data['title_id'].nunique()"
      ],
      "metadata": {
        "colab": {
          "base_uri": "https://localhost:8080/"
        },
        "id": "aV7EMd9jQR7J",
        "outputId": "2c0dc82b-e5ee-4935-f357-57661cfa9519"
      },
      "execution_count": 31,
      "outputs": [
        {
          "output_type": "execute_result",
          "data": {
            "text/plain": [
              "1252375"
            ]
          },
          "metadata": {},
          "execution_count": 31
        }
      ]
    },
    {
      "cell_type": "markdown",
      "source": [
        "#### 4.2) Top 25 categories by book count"
      ],
      "metadata": {
        "id": "CjE0mukmEsQz"
      }
    },
    {
      "cell_type": "code",
      "source": [
        "data['category'].value_counts().head(25)"
      ],
      "metadata": {
        "id": "43tAiwPvYwGU"
      },
      "execution_count": null,
      "outputs": []
    },
    {
      "cell_type": "code",
      "source": [
        "import plotly.express as px\n",
        "\n",
        "category_counts = data['category'].value_counts().head(25).reset_index()\n",
        "category_counts.columns = ['category', 'count']\n",
        "\n",
        "fig = px.bar(category_counts,\n",
        "             x='count',\n",
        "             y='category',\n",
        "             orientation='h',\n",
        "             title='Top 25 Categories by Book Count',\n",
        "             template='plotly_dark', # Use plotly_dark template\n",
        "             color='count', # Use the count column to determine color\n",
        "             color_continuous_scale='Blues') # Use a blue color scale\n",
        "\n",
        "fig.update_layout(yaxis={'categoryorder':'total ascending'}, height=800) # Order bars by count and set height\n",
        "fig.show()"
      ],
      "metadata": {
        "colab": {
          "base_uri": "https://localhost:8080/",
          "height": 817
        },
        "id": "PFdkHqIeEuGz",
        "outputId": "cb147640-9096-4b26-fd30-f8045da71ab5"
      },
      "execution_count": 70,
      "outputs": [
        {
          "output_type": "display_data",
          "data": {
            "text/html": [
              "<html>\n",
              "<head><meta charset=\"utf-8\" /></head>\n",
              "<body>\n",
              "    <div>            <script src=\"https://cdnjs.cloudflare.com/ajax/libs/mathjax/2.7.5/MathJax.js?config=TeX-AMS-MML_SVG\"></script><script type=\"text/javascript\">if (window.MathJax && window.MathJax.Hub && window.MathJax.Hub.Config) {window.MathJax.Hub.Config({SVG: {font: \"STIX-Web\"}});}</script>                <script type=\"text/javascript\">window.PlotlyConfig = {MathJaxConfig: 'local'};</script>\n",
              "        <script charset=\"utf-8\" src=\"https://cdn.plot.ly/plotly-2.24.1.min.js\"></script>                <div id=\"43460037-570d-4085-a25a-666e2075f415\" class=\"plotly-graph-div\" style=\"height:800px; width:100%;\"></div>            <script type=\"text/javascript\">                                    window.PLOTLYENV=window.PLOTLYENV || {};                                    if (document.getElementById(\"43460037-570d-4085-a25a-666e2075f415\")) {                    Plotly.newPlot(                        \"43460037-570d-4085-a25a-666e2075f415\",                        [{\"alignmentgroup\":\"True\",\"hovertemplate\":\"count=%{marker.color}\\u003cbr\\u003ecategory=%{y}\\u003cextra\\u003e\\u003c\\u002fextra\\u003e\",\"legendgroup\":\"\",\"marker\":{\"color\":[257536,81909,74507,71626,66267,66171,64987,52027,47690,32990,24866,23832,23781,20931,20375,20029,19512,17636,15724,15704,14940,14291,13865,13826,13113],\"coloraxis\":\"coloraxis\",\"pattern\":{\"shape\":\"\"}},\"name\":\"\",\"offsetgroup\":\"\",\"orientation\":\"h\",\"showlegend\":false,\"textposition\":\"auto\",\"x\":[257536,81909,74507,71626,66267,66171,64987,52027,47690,32990,24866,23832,23781,20931,20375,20029,19512,17636,15724,15704,14940,14291,13865,13826,13113],\"xaxis\":\"x\",\"y\":[\"juvenile_literature\",\"management\",\"poetry\",\"religion\",\"psychology\",\"music\",\"finance\",\"political_science\",\"mathematics\",\"cooking\",\"business__economics\",\"literature\",\"photography\",\"nutrition\",\"humor\",\"dogs\",\"chemistry\",\"design\",\"romance\",\"science_fiction\",\"physics\",\"cats\",\"biology\",\"stories_in_rhyme\",\"anthropology\"],\"yaxis\":\"y\",\"type\":\"bar\"}],                        {\"template\":{\"data\":{\"barpolar\":[{\"marker\":{\"line\":{\"color\":\"rgb(17,17,17)\",\"width\":0.5},\"pattern\":{\"fillmode\":\"overlay\",\"size\":10,\"solidity\":0.2}},\"type\":\"barpolar\"}],\"bar\":[{\"error_x\":{\"color\":\"#f2f5fa\"},\"error_y\":{\"color\":\"#f2f5fa\"},\"marker\":{\"line\":{\"color\":\"rgb(17,17,17)\",\"width\":0.5},\"pattern\":{\"fillmode\":\"overlay\",\"size\":10,\"solidity\":0.2}},\"type\":\"bar\"}],\"carpet\":[{\"aaxis\":{\"endlinecolor\":\"#A2B1C6\",\"gridcolor\":\"#506784\",\"linecolor\":\"#506784\",\"minorgridcolor\":\"#506784\",\"startlinecolor\":\"#A2B1C6\"},\"baxis\":{\"endlinecolor\":\"#A2B1C6\",\"gridcolor\":\"#506784\",\"linecolor\":\"#506784\",\"minorgridcolor\":\"#506784\",\"startlinecolor\":\"#A2B1C6\"},\"type\":\"carpet\"}],\"choropleth\":[{\"colorbar\":{\"outlinewidth\":0,\"ticks\":\"\"},\"type\":\"choropleth\"}],\"contourcarpet\":[{\"colorbar\":{\"outlinewidth\":0,\"ticks\":\"\"},\"type\":\"contourcarpet\"}],\"contour\":[{\"colorbar\":{\"outlinewidth\":0,\"ticks\":\"\"},\"colorscale\":[[0.0,\"#0d0887\"],[0.1111111111111111,\"#46039f\"],[0.2222222222222222,\"#7201a8\"],[0.3333333333333333,\"#9c179e\"],[0.4444444444444444,\"#bd3786\"],[0.5555555555555556,\"#d8576b\"],[0.6666666666666666,\"#ed7953\"],[0.7777777777777778,\"#fb9f3a\"],[0.8888888888888888,\"#fdca26\"],[1.0,\"#f0f921\"]],\"type\":\"contour\"}],\"heatmapgl\":[{\"colorbar\":{\"outlinewidth\":0,\"ticks\":\"\"},\"colorscale\":[[0.0,\"#0d0887\"],[0.1111111111111111,\"#46039f\"],[0.2222222222222222,\"#7201a8\"],[0.3333333333333333,\"#9c179e\"],[0.4444444444444444,\"#bd3786\"],[0.5555555555555556,\"#d8576b\"],[0.6666666666666666,\"#ed7953\"],[0.7777777777777778,\"#fb9f3a\"],[0.8888888888888888,\"#fdca26\"],[1.0,\"#f0f921\"]],\"type\":\"heatmapgl\"}],\"heatmap\":[{\"colorbar\":{\"outlinewidth\":0,\"ticks\":\"\"},\"colorscale\":[[0.0,\"#0d0887\"],[0.1111111111111111,\"#46039f\"],[0.2222222222222222,\"#7201a8\"],[0.3333333333333333,\"#9c179e\"],[0.4444444444444444,\"#bd3786\"],[0.5555555555555556,\"#d8576b\"],[0.6666666666666666,\"#ed7953\"],[0.7777777777777778,\"#fb9f3a\"],[0.8888888888888888,\"#fdca26\"],[1.0,\"#f0f921\"]],\"type\":\"heatmap\"}],\"histogram2dcontour\":[{\"colorbar\":{\"outlinewidth\":0,\"ticks\":\"\"},\"colorscale\":[[0.0,\"#0d0887\"],[0.1111111111111111,\"#46039f\"],[0.2222222222222222,\"#7201a8\"],[0.3333333333333333,\"#9c179e\"],[0.4444444444444444,\"#bd3786\"],[0.5555555555555556,\"#d8576b\"],[0.6666666666666666,\"#ed7953\"],[0.7777777777777778,\"#fb9f3a\"],[0.8888888888888888,\"#fdca26\"],[1.0,\"#f0f921\"]],\"type\":\"histogram2dcontour\"}],\"histogram2d\":[{\"colorbar\":{\"outlinewidth\":0,\"ticks\":\"\"},\"colorscale\":[[0.0,\"#0d0887\"],[0.1111111111111111,\"#46039f\"],[0.2222222222222222,\"#7201a8\"],[0.3333333333333333,\"#9c179e\"],[0.4444444444444444,\"#bd3786\"],[0.5555555555555556,\"#d8576b\"],[0.6666666666666666,\"#ed7953\"],[0.7777777777777778,\"#fb9f3a\"],[0.8888888888888888,\"#fdca26\"],[1.0,\"#f0f921\"]],\"type\":\"histogram2d\"}],\"histogram\":[{\"marker\":{\"pattern\":{\"fillmode\":\"overlay\",\"size\":10,\"solidity\":0.2}},\"type\":\"histogram\"}],\"mesh3d\":[{\"colorbar\":{\"outlinewidth\":0,\"ticks\":\"\"},\"type\":\"mesh3d\"}],\"parcoords\":[{\"line\":{\"colorbar\":{\"outlinewidth\":0,\"ticks\":\"\"}},\"type\":\"parcoords\"}],\"pie\":[{\"automargin\":true,\"type\":\"pie\"}],\"scatter3d\":[{\"line\":{\"colorbar\":{\"outlinewidth\":0,\"ticks\":\"\"}},\"marker\":{\"colorbar\":{\"outlinewidth\":0,\"ticks\":\"\"}},\"type\":\"scatter3d\"}],\"scattercarpet\":[{\"marker\":{\"colorbar\":{\"outlinewidth\":0,\"ticks\":\"\"}},\"type\":\"scattercarpet\"}],\"scattergeo\":[{\"marker\":{\"colorbar\":{\"outlinewidth\":0,\"ticks\":\"\"}},\"type\":\"scattergeo\"}],\"scattergl\":[{\"marker\":{\"line\":{\"color\":\"#283442\"}},\"type\":\"scattergl\"}],\"scattermapbox\":[{\"marker\":{\"colorbar\":{\"outlinewidth\":0,\"ticks\":\"\"}},\"type\":\"scattermapbox\"}],\"scatterpolargl\":[{\"marker\":{\"colorbar\":{\"outlinewidth\":0,\"ticks\":\"\"}},\"type\":\"scatterpolargl\"}],\"scatterpolar\":[{\"marker\":{\"colorbar\":{\"outlinewidth\":0,\"ticks\":\"\"}},\"type\":\"scatterpolar\"}],\"scatter\":[{\"marker\":{\"line\":{\"color\":\"#283442\"}},\"type\":\"scatter\"}],\"scatterternary\":[{\"marker\":{\"colorbar\":{\"outlinewidth\":0,\"ticks\":\"\"}},\"type\":\"scatterternary\"}],\"surface\":[{\"colorbar\":{\"outlinewidth\":0,\"ticks\":\"\"},\"colorscale\":[[0.0,\"#0d0887\"],[0.1111111111111111,\"#46039f\"],[0.2222222222222222,\"#7201a8\"],[0.3333333333333333,\"#9c179e\"],[0.4444444444444444,\"#bd3786\"],[0.5555555555555556,\"#d8576b\"],[0.6666666666666666,\"#ed7953\"],[0.7777777777777778,\"#fb9f3a\"],[0.8888888888888888,\"#fdca26\"],[1.0,\"#f0f921\"]],\"type\":\"surface\"}],\"table\":[{\"cells\":{\"fill\":{\"color\":\"#506784\"},\"line\":{\"color\":\"rgb(17,17,17)\"}},\"header\":{\"fill\":{\"color\":\"#2a3f5f\"},\"line\":{\"color\":\"rgb(17,17,17)\"}},\"type\":\"table\"}]},\"layout\":{\"annotationdefaults\":{\"arrowcolor\":\"#f2f5fa\",\"arrowhead\":0,\"arrowwidth\":1},\"autotypenumbers\":\"strict\",\"coloraxis\":{\"colorbar\":{\"outlinewidth\":0,\"ticks\":\"\"}},\"colorscale\":{\"diverging\":[[0,\"#8e0152\"],[0.1,\"#c51b7d\"],[0.2,\"#de77ae\"],[0.3,\"#f1b6da\"],[0.4,\"#fde0ef\"],[0.5,\"#f7f7f7\"],[0.6,\"#e6f5d0\"],[0.7,\"#b8e186\"],[0.8,\"#7fbc41\"],[0.9,\"#4d9221\"],[1,\"#276419\"]],\"sequential\":[[0.0,\"#0d0887\"],[0.1111111111111111,\"#46039f\"],[0.2222222222222222,\"#7201a8\"],[0.3333333333333333,\"#9c179e\"],[0.4444444444444444,\"#bd3786\"],[0.5555555555555556,\"#d8576b\"],[0.6666666666666666,\"#ed7953\"],[0.7777777777777778,\"#fb9f3a\"],[0.8888888888888888,\"#fdca26\"],[1.0,\"#f0f921\"]],\"sequentialminus\":[[0.0,\"#0d0887\"],[0.1111111111111111,\"#46039f\"],[0.2222222222222222,\"#7201a8\"],[0.3333333333333333,\"#9c179e\"],[0.4444444444444444,\"#bd3786\"],[0.5555555555555556,\"#d8576b\"],[0.6666666666666666,\"#ed7953\"],[0.7777777777777778,\"#fb9f3a\"],[0.8888888888888888,\"#fdca26\"],[1.0,\"#f0f921\"]]},\"colorway\":[\"#636efa\",\"#EF553B\",\"#00cc96\",\"#ab63fa\",\"#FFA15A\",\"#19d3f3\",\"#FF6692\",\"#B6E880\",\"#FF97FF\",\"#FECB52\"],\"font\":{\"color\":\"#f2f5fa\"},\"geo\":{\"bgcolor\":\"rgb(17,17,17)\",\"lakecolor\":\"rgb(17,17,17)\",\"landcolor\":\"rgb(17,17,17)\",\"showlakes\":true,\"showland\":true,\"subunitcolor\":\"#506784\"},\"hoverlabel\":{\"align\":\"left\"},\"hovermode\":\"closest\",\"mapbox\":{\"style\":\"dark\"},\"paper_bgcolor\":\"rgb(17,17,17)\",\"plot_bgcolor\":\"rgb(17,17,17)\",\"polar\":{\"angularaxis\":{\"gridcolor\":\"#506784\",\"linecolor\":\"#506784\",\"ticks\":\"\"},\"bgcolor\":\"rgb(17,17,17)\",\"radialaxis\":{\"gridcolor\":\"#506784\",\"linecolor\":\"#506784\",\"ticks\":\"\"}},\"scene\":{\"xaxis\":{\"backgroundcolor\":\"rgb(17,17,17)\",\"gridcolor\":\"#506784\",\"gridwidth\":2,\"linecolor\":\"#506784\",\"showbackground\":true,\"ticks\":\"\",\"zerolinecolor\":\"#C8D4E3\"},\"yaxis\":{\"backgroundcolor\":\"rgb(17,17,17)\",\"gridcolor\":\"#506784\",\"gridwidth\":2,\"linecolor\":\"#506784\",\"showbackground\":true,\"ticks\":\"\",\"zerolinecolor\":\"#C8D4E3\"},\"zaxis\":{\"backgroundcolor\":\"rgb(17,17,17)\",\"gridcolor\":\"#506784\",\"gridwidth\":2,\"linecolor\":\"#506784\",\"showbackground\":true,\"ticks\":\"\",\"zerolinecolor\":\"#C8D4E3\"}},\"shapedefaults\":{\"line\":{\"color\":\"#f2f5fa\"}},\"sliderdefaults\":{\"bgcolor\":\"#C8D4E3\",\"bordercolor\":\"rgb(17,17,17)\",\"borderwidth\":1,\"tickwidth\":0},\"ternary\":{\"aaxis\":{\"gridcolor\":\"#506784\",\"linecolor\":\"#506784\",\"ticks\":\"\"},\"baxis\":{\"gridcolor\":\"#506784\",\"linecolor\":\"#506784\",\"ticks\":\"\"},\"bgcolor\":\"rgb(17,17,17)\",\"caxis\":{\"gridcolor\":\"#506784\",\"linecolor\":\"#506784\",\"ticks\":\"\"}},\"title\":{\"x\":0.05},\"updatemenudefaults\":{\"bgcolor\":\"#506784\",\"borderwidth\":0},\"xaxis\":{\"automargin\":true,\"gridcolor\":\"#283442\",\"linecolor\":\"#506784\",\"ticks\":\"\",\"title\":{\"standoff\":15},\"zerolinecolor\":\"#283442\",\"zerolinewidth\":2},\"yaxis\":{\"automargin\":true,\"gridcolor\":\"#283442\",\"linecolor\":\"#506784\",\"ticks\":\"\",\"title\":{\"standoff\":15},\"zerolinecolor\":\"#283442\",\"zerolinewidth\":2}}},\"xaxis\":{\"anchor\":\"y\",\"domain\":[0.0,1.0],\"title\":{\"text\":\"count\"}},\"yaxis\":{\"anchor\":\"x\",\"domain\":[0.0,1.0],\"title\":{\"text\":\"category\"},\"categoryorder\":\"total ascending\"},\"coloraxis\":{\"colorbar\":{\"title\":{\"text\":\"count\"}},\"colorscale\":[[0.0,\"rgb(247,251,255)\"],[0.125,\"rgb(222,235,247)\"],[0.25,\"rgb(198,219,239)\"],[0.375,\"rgb(158,202,225)\"],[0.5,\"rgb(107,174,214)\"],[0.625,\"rgb(66,146,198)\"],[0.75,\"rgb(33,113,181)\"],[0.875,\"rgb(8,81,156)\"],[1.0,\"rgb(8,48,107)\"]]},\"legend\":{\"tracegroupgap\":0},\"title\":{\"text\":\"Top 25 Categories by Book Count\"},\"barmode\":\"relative\",\"height\":800},                        {\"responsive\": true}                    ).then(function(){\n",
              "                            \n",
              "var gd = document.getElementById('43460037-570d-4085-a25a-666e2075f415');\n",
              "var x = new MutationObserver(function (mutations, observer) {{\n",
              "        var display = window.getComputedStyle(gd).display;\n",
              "        if (!display || display === 'none') {{\n",
              "            console.log([gd, 'removed!']);\n",
              "            Plotly.purge(gd);\n",
              "            observer.disconnect();\n",
              "        }}\n",
              "}});\n",
              "\n",
              "// Listen for the removal of the full notebook cells\n",
              "var notebookContainer = gd.closest('#notebook-container');\n",
              "if (notebookContainer) {{\n",
              "    x.observe(notebookContainer, {childList: true});\n",
              "}}\n",
              "\n",
              "// Listen for the clearing of the current output cell\n",
              "var outputEl = gd.closest('.output');\n",
              "if (outputEl) {{\n",
              "    x.observe(outputEl, {childList: true});\n",
              "}}\n",
              "\n",
              "                        })                };                            </script>        </div>\n",
              "</body>\n",
              "</html>"
            ]
          },
          "metadata": {}
        }
      ]
    },
    {
      "cell_type": "markdown",
      "source": [
        "#### 4.3) Top 25 authors by number of books published."
      ],
      "metadata": {
        "id": "LHevMFTVEvPr"
      }
    },
    {
      "cell_type": "code",
      "source": [
        "import plotly.express as px\n",
        "\n",
        "author_counts = data.groupby('author_id').count()['title_id'].sort_values(ascending=False).head(25).reset_index()\n",
        "author_counts.columns = ['author_id', 'count']\n",
        "\n",
        "names = []\n",
        "\n",
        "for author_id in data.groupby('author_id').count()['title_id'].sort_values(ascending=False).head(25).index:\n",
        "  names.append(data[data['author_id'] == author_id]['author'].iloc[0])\n",
        "\n",
        "\n",
        "author_counts['author_id'] = names\n",
        "\n",
        "fig = px.bar(author_counts,\n",
        "             x='count',\n",
        "             y='author_id',\n",
        "             orientation='h',\n",
        "             title='Top 25 Authors by Book Count',\n",
        "             template='plotly_dark',\n",
        "             color='count',\n",
        "             color_continuous_scale='Blues')\n",
        "\n",
        "fig.update_layout(yaxis={'categoryorder':'total ascending'}, height=800) # Order bars by count and set height\n",
        "fig.show()"
      ],
      "metadata": {
        "colab": {
          "base_uri": "https://localhost:8080/",
          "height": 817
        },
        "id": "jvMjUocpEw7M",
        "outputId": "9bea10b8-a956-46af-8678-13bf6a0503a4"
      },
      "execution_count": 71,
      "outputs": [
        {
          "output_type": "display_data",
          "data": {
            "text/html": [
              "<html>\n",
              "<head><meta charset=\"utf-8\" /></head>\n",
              "<body>\n",
              "    <div>            <script src=\"https://cdnjs.cloudflare.com/ajax/libs/mathjax/2.7.5/MathJax.js?config=TeX-AMS-MML_SVG\"></script><script type=\"text/javascript\">if (window.MathJax && window.MathJax.Hub && window.MathJax.Hub.Config) {window.MathJax.Hub.Config({SVG: {font: \"STIX-Web\"}});}</script>                <script type=\"text/javascript\">window.PlotlyConfig = {MathJaxConfig: 'local'};</script>\n",
              "        <script charset=\"utf-8\" src=\"https://cdn.plot.ly/plotly-2.24.1.min.js\"></script>                <div id=\"c02bf678-9a5e-46ee-aa9e-e60d392f1e81\" class=\"plotly-graph-div\" style=\"height:800px; width:100%;\"></div>            <script type=\"text/javascript\">                                    window.PLOTLYENV=window.PLOTLYENV || {};                                    if (document.getElementById(\"c02bf678-9a5e-46ee-aa9e-e60d392f1e81\")) {                    Plotly.newPlot(                        \"c02bf678-9a5e-46ee-aa9e-e60d392f1e81\",                        [{\"alignmentgroup\":\"True\",\"hovertemplate\":\"count=%{marker.color}\\u003cbr\\u003eauthor_id=%{y}\\u003cextra\\u003e\\u003c\\u002fextra\\u003e\",\"legendgroup\":\"\",\"marker\":{\"color\":[1658,1633,1197,905,870,811,794,752,752,728,664,614,607,568,560,507,422,421,417,417,411,405,389,378,373],\"coloraxis\":\"coloraxis\",\"pattern\":{\"shape\":\"\"}},\"name\":\"\",\"offsetgroup\":\"\",\"orientation\":\"h\",\"showlegend\":false,\"textposition\":\"auto\",\"x\":[1658,1633,1197,905,870,811,794,752,752,728,664,614,607,568,560,507,422,421,417,417,411,405,389,378,373],\"xaxis\":\"x\",\"y\":[\"Hal Leonard Corp. Staff\",\"Hal Leonard Corp.\",\"United States. General Accounting Office\",\"Anita Ganeri\",\"Corín Tellado\",\"Angela Royston\",\"Julie Murray\",\"Grace Hansen\",\"DK Publishing\",\"Louise Spilsbury\",\"Chris Oxlade\",\"Gm Pbc\",\"I. R. B. Media\",\"Research Group\",\"Steve Parker\",\"Bobbie Kalman\",\"Valerie Bodden\",\"Lynn M. Stone\",\"Claire Llewellyn\",\"Joanne Mattern\",\"Virginia Loh-Hagan\",\"Robin Nelson\",\"Mari C. Schuh\",\"Dana Meachen Rau\",\"Clive Gifford\"],\"yaxis\":\"y\",\"type\":\"bar\"}],                        {\"template\":{\"data\":{\"barpolar\":[{\"marker\":{\"line\":{\"color\":\"rgb(17,17,17)\",\"width\":0.5},\"pattern\":{\"fillmode\":\"overlay\",\"size\":10,\"solidity\":0.2}},\"type\":\"barpolar\"}],\"bar\":[{\"error_x\":{\"color\":\"#f2f5fa\"},\"error_y\":{\"color\":\"#f2f5fa\"},\"marker\":{\"line\":{\"color\":\"rgb(17,17,17)\",\"width\":0.5},\"pattern\":{\"fillmode\":\"overlay\",\"size\":10,\"solidity\":0.2}},\"type\":\"bar\"}],\"carpet\":[{\"aaxis\":{\"endlinecolor\":\"#A2B1C6\",\"gridcolor\":\"#506784\",\"linecolor\":\"#506784\",\"minorgridcolor\":\"#506784\",\"startlinecolor\":\"#A2B1C6\"},\"baxis\":{\"endlinecolor\":\"#A2B1C6\",\"gridcolor\":\"#506784\",\"linecolor\":\"#506784\",\"minorgridcolor\":\"#506784\",\"startlinecolor\":\"#A2B1C6\"},\"type\":\"carpet\"}],\"choropleth\":[{\"colorbar\":{\"outlinewidth\":0,\"ticks\":\"\"},\"type\":\"choropleth\"}],\"contourcarpet\":[{\"colorbar\":{\"outlinewidth\":0,\"ticks\":\"\"},\"type\":\"contourcarpet\"}],\"contour\":[{\"colorbar\":{\"outlinewidth\":0,\"ticks\":\"\"},\"colorscale\":[[0.0,\"#0d0887\"],[0.1111111111111111,\"#46039f\"],[0.2222222222222222,\"#7201a8\"],[0.3333333333333333,\"#9c179e\"],[0.4444444444444444,\"#bd3786\"],[0.5555555555555556,\"#d8576b\"],[0.6666666666666666,\"#ed7953\"],[0.7777777777777778,\"#fb9f3a\"],[0.8888888888888888,\"#fdca26\"],[1.0,\"#f0f921\"]],\"type\":\"contour\"}],\"heatmapgl\":[{\"colorbar\":{\"outlinewidth\":0,\"ticks\":\"\"},\"colorscale\":[[0.0,\"#0d0887\"],[0.1111111111111111,\"#46039f\"],[0.2222222222222222,\"#7201a8\"],[0.3333333333333333,\"#9c179e\"],[0.4444444444444444,\"#bd3786\"],[0.5555555555555556,\"#d8576b\"],[0.6666666666666666,\"#ed7953\"],[0.7777777777777778,\"#fb9f3a\"],[0.8888888888888888,\"#fdca26\"],[1.0,\"#f0f921\"]],\"type\":\"heatmapgl\"}],\"heatmap\":[{\"colorbar\":{\"outlinewidth\":0,\"ticks\":\"\"},\"colorscale\":[[0.0,\"#0d0887\"],[0.1111111111111111,\"#46039f\"],[0.2222222222222222,\"#7201a8\"],[0.3333333333333333,\"#9c179e\"],[0.4444444444444444,\"#bd3786\"],[0.5555555555555556,\"#d8576b\"],[0.6666666666666666,\"#ed7953\"],[0.7777777777777778,\"#fb9f3a\"],[0.8888888888888888,\"#fdca26\"],[1.0,\"#f0f921\"]],\"type\":\"heatmap\"}],\"histogram2dcontour\":[{\"colorbar\":{\"outlinewidth\":0,\"ticks\":\"\"},\"colorscale\":[[0.0,\"#0d0887\"],[0.1111111111111111,\"#46039f\"],[0.2222222222222222,\"#7201a8\"],[0.3333333333333333,\"#9c179e\"],[0.4444444444444444,\"#bd3786\"],[0.5555555555555556,\"#d8576b\"],[0.6666666666666666,\"#ed7953\"],[0.7777777777777778,\"#fb9f3a\"],[0.8888888888888888,\"#fdca26\"],[1.0,\"#f0f921\"]],\"type\":\"histogram2dcontour\"}],\"histogram2d\":[{\"colorbar\":{\"outlinewidth\":0,\"ticks\":\"\"},\"colorscale\":[[0.0,\"#0d0887\"],[0.1111111111111111,\"#46039f\"],[0.2222222222222222,\"#7201a8\"],[0.3333333333333333,\"#9c179e\"],[0.4444444444444444,\"#bd3786\"],[0.5555555555555556,\"#d8576b\"],[0.6666666666666666,\"#ed7953\"],[0.7777777777777778,\"#fb9f3a\"],[0.8888888888888888,\"#fdca26\"],[1.0,\"#f0f921\"]],\"type\":\"histogram2d\"}],\"histogram\":[{\"marker\":{\"pattern\":{\"fillmode\":\"overlay\",\"size\":10,\"solidity\":0.2}},\"type\":\"histogram\"}],\"mesh3d\":[{\"colorbar\":{\"outlinewidth\":0,\"ticks\":\"\"},\"type\":\"mesh3d\"}],\"parcoords\":[{\"line\":{\"colorbar\":{\"outlinewidth\":0,\"ticks\":\"\"}},\"type\":\"parcoords\"}],\"pie\":[{\"automargin\":true,\"type\":\"pie\"}],\"scatter3d\":[{\"line\":{\"colorbar\":{\"outlinewidth\":0,\"ticks\":\"\"}},\"marker\":{\"colorbar\":{\"outlinewidth\":0,\"ticks\":\"\"}},\"type\":\"scatter3d\"}],\"scattercarpet\":[{\"marker\":{\"colorbar\":{\"outlinewidth\":0,\"ticks\":\"\"}},\"type\":\"scattercarpet\"}],\"scattergeo\":[{\"marker\":{\"colorbar\":{\"outlinewidth\":0,\"ticks\":\"\"}},\"type\":\"scattergeo\"}],\"scattergl\":[{\"marker\":{\"line\":{\"color\":\"#283442\"}},\"type\":\"scattergl\"}],\"scattermapbox\":[{\"marker\":{\"colorbar\":{\"outlinewidth\":0,\"ticks\":\"\"}},\"type\":\"scattermapbox\"}],\"scatterpolargl\":[{\"marker\":{\"colorbar\":{\"outlinewidth\":0,\"ticks\":\"\"}},\"type\":\"scatterpolargl\"}],\"scatterpolar\":[{\"marker\":{\"colorbar\":{\"outlinewidth\":0,\"ticks\":\"\"}},\"type\":\"scatterpolar\"}],\"scatter\":[{\"marker\":{\"line\":{\"color\":\"#283442\"}},\"type\":\"scatter\"}],\"scatterternary\":[{\"marker\":{\"colorbar\":{\"outlinewidth\":0,\"ticks\":\"\"}},\"type\":\"scatterternary\"}],\"surface\":[{\"colorbar\":{\"outlinewidth\":0,\"ticks\":\"\"},\"colorscale\":[[0.0,\"#0d0887\"],[0.1111111111111111,\"#46039f\"],[0.2222222222222222,\"#7201a8\"],[0.3333333333333333,\"#9c179e\"],[0.4444444444444444,\"#bd3786\"],[0.5555555555555556,\"#d8576b\"],[0.6666666666666666,\"#ed7953\"],[0.7777777777777778,\"#fb9f3a\"],[0.8888888888888888,\"#fdca26\"],[1.0,\"#f0f921\"]],\"type\":\"surface\"}],\"table\":[{\"cells\":{\"fill\":{\"color\":\"#506784\"},\"line\":{\"color\":\"rgb(17,17,17)\"}},\"header\":{\"fill\":{\"color\":\"#2a3f5f\"},\"line\":{\"color\":\"rgb(17,17,17)\"}},\"type\":\"table\"}]},\"layout\":{\"annotationdefaults\":{\"arrowcolor\":\"#f2f5fa\",\"arrowhead\":0,\"arrowwidth\":1},\"autotypenumbers\":\"strict\",\"coloraxis\":{\"colorbar\":{\"outlinewidth\":0,\"ticks\":\"\"}},\"colorscale\":{\"diverging\":[[0,\"#8e0152\"],[0.1,\"#c51b7d\"],[0.2,\"#de77ae\"],[0.3,\"#f1b6da\"],[0.4,\"#fde0ef\"],[0.5,\"#f7f7f7\"],[0.6,\"#e6f5d0\"],[0.7,\"#b8e186\"],[0.8,\"#7fbc41\"],[0.9,\"#4d9221\"],[1,\"#276419\"]],\"sequential\":[[0.0,\"#0d0887\"],[0.1111111111111111,\"#46039f\"],[0.2222222222222222,\"#7201a8\"],[0.3333333333333333,\"#9c179e\"],[0.4444444444444444,\"#bd3786\"],[0.5555555555555556,\"#d8576b\"],[0.6666666666666666,\"#ed7953\"],[0.7777777777777778,\"#fb9f3a\"],[0.8888888888888888,\"#fdca26\"],[1.0,\"#f0f921\"]],\"sequentialminus\":[[0.0,\"#0d0887\"],[0.1111111111111111,\"#46039f\"],[0.2222222222222222,\"#7201a8\"],[0.3333333333333333,\"#9c179e\"],[0.4444444444444444,\"#bd3786\"],[0.5555555555555556,\"#d8576b\"],[0.6666666666666666,\"#ed7953\"],[0.7777777777777778,\"#fb9f3a\"],[0.8888888888888888,\"#fdca26\"],[1.0,\"#f0f921\"]]},\"colorway\":[\"#636efa\",\"#EF553B\",\"#00cc96\",\"#ab63fa\",\"#FFA15A\",\"#19d3f3\",\"#FF6692\",\"#B6E880\",\"#FF97FF\",\"#FECB52\"],\"font\":{\"color\":\"#f2f5fa\"},\"geo\":{\"bgcolor\":\"rgb(17,17,17)\",\"lakecolor\":\"rgb(17,17,17)\",\"landcolor\":\"rgb(17,17,17)\",\"showlakes\":true,\"showland\":true,\"subunitcolor\":\"#506784\"},\"hoverlabel\":{\"align\":\"left\"},\"hovermode\":\"closest\",\"mapbox\":{\"style\":\"dark\"},\"paper_bgcolor\":\"rgb(17,17,17)\",\"plot_bgcolor\":\"rgb(17,17,17)\",\"polar\":{\"angularaxis\":{\"gridcolor\":\"#506784\",\"linecolor\":\"#506784\",\"ticks\":\"\"},\"bgcolor\":\"rgb(17,17,17)\",\"radialaxis\":{\"gridcolor\":\"#506784\",\"linecolor\":\"#506784\",\"ticks\":\"\"}},\"scene\":{\"xaxis\":{\"backgroundcolor\":\"rgb(17,17,17)\",\"gridcolor\":\"#506784\",\"gridwidth\":2,\"linecolor\":\"#506784\",\"showbackground\":true,\"ticks\":\"\",\"zerolinecolor\":\"#C8D4E3\"},\"yaxis\":{\"backgroundcolor\":\"rgb(17,17,17)\",\"gridcolor\":\"#506784\",\"gridwidth\":2,\"linecolor\":\"#506784\",\"showbackground\":true,\"ticks\":\"\",\"zerolinecolor\":\"#C8D4E3\"},\"zaxis\":{\"backgroundcolor\":\"rgb(17,17,17)\",\"gridcolor\":\"#506784\",\"gridwidth\":2,\"linecolor\":\"#506784\",\"showbackground\":true,\"ticks\":\"\",\"zerolinecolor\":\"#C8D4E3\"}},\"shapedefaults\":{\"line\":{\"color\":\"#f2f5fa\"}},\"sliderdefaults\":{\"bgcolor\":\"#C8D4E3\",\"bordercolor\":\"rgb(17,17,17)\",\"borderwidth\":1,\"tickwidth\":0},\"ternary\":{\"aaxis\":{\"gridcolor\":\"#506784\",\"linecolor\":\"#506784\",\"ticks\":\"\"},\"baxis\":{\"gridcolor\":\"#506784\",\"linecolor\":\"#506784\",\"ticks\":\"\"},\"bgcolor\":\"rgb(17,17,17)\",\"caxis\":{\"gridcolor\":\"#506784\",\"linecolor\":\"#506784\",\"ticks\":\"\"}},\"title\":{\"x\":0.05},\"updatemenudefaults\":{\"bgcolor\":\"#506784\",\"borderwidth\":0},\"xaxis\":{\"automargin\":true,\"gridcolor\":\"#283442\",\"linecolor\":\"#506784\",\"ticks\":\"\",\"title\":{\"standoff\":15},\"zerolinecolor\":\"#283442\",\"zerolinewidth\":2},\"yaxis\":{\"automargin\":true,\"gridcolor\":\"#283442\",\"linecolor\":\"#506784\",\"ticks\":\"\",\"title\":{\"standoff\":15},\"zerolinecolor\":\"#283442\",\"zerolinewidth\":2}}},\"xaxis\":{\"anchor\":\"y\",\"domain\":[0.0,1.0],\"title\":{\"text\":\"count\"}},\"yaxis\":{\"anchor\":\"x\",\"domain\":[0.0,1.0],\"title\":{\"text\":\"author_id\"},\"categoryorder\":\"total ascending\"},\"coloraxis\":{\"colorbar\":{\"title\":{\"text\":\"count\"}},\"colorscale\":[[0.0,\"rgb(247,251,255)\"],[0.125,\"rgb(222,235,247)\"],[0.25,\"rgb(198,219,239)\"],[0.375,\"rgb(158,202,225)\"],[0.5,\"rgb(107,174,214)\"],[0.625,\"rgb(66,146,198)\"],[0.75,\"rgb(33,113,181)\"],[0.875,\"rgb(8,81,156)\"],[1.0,\"rgb(8,48,107)\"]]},\"legend\":{\"tracegroupgap\":0},\"title\":{\"text\":\"Top 25 Authors by Book Count\"},\"barmode\":\"relative\",\"height\":800},                        {\"responsive\": true}                    ).then(function(){\n",
              "                            \n",
              "var gd = document.getElementById('c02bf678-9a5e-46ee-aa9e-e60d392f1e81');\n",
              "var x = new MutationObserver(function (mutations, observer) {{\n",
              "        var display = window.getComputedStyle(gd).display;\n",
              "        if (!display || display === 'none') {{\n",
              "            console.log([gd, 'removed!']);\n",
              "            Plotly.purge(gd);\n",
              "            observer.disconnect();\n",
              "        }}\n",
              "}});\n",
              "\n",
              "// Listen for the removal of the full notebook cells\n",
              "var notebookContainer = gd.closest('#notebook-container');\n",
              "if (notebookContainer) {{\n",
              "    x.observe(notebookContainer, {childList: true});\n",
              "}}\n",
              "\n",
              "// Listen for the clearing of the current output cell\n",
              "var outputEl = gd.closest('.output');\n",
              "if (outputEl) {{\n",
              "    x.observe(outputEl, {childList: true});\n",
              "}}\n",
              "\n",
              "                        })                };                            </script>        </div>\n",
              "</body>\n",
              "</html>"
            ]
          },
          "metadata": {}
        }
      ]
    },
    {
      "cell_type": "markdown",
      "source": [
        "#### 4.4) Yearly trend in books published (earliest → latest).\n"
      ],
      "metadata": {
        "id": "PUyU_vc8ExY6"
      }
    },
    {
      "cell_type": "code",
      "source": [
        "import plotly.express as px\n",
        "\n",
        "yearly_counts = data.groupby('publish_year').count()['title_id'].reset_index()\n",
        "yearly_counts.columns = ['publish_year', 'count']\n",
        "\n",
        "fig = px.line(yearly_counts,\n",
        "              x='publish_year',\n",
        "              y='count',\n",
        "              title='Yearly Trend in Books Published',\n",
        "              template='plotly_dark')\n",
        "\n",
        "fig.show()"
      ],
      "metadata": {
        "colab": {
          "base_uri": "https://localhost:8080/",
          "height": 542
        },
        "id": "8mFldSrpSgzD",
        "outputId": "12066b79-84a4-4dfd-b231-900d6cd76ab7"
      },
      "execution_count": 72,
      "outputs": [
        {
          "output_type": "display_data",
          "data": {
            "text/html": [
              "<html>\n",
              "<head><meta charset=\"utf-8\" /></head>\n",
              "<body>\n",
              "    <div>            <script src=\"https://cdnjs.cloudflare.com/ajax/libs/mathjax/2.7.5/MathJax.js?config=TeX-AMS-MML_SVG\"></script><script type=\"text/javascript\">if (window.MathJax && window.MathJax.Hub && window.MathJax.Hub.Config) {window.MathJax.Hub.Config({SVG: {font: \"STIX-Web\"}});}</script>                <script type=\"text/javascript\">window.PlotlyConfig = {MathJaxConfig: 'local'};</script>\n",
              "        <script charset=\"utf-8\" src=\"https://cdn.plot.ly/plotly-2.24.1.min.js\"></script>                <div id=\"3f7cabc3-b94f-474b-bf16-84fa0e76c172\" class=\"plotly-graph-div\" style=\"height:525px; width:100%;\"></div>            <script type=\"text/javascript\">                                    window.PLOTLYENV=window.PLOTLYENV || {};                                    if (document.getElementById(\"3f7cabc3-b94f-474b-bf16-84fa0e76c172\")) {                    Plotly.newPlot(                        \"3f7cabc3-b94f-474b-bf16-84fa0e76c172\",                        [{\"hovertemplate\":\"publish_year=%{x}\\u003cbr\\u003ecount=%{y}\\u003cextra\\u003e\\u003c\\u002fextra\\u003e\",\"legendgroup\":\"\",\"line\":{\"color\":\"#636efa\",\"dash\":\"solid\"},\"marker\":{\"symbol\":\"circle\"},\"mode\":\"lines\",\"name\":\"\",\"orientation\":\"v\",\"showlegend\":false,\"x\":[1201,1212,1220,1222,1230,1234,1235,1246,1250,1252,1275,1300,1311,1356,1368,1371,1388,1390,1399,1400,1401,1434,1435,1436,1440,1450,1459,1463,1464,1465,1467,1468,1469,1470,1471,1472,1473,1474,1475,1476,1477,1478,1479,1480,1481,1482,1483,1484,1485,1486,1487,1488,1489,1490,1491,1492,1493,1494,1495,1496,1497,1498,1499,1500,1501,1502,1503,1504,1505,1507,1508,1509,1510,1511,1512,1513,1514,1515,1516,1517,1518,1519,1520,1521,1522,1523,1524,1525,1526,1527,1528,1529,1530,1531,1532,1533,1534,1535,1536,1537,1538,1539,1540,1541,1542,1543,1544,1545,1546,1547,1548,1549,1550,1551,1552,1553,1554,1555,1556,1557,1558,1559,1560,1561,1562,1563,1564,1565,1566,1567,1568,1569,1570,1571,1572,1573,1574,1575,1576,1577,1578,1579,1580,1581,1582,1583,1584,1585,1586,1587,1588,1589,1590,1591,1592,1593,1594,1595,1596,1597,1598,1599,1600,1601,1602,1603,1604,1605,1606,1607,1608,1609,1610,1611,1612,1613,1614,1615,1616,1617,1618,1619,1620,1621,1622,1623,1624,1625,1626,1627,1628,1629,1630,1631,1632,1633,1634,1635,1636,1637,1638,1639,1640,1641,1642,1643,1644,1645,1646,1647,1648,1649,1650,1651,1652,1653,1654,1655,1656,1657,1658,1659,1660,1661,1662,1663,1664,1665,1666,1667,1668,1669,1670,1671,1672,1673,1674,1675,1676,1677,1678,1679,1680,1681,1682,1683,1684,1685,1686,1687,1688,1689,1690,1691,1692,1693,1694,1695,1696,1697,1698,1699,1700,1701,1702,1703,1704,1705,1706,1707,1708,1709,1710,1711,1712,1713,1714,1715,1716,1717,1718,1719,1720,1721,1722,1723,1724,1725,1726,1727,1728,1729,1730,1731,1732,1733,1734,1735,1736,1737,1738,1739,1740,1741,1742,1743,1744,1745,1746,1747,1748,1749,1750,1751,1752,1753,1754,1755,1756,1757,1758,1759,1760,1761,1762,1763,1764,1765,1766,1767,1768,1769,1770,1771,1772,1773,1774,1775,1776,1777,1778,1779,1780,1781,1782,1783,1784,1785,1786,1787,1788,1789,1790,1791,1792,1793,1794,1795,1796,1797,1798,1799,1800,1801,1802,1803,1804,1805,1806,1807,1808,1809,1810,1811,1812,1813,1814,1815,1816,1817,1818,1819,1820,1821,1822,1823,1824,1825,1826,1827,1828,1829,1830,1831,1832,1833,1834,1835,1836,1837,1838,1839,1840,1841,1842,1843,1844,1845,1846,1847,1848,1849,1850,1851,1852,1853,1854,1855,1856,1857,1858,1859,1860,1861,1862,1863,1864,1865,1866,1867,1868,1869,1870,1871,1872,1873,1874,1875,1876,1877,1878,1879,1880,1881,1882,1883,1884,1885,1886,1887,1888,1889,1890,1891,1892,1893,1894,1895,1896,1897,1898,1899,1900,1901,1902,1903,1904,1905,1906,1907,1908,1909,1910,1911,1912,1913,1914,1915,1916,1917,1918,1919,1920,1921,1922,1923,1924,1925,1926,1927,1928,1929,1930,1931,1932,1933,1934,1935,1936,1937,1938,1939,1940,1941,1942,1943,1944,1945,1946,1947,1948,1949,1950,1951,1952,1953,1954,1955,1956,1957,1958,1959,1960,1961,1962,1963,1964,1965,1966,1967,1968,1969,1970,1971,1972,1973,1974,1975,1976,1977,1978,1979,1980,1981,1982,1983,1984,1985,1986,1987,1988,1989,1990,1991,1992,1993,1994,1995,1996,1997,1998,1999,2000,2001,2002,2003,2004,2005,2006,2007,2008,2009,2010,2011,2012,2013,2014,2015,2016,2017,2018,2019,2020,2021,2022,2023],\"xaxis\":\"x\",\"y\":[1,1,1,1,1,1,1,1,2,1,1,11,1,1,1,1,1,1,1,10,1,1,1,1,1,3,1,1,1,1,1,1,2,4,4,5,2,1,8,5,3,3,4,4,4,6,7,2,1,3,2,3,3,7,6,9,2,7,2,6,6,1,5,32,5,9,3,2,3,5,7,3,3,5,7,5,2,9,9,10,7,6,15,3,4,5,4,9,3,4,3,8,3,7,15,9,5,4,10,4,4,14,9,8,9,5,4,8,11,7,8,6,14,6,6,10,14,7,12,7,10,8,7,9,4,9,4,10,7,6,11,4,24,11,10,6,9,6,6,9,9,12,6,18,13,8,13,12,18,8,16,21,13,8,11,4,10,16,18,11,12,13,46,8,14,17,12,19,17,20,13,17,14,15,19,20,13,22,18,12,11,13,57,11,20,18,13,28,15,11,11,14,14,14,17,22,18,25,23,17,16,10,16,48,53,23,21,18,17,35,24,48,33,35,29,21,23,31,47,32,33,30,57,46,42,43,29,32,25,28,35,29,40,32,18,31,45,35,32,29,24,30,50,44,47,39,54,64,26,32,42,45,28,38,33,31,39,68,33,31,32,38,66,25,34,18,33,35,26,25,37,36,42,23,30,23,32,37,25,32,21,27,35,36,31,32,26,40,32,37,38,21,36,28,31,28,41,33,41,27,24,52,46,33,31,28,27,27,44,36,47,42,71,35,33,59,52,31,45,29,51,44,57,46,50,44,33,30,50,41,50,53,78,63,57,46,64,64,72,69,59,96,74,78,73,82,87,93,90,87,114,109,135,115,114,102,112,122,136,130,125,113,692,100,122,128,104,105,85,118,109,85,128,113,119,113,145,125,145,144,163,214,145,120,139,112,137,143,126,148,133,164,179,152,173,176,180,183,275,178,193,233,240,194,225,204,248,270,252,251,224,239,330,275,283,285,313,296,304,295,277,283,422,302,279,279,365,358,297,340,383,341,402,356,376,319,352,365,441,411,401,386,565,433,471,430,526,505,485,549,547,618,647,640,581,607,624,718,759,693,776,1260,2374,771,771,814,812,812,867,900,987,960,1009,1059,1139,1068,1041,898,942,860,837,886,1485,1149,1345,1100,1148,1204,1143,1290,1303,1368,1466,1361,1356,1306,1459,1489,1473,1488,1470,1523,1652,1428,1324,1287,1186,1287,1520,1719,1877,1939,2313,2105,2113,2191,2364,2374,2569,2720,2893,3352,4032,4055,4521,5070,5272,5906,6506,7215,7957,8437,8540,8089,7999,8218,8393,8666,9114,9429,9558,9735,9989,10208,10402,11114,11822,12535,13078,13422,13949,14596,15039,15443,16395,16901,18060,19037,19678,20947,21787,23647,31302,31274,27164,28850,29112,30967,30909,34877,30913,31239,30456,27914,29366,32608,33119,30439,29301,28696,26977,20703,22336,22431,21247,8041],\"yaxis\":\"y\",\"type\":\"scatter\"}],                        {\"template\":{\"data\":{\"barpolar\":[{\"marker\":{\"line\":{\"color\":\"rgb(17,17,17)\",\"width\":0.5},\"pattern\":{\"fillmode\":\"overlay\",\"size\":10,\"solidity\":0.2}},\"type\":\"barpolar\"}],\"bar\":[{\"error_x\":{\"color\":\"#f2f5fa\"},\"error_y\":{\"color\":\"#f2f5fa\"},\"marker\":{\"line\":{\"color\":\"rgb(17,17,17)\",\"width\":0.5},\"pattern\":{\"fillmode\":\"overlay\",\"size\":10,\"solidity\":0.2}},\"type\":\"bar\"}],\"carpet\":[{\"aaxis\":{\"endlinecolor\":\"#A2B1C6\",\"gridcolor\":\"#506784\",\"linecolor\":\"#506784\",\"minorgridcolor\":\"#506784\",\"startlinecolor\":\"#A2B1C6\"},\"baxis\":{\"endlinecolor\":\"#A2B1C6\",\"gridcolor\":\"#506784\",\"linecolor\":\"#506784\",\"minorgridcolor\":\"#506784\",\"startlinecolor\":\"#A2B1C6\"},\"type\":\"carpet\"}],\"choropleth\":[{\"colorbar\":{\"outlinewidth\":0,\"ticks\":\"\"},\"type\":\"choropleth\"}],\"contourcarpet\":[{\"colorbar\":{\"outlinewidth\":0,\"ticks\":\"\"},\"type\":\"contourcarpet\"}],\"contour\":[{\"colorbar\":{\"outlinewidth\":0,\"ticks\":\"\"},\"colorscale\":[[0.0,\"#0d0887\"],[0.1111111111111111,\"#46039f\"],[0.2222222222222222,\"#7201a8\"],[0.3333333333333333,\"#9c179e\"],[0.4444444444444444,\"#bd3786\"],[0.5555555555555556,\"#d8576b\"],[0.6666666666666666,\"#ed7953\"],[0.7777777777777778,\"#fb9f3a\"],[0.8888888888888888,\"#fdca26\"],[1.0,\"#f0f921\"]],\"type\":\"contour\"}],\"heatmapgl\":[{\"colorbar\":{\"outlinewidth\":0,\"ticks\":\"\"},\"colorscale\":[[0.0,\"#0d0887\"],[0.1111111111111111,\"#46039f\"],[0.2222222222222222,\"#7201a8\"],[0.3333333333333333,\"#9c179e\"],[0.4444444444444444,\"#bd3786\"],[0.5555555555555556,\"#d8576b\"],[0.6666666666666666,\"#ed7953\"],[0.7777777777777778,\"#fb9f3a\"],[0.8888888888888888,\"#fdca26\"],[1.0,\"#f0f921\"]],\"type\":\"heatmapgl\"}],\"heatmap\":[{\"colorbar\":{\"outlinewidth\":0,\"ticks\":\"\"},\"colorscale\":[[0.0,\"#0d0887\"],[0.1111111111111111,\"#46039f\"],[0.2222222222222222,\"#7201a8\"],[0.3333333333333333,\"#9c179e\"],[0.4444444444444444,\"#bd3786\"],[0.5555555555555556,\"#d8576b\"],[0.6666666666666666,\"#ed7953\"],[0.7777777777777778,\"#fb9f3a\"],[0.8888888888888888,\"#fdca26\"],[1.0,\"#f0f921\"]],\"type\":\"heatmap\"}],\"histogram2dcontour\":[{\"colorbar\":{\"outlinewidth\":0,\"ticks\":\"\"},\"colorscale\":[[0.0,\"#0d0887\"],[0.1111111111111111,\"#46039f\"],[0.2222222222222222,\"#7201a8\"],[0.3333333333333333,\"#9c179e\"],[0.4444444444444444,\"#bd3786\"],[0.5555555555555556,\"#d8576b\"],[0.6666666666666666,\"#ed7953\"],[0.7777777777777778,\"#fb9f3a\"],[0.8888888888888888,\"#fdca26\"],[1.0,\"#f0f921\"]],\"type\":\"histogram2dcontour\"}],\"histogram2d\":[{\"colorbar\":{\"outlinewidth\":0,\"ticks\":\"\"},\"colorscale\":[[0.0,\"#0d0887\"],[0.1111111111111111,\"#46039f\"],[0.2222222222222222,\"#7201a8\"],[0.3333333333333333,\"#9c179e\"],[0.4444444444444444,\"#bd3786\"],[0.5555555555555556,\"#d8576b\"],[0.6666666666666666,\"#ed7953\"],[0.7777777777777778,\"#fb9f3a\"],[0.8888888888888888,\"#fdca26\"],[1.0,\"#f0f921\"]],\"type\":\"histogram2d\"}],\"histogram\":[{\"marker\":{\"pattern\":{\"fillmode\":\"overlay\",\"size\":10,\"solidity\":0.2}},\"type\":\"histogram\"}],\"mesh3d\":[{\"colorbar\":{\"outlinewidth\":0,\"ticks\":\"\"},\"type\":\"mesh3d\"}],\"parcoords\":[{\"line\":{\"colorbar\":{\"outlinewidth\":0,\"ticks\":\"\"}},\"type\":\"parcoords\"}],\"pie\":[{\"automargin\":true,\"type\":\"pie\"}],\"scatter3d\":[{\"line\":{\"colorbar\":{\"outlinewidth\":0,\"ticks\":\"\"}},\"marker\":{\"colorbar\":{\"outlinewidth\":0,\"ticks\":\"\"}},\"type\":\"scatter3d\"}],\"scattercarpet\":[{\"marker\":{\"colorbar\":{\"outlinewidth\":0,\"ticks\":\"\"}},\"type\":\"scattercarpet\"}],\"scattergeo\":[{\"marker\":{\"colorbar\":{\"outlinewidth\":0,\"ticks\":\"\"}},\"type\":\"scattergeo\"}],\"scattergl\":[{\"marker\":{\"line\":{\"color\":\"#283442\"}},\"type\":\"scattergl\"}],\"scattermapbox\":[{\"marker\":{\"colorbar\":{\"outlinewidth\":0,\"ticks\":\"\"}},\"type\":\"scattermapbox\"}],\"scatterpolargl\":[{\"marker\":{\"colorbar\":{\"outlinewidth\":0,\"ticks\":\"\"}},\"type\":\"scatterpolargl\"}],\"scatterpolar\":[{\"marker\":{\"colorbar\":{\"outlinewidth\":0,\"ticks\":\"\"}},\"type\":\"scatterpolar\"}],\"scatter\":[{\"marker\":{\"line\":{\"color\":\"#283442\"}},\"type\":\"scatter\"}],\"scatterternary\":[{\"marker\":{\"colorbar\":{\"outlinewidth\":0,\"ticks\":\"\"}},\"type\":\"scatterternary\"}],\"surface\":[{\"colorbar\":{\"outlinewidth\":0,\"ticks\":\"\"},\"colorscale\":[[0.0,\"#0d0887\"],[0.1111111111111111,\"#46039f\"],[0.2222222222222222,\"#7201a8\"],[0.3333333333333333,\"#9c179e\"],[0.4444444444444444,\"#bd3786\"],[0.5555555555555556,\"#d8576b\"],[0.6666666666666666,\"#ed7953\"],[0.7777777777777778,\"#fb9f3a\"],[0.8888888888888888,\"#fdca26\"],[1.0,\"#f0f921\"]],\"type\":\"surface\"}],\"table\":[{\"cells\":{\"fill\":{\"color\":\"#506784\"},\"line\":{\"color\":\"rgb(17,17,17)\"}},\"header\":{\"fill\":{\"color\":\"#2a3f5f\"},\"line\":{\"color\":\"rgb(17,17,17)\"}},\"type\":\"table\"}]},\"layout\":{\"annotationdefaults\":{\"arrowcolor\":\"#f2f5fa\",\"arrowhead\":0,\"arrowwidth\":1},\"autotypenumbers\":\"strict\",\"coloraxis\":{\"colorbar\":{\"outlinewidth\":0,\"ticks\":\"\"}},\"colorscale\":{\"diverging\":[[0,\"#8e0152\"],[0.1,\"#c51b7d\"],[0.2,\"#de77ae\"],[0.3,\"#f1b6da\"],[0.4,\"#fde0ef\"],[0.5,\"#f7f7f7\"],[0.6,\"#e6f5d0\"],[0.7,\"#b8e186\"],[0.8,\"#7fbc41\"],[0.9,\"#4d9221\"],[1,\"#276419\"]],\"sequential\":[[0.0,\"#0d0887\"],[0.1111111111111111,\"#46039f\"],[0.2222222222222222,\"#7201a8\"],[0.3333333333333333,\"#9c179e\"],[0.4444444444444444,\"#bd3786\"],[0.5555555555555556,\"#d8576b\"],[0.6666666666666666,\"#ed7953\"],[0.7777777777777778,\"#fb9f3a\"],[0.8888888888888888,\"#fdca26\"],[1.0,\"#f0f921\"]],\"sequentialminus\":[[0.0,\"#0d0887\"],[0.1111111111111111,\"#46039f\"],[0.2222222222222222,\"#7201a8\"],[0.3333333333333333,\"#9c179e\"],[0.4444444444444444,\"#bd3786\"],[0.5555555555555556,\"#d8576b\"],[0.6666666666666666,\"#ed7953\"],[0.7777777777777778,\"#fb9f3a\"],[0.8888888888888888,\"#fdca26\"],[1.0,\"#f0f921\"]]},\"colorway\":[\"#636efa\",\"#EF553B\",\"#00cc96\",\"#ab63fa\",\"#FFA15A\",\"#19d3f3\",\"#FF6692\",\"#B6E880\",\"#FF97FF\",\"#FECB52\"],\"font\":{\"color\":\"#f2f5fa\"},\"geo\":{\"bgcolor\":\"rgb(17,17,17)\",\"lakecolor\":\"rgb(17,17,17)\",\"landcolor\":\"rgb(17,17,17)\",\"showlakes\":true,\"showland\":true,\"subunitcolor\":\"#506784\"},\"hoverlabel\":{\"align\":\"left\"},\"hovermode\":\"closest\",\"mapbox\":{\"style\":\"dark\"},\"paper_bgcolor\":\"rgb(17,17,17)\",\"plot_bgcolor\":\"rgb(17,17,17)\",\"polar\":{\"angularaxis\":{\"gridcolor\":\"#506784\",\"linecolor\":\"#506784\",\"ticks\":\"\"},\"bgcolor\":\"rgb(17,17,17)\",\"radialaxis\":{\"gridcolor\":\"#506784\",\"linecolor\":\"#506784\",\"ticks\":\"\"}},\"scene\":{\"xaxis\":{\"backgroundcolor\":\"rgb(17,17,17)\",\"gridcolor\":\"#506784\",\"gridwidth\":2,\"linecolor\":\"#506784\",\"showbackground\":true,\"ticks\":\"\",\"zerolinecolor\":\"#C8D4E3\"},\"yaxis\":{\"backgroundcolor\":\"rgb(17,17,17)\",\"gridcolor\":\"#506784\",\"gridwidth\":2,\"linecolor\":\"#506784\",\"showbackground\":true,\"ticks\":\"\",\"zerolinecolor\":\"#C8D4E3\"},\"zaxis\":{\"backgroundcolor\":\"rgb(17,17,17)\",\"gridcolor\":\"#506784\",\"gridwidth\":2,\"linecolor\":\"#506784\",\"showbackground\":true,\"ticks\":\"\",\"zerolinecolor\":\"#C8D4E3\"}},\"shapedefaults\":{\"line\":{\"color\":\"#f2f5fa\"}},\"sliderdefaults\":{\"bgcolor\":\"#C8D4E3\",\"bordercolor\":\"rgb(17,17,17)\",\"borderwidth\":1,\"tickwidth\":0},\"ternary\":{\"aaxis\":{\"gridcolor\":\"#506784\",\"linecolor\":\"#506784\",\"ticks\":\"\"},\"baxis\":{\"gridcolor\":\"#506784\",\"linecolor\":\"#506784\",\"ticks\":\"\"},\"bgcolor\":\"rgb(17,17,17)\",\"caxis\":{\"gridcolor\":\"#506784\",\"linecolor\":\"#506784\",\"ticks\":\"\"}},\"title\":{\"x\":0.05},\"updatemenudefaults\":{\"bgcolor\":\"#506784\",\"borderwidth\":0},\"xaxis\":{\"automargin\":true,\"gridcolor\":\"#283442\",\"linecolor\":\"#506784\",\"ticks\":\"\",\"title\":{\"standoff\":15},\"zerolinecolor\":\"#283442\",\"zerolinewidth\":2},\"yaxis\":{\"automargin\":true,\"gridcolor\":\"#283442\",\"linecolor\":\"#506784\",\"ticks\":\"\",\"title\":{\"standoff\":15},\"zerolinecolor\":\"#283442\",\"zerolinewidth\":2}}},\"xaxis\":{\"anchor\":\"y\",\"domain\":[0.0,1.0],\"title\":{\"text\":\"publish_year\"}},\"yaxis\":{\"anchor\":\"x\",\"domain\":[0.0,1.0],\"title\":{\"text\":\"count\"}},\"legend\":{\"tracegroupgap\":0},\"title\":{\"text\":\"Yearly Trend in Books Published\"}},                        {\"responsive\": true}                    ).then(function(){\n",
              "                            \n",
              "var gd = document.getElementById('3f7cabc3-b94f-474b-bf16-84fa0e76c172');\n",
              "var x = new MutationObserver(function (mutations, observer) {{\n",
              "        var display = window.getComputedStyle(gd).display;\n",
              "        if (!display || display === 'none') {{\n",
              "            console.log([gd, 'removed!']);\n",
              "            Plotly.purge(gd);\n",
              "            observer.disconnect();\n",
              "        }}\n",
              "}});\n",
              "\n",
              "// Listen for the removal of the full notebook cells\n",
              "var notebookContainer = gd.closest('#notebook-container');\n",
              "if (notebookContainer) {{\n",
              "    x.observe(notebookContainer, {childList: true});\n",
              "}}\n",
              "\n",
              "// Listen for the clearing of the current output cell\n",
              "var outputEl = gd.closest('.output');\n",
              "if (outputEl) {{\n",
              "    x.observe(outputEl, {childList: true});\n",
              "}}\n",
              "\n",
              "                        })                };                            </script>        </div>\n",
              "</body>\n",
              "</html>"
            ]
          },
          "metadata": {}
        }
      ]
    },
    {
      "cell_type": "markdown",
      "source": [
        "#### 4.5) Top 25 most common book titles."
      ],
      "metadata": {
        "id": "z5myBSszSCRH"
      }
    },
    {
      "cell_type": "code",
      "source": [
        "import plotly.express as px\n",
        "\n",
        "title_counts = data['title'].value_counts().head(25).reset_index()\n",
        "title_counts.columns = ['title', 'count']\n",
        "\n",
        "fig = px.bar(title_counts,\n",
        "             x='count',\n",
        "             y='title',\n",
        "             orientation='h',\n",
        "             title='Top 25 Most Common Book Titles',\n",
        "             template='plotly_dark',\n",
        "             color='count',\n",
        "             color_continuous_scale='Blues')\n",
        "\n",
        "fig.update_layout(yaxis={'categoryorder':'total ascending'}, height=800)\n",
        "fig.show()"
      ],
      "metadata": {
        "colab": {
          "base_uri": "https://localhost:8080/",
          "height": 817
        },
        "id": "1MuWy0HJS4xp",
        "outputId": "423f44cf-59dc-4d72-f3c0-28c23b69538c"
      },
      "execution_count": 73,
      "outputs": [
        {
          "output_type": "display_data",
          "data": {
            "text/html": [
              "<html>\n",
              "<head><meta charset=\"utf-8\" /></head>\n",
              "<body>\n",
              "    <div>            <script src=\"https://cdnjs.cloudflare.com/ajax/libs/mathjax/2.7.5/MathJax.js?config=TeX-AMS-MML_SVG\"></script><script type=\"text/javascript\">if (window.MathJax && window.MathJax.Hub && window.MathJax.Hub.Config) {window.MathJax.Hub.Config({SVG: {font: \"STIX-Web\"}});}</script>                <script type=\"text/javascript\">window.PlotlyConfig = {MathJaxConfig: 'local'};</script>\n",
              "        <script charset=\"utf-8\" src=\"https://cdn.plot.ly/plotly-2.24.1.min.js\"></script>                <div id=\"aadd465e-67f7-4c58-bfb0-15939515e486\" class=\"plotly-graph-div\" style=\"height:800px; width:100%;\"></div>            <script type=\"text/javascript\">                                    window.PLOTLYENV=window.PLOTLYENV || {};                                    if (document.getElementById(\"aadd465e-67f7-4c58-bfb0-15939515e486\")) {                    Plotly.newPlot(                        \"aadd465e-67f7-4c58-bfb0-15939515e486\",                        [{\"alignmentgroup\":\"True\",\"hovertemplate\":\"count=%{marker.color}\\u003cbr\\u003etitle=%{y}\\u003cextra\\u003e\\u003c\\u002fextra\\u003e\",\"legendgroup\":\"\",\"marker\":{\"color\":[446,396,380,336,260,260,244,217,207,202,179,179,170,160,149,147,145,143,142,134,130,126,125,123,123],\"coloraxis\":\"coloraxis\",\"pattern\":{\"shape\":\"\"}},\"name\":\"\",\"offsetgroup\":\"\",\"orientation\":\"h\",\"showlegend\":false,\"textposition\":\"auto\",\"x\":[446,396,380,336,260,260,244,217,207,202,179,179,170,160,149,147,145,143,142,134,130,126,125,123,123],\"xaxis\":\"x\",\"y\":[\"Poems\",\"Psychology\",\"Chemistry\",\"Biology\",\"Dinosaurs\",\"Management\",\"Cats\",\"Dogs\",\"Mathematics\",\"Physics\",\"Sharks\",\"Birds\",\"Animals\",\"Water\",\"Nutrition\",\"Proceedings\",\"Abraham Lincoln\",\"Entrepreneurship\",\"China\",\"Photography\",\"Weather\",\"Music\",\"Insects\",\"Earth\",\"Fish\"],\"yaxis\":\"y\",\"type\":\"bar\"}],                        {\"template\":{\"data\":{\"barpolar\":[{\"marker\":{\"line\":{\"color\":\"rgb(17,17,17)\",\"width\":0.5},\"pattern\":{\"fillmode\":\"overlay\",\"size\":10,\"solidity\":0.2}},\"type\":\"barpolar\"}],\"bar\":[{\"error_x\":{\"color\":\"#f2f5fa\"},\"error_y\":{\"color\":\"#f2f5fa\"},\"marker\":{\"line\":{\"color\":\"rgb(17,17,17)\",\"width\":0.5},\"pattern\":{\"fillmode\":\"overlay\",\"size\":10,\"solidity\":0.2}},\"type\":\"bar\"}],\"carpet\":[{\"aaxis\":{\"endlinecolor\":\"#A2B1C6\",\"gridcolor\":\"#506784\",\"linecolor\":\"#506784\",\"minorgridcolor\":\"#506784\",\"startlinecolor\":\"#A2B1C6\"},\"baxis\":{\"endlinecolor\":\"#A2B1C6\",\"gridcolor\":\"#506784\",\"linecolor\":\"#506784\",\"minorgridcolor\":\"#506784\",\"startlinecolor\":\"#A2B1C6\"},\"type\":\"carpet\"}],\"choropleth\":[{\"colorbar\":{\"outlinewidth\":0,\"ticks\":\"\"},\"type\":\"choropleth\"}],\"contourcarpet\":[{\"colorbar\":{\"outlinewidth\":0,\"ticks\":\"\"},\"type\":\"contourcarpet\"}],\"contour\":[{\"colorbar\":{\"outlinewidth\":0,\"ticks\":\"\"},\"colorscale\":[[0.0,\"#0d0887\"],[0.1111111111111111,\"#46039f\"],[0.2222222222222222,\"#7201a8\"],[0.3333333333333333,\"#9c179e\"],[0.4444444444444444,\"#bd3786\"],[0.5555555555555556,\"#d8576b\"],[0.6666666666666666,\"#ed7953\"],[0.7777777777777778,\"#fb9f3a\"],[0.8888888888888888,\"#fdca26\"],[1.0,\"#f0f921\"]],\"type\":\"contour\"}],\"heatmapgl\":[{\"colorbar\":{\"outlinewidth\":0,\"ticks\":\"\"},\"colorscale\":[[0.0,\"#0d0887\"],[0.1111111111111111,\"#46039f\"],[0.2222222222222222,\"#7201a8\"],[0.3333333333333333,\"#9c179e\"],[0.4444444444444444,\"#bd3786\"],[0.5555555555555556,\"#d8576b\"],[0.6666666666666666,\"#ed7953\"],[0.7777777777777778,\"#fb9f3a\"],[0.8888888888888888,\"#fdca26\"],[1.0,\"#f0f921\"]],\"type\":\"heatmapgl\"}],\"heatmap\":[{\"colorbar\":{\"outlinewidth\":0,\"ticks\":\"\"},\"colorscale\":[[0.0,\"#0d0887\"],[0.1111111111111111,\"#46039f\"],[0.2222222222222222,\"#7201a8\"],[0.3333333333333333,\"#9c179e\"],[0.4444444444444444,\"#bd3786\"],[0.5555555555555556,\"#d8576b\"],[0.6666666666666666,\"#ed7953\"],[0.7777777777777778,\"#fb9f3a\"],[0.8888888888888888,\"#fdca26\"],[1.0,\"#f0f921\"]],\"type\":\"heatmap\"}],\"histogram2dcontour\":[{\"colorbar\":{\"outlinewidth\":0,\"ticks\":\"\"},\"colorscale\":[[0.0,\"#0d0887\"],[0.1111111111111111,\"#46039f\"],[0.2222222222222222,\"#7201a8\"],[0.3333333333333333,\"#9c179e\"],[0.4444444444444444,\"#bd3786\"],[0.5555555555555556,\"#d8576b\"],[0.6666666666666666,\"#ed7953\"],[0.7777777777777778,\"#fb9f3a\"],[0.8888888888888888,\"#fdca26\"],[1.0,\"#f0f921\"]],\"type\":\"histogram2dcontour\"}],\"histogram2d\":[{\"colorbar\":{\"outlinewidth\":0,\"ticks\":\"\"},\"colorscale\":[[0.0,\"#0d0887\"],[0.1111111111111111,\"#46039f\"],[0.2222222222222222,\"#7201a8\"],[0.3333333333333333,\"#9c179e\"],[0.4444444444444444,\"#bd3786\"],[0.5555555555555556,\"#d8576b\"],[0.6666666666666666,\"#ed7953\"],[0.7777777777777778,\"#fb9f3a\"],[0.8888888888888888,\"#fdca26\"],[1.0,\"#f0f921\"]],\"type\":\"histogram2d\"}],\"histogram\":[{\"marker\":{\"pattern\":{\"fillmode\":\"overlay\",\"size\":10,\"solidity\":0.2}},\"type\":\"histogram\"}],\"mesh3d\":[{\"colorbar\":{\"outlinewidth\":0,\"ticks\":\"\"},\"type\":\"mesh3d\"}],\"parcoords\":[{\"line\":{\"colorbar\":{\"outlinewidth\":0,\"ticks\":\"\"}},\"type\":\"parcoords\"}],\"pie\":[{\"automargin\":true,\"type\":\"pie\"}],\"scatter3d\":[{\"line\":{\"colorbar\":{\"outlinewidth\":0,\"ticks\":\"\"}},\"marker\":{\"colorbar\":{\"outlinewidth\":0,\"ticks\":\"\"}},\"type\":\"scatter3d\"}],\"scattercarpet\":[{\"marker\":{\"colorbar\":{\"outlinewidth\":0,\"ticks\":\"\"}},\"type\":\"scattercarpet\"}],\"scattergeo\":[{\"marker\":{\"colorbar\":{\"outlinewidth\":0,\"ticks\":\"\"}},\"type\":\"scattergeo\"}],\"scattergl\":[{\"marker\":{\"line\":{\"color\":\"#283442\"}},\"type\":\"scattergl\"}],\"scattermapbox\":[{\"marker\":{\"colorbar\":{\"outlinewidth\":0,\"ticks\":\"\"}},\"type\":\"scattermapbox\"}],\"scatterpolargl\":[{\"marker\":{\"colorbar\":{\"outlinewidth\":0,\"ticks\":\"\"}},\"type\":\"scatterpolargl\"}],\"scatterpolar\":[{\"marker\":{\"colorbar\":{\"outlinewidth\":0,\"ticks\":\"\"}},\"type\":\"scatterpolar\"}],\"scatter\":[{\"marker\":{\"line\":{\"color\":\"#283442\"}},\"type\":\"scatter\"}],\"scatterternary\":[{\"marker\":{\"colorbar\":{\"outlinewidth\":0,\"ticks\":\"\"}},\"type\":\"scatterternary\"}],\"surface\":[{\"colorbar\":{\"outlinewidth\":0,\"ticks\":\"\"},\"colorscale\":[[0.0,\"#0d0887\"],[0.1111111111111111,\"#46039f\"],[0.2222222222222222,\"#7201a8\"],[0.3333333333333333,\"#9c179e\"],[0.4444444444444444,\"#bd3786\"],[0.5555555555555556,\"#d8576b\"],[0.6666666666666666,\"#ed7953\"],[0.7777777777777778,\"#fb9f3a\"],[0.8888888888888888,\"#fdca26\"],[1.0,\"#f0f921\"]],\"type\":\"surface\"}],\"table\":[{\"cells\":{\"fill\":{\"color\":\"#506784\"},\"line\":{\"color\":\"rgb(17,17,17)\"}},\"header\":{\"fill\":{\"color\":\"#2a3f5f\"},\"line\":{\"color\":\"rgb(17,17,17)\"}},\"type\":\"table\"}]},\"layout\":{\"annotationdefaults\":{\"arrowcolor\":\"#f2f5fa\",\"arrowhead\":0,\"arrowwidth\":1},\"autotypenumbers\":\"strict\",\"coloraxis\":{\"colorbar\":{\"outlinewidth\":0,\"ticks\":\"\"}},\"colorscale\":{\"diverging\":[[0,\"#8e0152\"],[0.1,\"#c51b7d\"],[0.2,\"#de77ae\"],[0.3,\"#f1b6da\"],[0.4,\"#fde0ef\"],[0.5,\"#f7f7f7\"],[0.6,\"#e6f5d0\"],[0.7,\"#b8e186\"],[0.8,\"#7fbc41\"],[0.9,\"#4d9221\"],[1,\"#276419\"]],\"sequential\":[[0.0,\"#0d0887\"],[0.1111111111111111,\"#46039f\"],[0.2222222222222222,\"#7201a8\"],[0.3333333333333333,\"#9c179e\"],[0.4444444444444444,\"#bd3786\"],[0.5555555555555556,\"#d8576b\"],[0.6666666666666666,\"#ed7953\"],[0.7777777777777778,\"#fb9f3a\"],[0.8888888888888888,\"#fdca26\"],[1.0,\"#f0f921\"]],\"sequentialminus\":[[0.0,\"#0d0887\"],[0.1111111111111111,\"#46039f\"],[0.2222222222222222,\"#7201a8\"],[0.3333333333333333,\"#9c179e\"],[0.4444444444444444,\"#bd3786\"],[0.5555555555555556,\"#d8576b\"],[0.6666666666666666,\"#ed7953\"],[0.7777777777777778,\"#fb9f3a\"],[0.8888888888888888,\"#fdca26\"],[1.0,\"#f0f921\"]]},\"colorway\":[\"#636efa\",\"#EF553B\",\"#00cc96\",\"#ab63fa\",\"#FFA15A\",\"#19d3f3\",\"#FF6692\",\"#B6E880\",\"#FF97FF\",\"#FECB52\"],\"font\":{\"color\":\"#f2f5fa\"},\"geo\":{\"bgcolor\":\"rgb(17,17,17)\",\"lakecolor\":\"rgb(17,17,17)\",\"landcolor\":\"rgb(17,17,17)\",\"showlakes\":true,\"showland\":true,\"subunitcolor\":\"#506784\"},\"hoverlabel\":{\"align\":\"left\"},\"hovermode\":\"closest\",\"mapbox\":{\"style\":\"dark\"},\"paper_bgcolor\":\"rgb(17,17,17)\",\"plot_bgcolor\":\"rgb(17,17,17)\",\"polar\":{\"angularaxis\":{\"gridcolor\":\"#506784\",\"linecolor\":\"#506784\",\"ticks\":\"\"},\"bgcolor\":\"rgb(17,17,17)\",\"radialaxis\":{\"gridcolor\":\"#506784\",\"linecolor\":\"#506784\",\"ticks\":\"\"}},\"scene\":{\"xaxis\":{\"backgroundcolor\":\"rgb(17,17,17)\",\"gridcolor\":\"#506784\",\"gridwidth\":2,\"linecolor\":\"#506784\",\"showbackground\":true,\"ticks\":\"\",\"zerolinecolor\":\"#C8D4E3\"},\"yaxis\":{\"backgroundcolor\":\"rgb(17,17,17)\",\"gridcolor\":\"#506784\",\"gridwidth\":2,\"linecolor\":\"#506784\",\"showbackground\":true,\"ticks\":\"\",\"zerolinecolor\":\"#C8D4E3\"},\"zaxis\":{\"backgroundcolor\":\"rgb(17,17,17)\",\"gridcolor\":\"#506784\",\"gridwidth\":2,\"linecolor\":\"#506784\",\"showbackground\":true,\"ticks\":\"\",\"zerolinecolor\":\"#C8D4E3\"}},\"shapedefaults\":{\"line\":{\"color\":\"#f2f5fa\"}},\"sliderdefaults\":{\"bgcolor\":\"#C8D4E3\",\"bordercolor\":\"rgb(17,17,17)\",\"borderwidth\":1,\"tickwidth\":0},\"ternary\":{\"aaxis\":{\"gridcolor\":\"#506784\",\"linecolor\":\"#506784\",\"ticks\":\"\"},\"baxis\":{\"gridcolor\":\"#506784\",\"linecolor\":\"#506784\",\"ticks\":\"\"},\"bgcolor\":\"rgb(17,17,17)\",\"caxis\":{\"gridcolor\":\"#506784\",\"linecolor\":\"#506784\",\"ticks\":\"\"}},\"title\":{\"x\":0.05},\"updatemenudefaults\":{\"bgcolor\":\"#506784\",\"borderwidth\":0},\"xaxis\":{\"automargin\":true,\"gridcolor\":\"#283442\",\"linecolor\":\"#506784\",\"ticks\":\"\",\"title\":{\"standoff\":15},\"zerolinecolor\":\"#283442\",\"zerolinewidth\":2},\"yaxis\":{\"automargin\":true,\"gridcolor\":\"#283442\",\"linecolor\":\"#506784\",\"ticks\":\"\",\"title\":{\"standoff\":15},\"zerolinecolor\":\"#283442\",\"zerolinewidth\":2}}},\"xaxis\":{\"anchor\":\"y\",\"domain\":[0.0,1.0],\"title\":{\"text\":\"count\"}},\"yaxis\":{\"anchor\":\"x\",\"domain\":[0.0,1.0],\"title\":{\"text\":\"title\"},\"categoryorder\":\"total ascending\"},\"coloraxis\":{\"colorbar\":{\"title\":{\"text\":\"count\"}},\"colorscale\":[[0.0,\"rgb(247,251,255)\"],[0.125,\"rgb(222,235,247)\"],[0.25,\"rgb(198,219,239)\"],[0.375,\"rgb(158,202,225)\"],[0.5,\"rgb(107,174,214)\"],[0.625,\"rgb(66,146,198)\"],[0.75,\"rgb(33,113,181)\"],[0.875,\"rgb(8,81,156)\"],[1.0,\"rgb(8,48,107)\"]]},\"legend\":{\"tracegroupgap\":0},\"title\":{\"text\":\"Top 25 Most Common Book Titles\"},\"barmode\":\"relative\",\"height\":800},                        {\"responsive\": true}                    ).then(function(){\n",
              "                            \n",
              "var gd = document.getElementById('aadd465e-67f7-4c58-bfb0-15939515e486');\n",
              "var x = new MutationObserver(function (mutations, observer) {{\n",
              "        var display = window.getComputedStyle(gd).display;\n",
              "        if (!display || display === 'none') {{\n",
              "            console.log([gd, 'removed!']);\n",
              "            Plotly.purge(gd);\n",
              "            observer.disconnect();\n",
              "        }}\n",
              "}});\n",
              "\n",
              "// Listen for the removal of the full notebook cells\n",
              "var notebookContainer = gd.closest('#notebook-container');\n",
              "if (notebookContainer) {{\n",
              "    x.observe(notebookContainer, {childList: true});\n",
              "}}\n",
              "\n",
              "// Listen for the clearing of the current output cell\n",
              "var outputEl = gd.closest('.output');\n",
              "if (outputEl) {{\n",
              "    x.observe(outputEl, {childList: true});\n",
              "}}\n",
              "\n",
              "                        })                };                            </script>        </div>\n",
              "</body>\n",
              "</html>"
            ]
          },
          "metadata": {}
        }
      ]
    },
    {
      "cell_type": "markdown",
      "source": [
        "#### 4.6) Top 25 authors by total pages written."
      ],
      "metadata": {
        "id": "gqsDxzWFTHWs"
      }
    },
    {
      "cell_type": "code",
      "metadata": {
        "colab": {
          "base_uri": "https://localhost:8080/",
          "height": 817
        },
        "id": "5a974df7",
        "outputId": "dbade228-c4e7-4bda-f126-8bc15175c29c"
      },
      "source": [
        "import plotly.express as px\n",
        "\n",
        "data = data[data['pages'] < 2000]\n",
        "author_pages = data.groupby('author_id').sum()['pages'].sort_values(ascending=False).head(25).reset_index()\n",
        "author_pages.columns = ['author_id', 'total_pages']\n",
        "\n",
        "names = []\n",
        "\n",
        "for author_id in author_pages['author_id']:\n",
        "  names.append(data[data['author_id'] == author_id]['author'].iloc[0])\n",
        "\n",
        "author_pages['author_id'] = names\n",
        "\n",
        "fig = px.bar(author_pages,\n",
        "             x='total_pages',\n",
        "             y='author_id',\n",
        "             orientation='h',\n",
        "             title='Top 25 Authors by Total Pages Written',\n",
        "             template='plotly_dark',\n",
        "             color='total_pages',\n",
        "             color_continuous_scale='Blues')\n",
        "\n",
        "fig.update_layout(yaxis={'categoryorder':'total ascending'}, height=800)\n",
        "fig.show()"
      ],
      "execution_count": 75,
      "outputs": [
        {
          "output_type": "display_data",
          "data": {
            "text/html": [
              "<html>\n",
              "<head><meta charset=\"utf-8\" /></head>\n",
              "<body>\n",
              "    <div>            <script src=\"https://cdnjs.cloudflare.com/ajax/libs/mathjax/2.7.5/MathJax.js?config=TeX-AMS-MML_SVG\"></script><script type=\"text/javascript\">if (window.MathJax && window.MathJax.Hub && window.MathJax.Hub.Config) {window.MathJax.Hub.Config({SVG: {font: \"STIX-Web\"}});}</script>                <script type=\"text/javascript\">window.PlotlyConfig = {MathJaxConfig: 'local'};</script>\n",
              "        <script charset=\"utf-8\" src=\"https://cdn.plot.ly/plotly-2.24.1.min.js\"></script>                <div id=\"48a0899f-8c18-4113-bfa4-37cf052aac4c\" class=\"plotly-graph-div\" style=\"height:800px; width:100%;\"></div>            <script type=\"text/javascript\">                                    window.PLOTLYENV=window.PLOTLYENV || {};                                    if (document.getElementById(\"48a0899f-8c18-4113-bfa4-37cf052aac4c\")) {                    Plotly.newPlot(                        \"48a0899f-8c18-4113-bfa4-37cf052aac4c\",                        [{\"alignmentgroup\":\"True\",\"hovertemplate\":\"total_pages=%{marker.color}\\u003cbr\\u003eauthor_id=%{y}\\u003cextra\\u003e\\u003c\\u002fextra\\u003e\",\"legendgroup\":\"\",\"marker\":{\"color\":[194891,76242,74181,62105,59917,58045,56798,56747,56735,56484,52815,47172,46820,45833,43472,42054,41875,39546,39357,39216,38663,37993,37388,35672,35286],\"coloraxis\":\"coloraxis\",\"pattern\":{\"shape\":\"\"}},\"name\":\"\",\"offsetgroup\":\"\",\"orientation\":\"h\",\"showlegend\":false,\"textposition\":\"auto\",\"x\":[194891,76242,74181,62105,59917,58045,56798,56747,56735,56484,52815,47172,46820,45833,43472,42054,41875,39546,39357,39216,38663,37993,37388,35672,35286],\"xaxis\":\"x\",\"y\":[\"Hal Leonard Corp.\",\"Research Group\",\"Victor Young\",\"Corín Tellado\",\"McGraw-Hill\",\"Edgar Allan Poe\",\"DK Publishing\",\"Nora Roberts\",\"United States. General Accounting Office\",\"Isaac Asimov\",\"James Patterson\",\"Debbie Macomber\",\"Robert Allan Silverberg\",\"William Shakespeare\",\"Ellery Queen\",\"Carolyn Keene\",\"Heather Graham\",\"Samuel G. Goodrich\",\"R. L. Stine\",\"P. G. Wodehouse\",\"Hugh D. Young\",\"Various\",\"Stephen King\",\"Danielle Steel\",\"Piers Anthony\"],\"yaxis\":\"y\",\"type\":\"bar\"}],                        {\"template\":{\"data\":{\"barpolar\":[{\"marker\":{\"line\":{\"color\":\"rgb(17,17,17)\",\"width\":0.5},\"pattern\":{\"fillmode\":\"overlay\",\"size\":10,\"solidity\":0.2}},\"type\":\"barpolar\"}],\"bar\":[{\"error_x\":{\"color\":\"#f2f5fa\"},\"error_y\":{\"color\":\"#f2f5fa\"},\"marker\":{\"line\":{\"color\":\"rgb(17,17,17)\",\"width\":0.5},\"pattern\":{\"fillmode\":\"overlay\",\"size\":10,\"solidity\":0.2}},\"type\":\"bar\"}],\"carpet\":[{\"aaxis\":{\"endlinecolor\":\"#A2B1C6\",\"gridcolor\":\"#506784\",\"linecolor\":\"#506784\",\"minorgridcolor\":\"#506784\",\"startlinecolor\":\"#A2B1C6\"},\"baxis\":{\"endlinecolor\":\"#A2B1C6\",\"gridcolor\":\"#506784\",\"linecolor\":\"#506784\",\"minorgridcolor\":\"#506784\",\"startlinecolor\":\"#A2B1C6\"},\"type\":\"carpet\"}],\"choropleth\":[{\"colorbar\":{\"outlinewidth\":0,\"ticks\":\"\"},\"type\":\"choropleth\"}],\"contourcarpet\":[{\"colorbar\":{\"outlinewidth\":0,\"ticks\":\"\"},\"type\":\"contourcarpet\"}],\"contour\":[{\"colorbar\":{\"outlinewidth\":0,\"ticks\":\"\"},\"colorscale\":[[0.0,\"#0d0887\"],[0.1111111111111111,\"#46039f\"],[0.2222222222222222,\"#7201a8\"],[0.3333333333333333,\"#9c179e\"],[0.4444444444444444,\"#bd3786\"],[0.5555555555555556,\"#d8576b\"],[0.6666666666666666,\"#ed7953\"],[0.7777777777777778,\"#fb9f3a\"],[0.8888888888888888,\"#fdca26\"],[1.0,\"#f0f921\"]],\"type\":\"contour\"}],\"heatmapgl\":[{\"colorbar\":{\"outlinewidth\":0,\"ticks\":\"\"},\"colorscale\":[[0.0,\"#0d0887\"],[0.1111111111111111,\"#46039f\"],[0.2222222222222222,\"#7201a8\"],[0.3333333333333333,\"#9c179e\"],[0.4444444444444444,\"#bd3786\"],[0.5555555555555556,\"#d8576b\"],[0.6666666666666666,\"#ed7953\"],[0.7777777777777778,\"#fb9f3a\"],[0.8888888888888888,\"#fdca26\"],[1.0,\"#f0f921\"]],\"type\":\"heatmapgl\"}],\"heatmap\":[{\"colorbar\":{\"outlinewidth\":0,\"ticks\":\"\"},\"colorscale\":[[0.0,\"#0d0887\"],[0.1111111111111111,\"#46039f\"],[0.2222222222222222,\"#7201a8\"],[0.3333333333333333,\"#9c179e\"],[0.4444444444444444,\"#bd3786\"],[0.5555555555555556,\"#d8576b\"],[0.6666666666666666,\"#ed7953\"],[0.7777777777777778,\"#fb9f3a\"],[0.8888888888888888,\"#fdca26\"],[1.0,\"#f0f921\"]],\"type\":\"heatmap\"}],\"histogram2dcontour\":[{\"colorbar\":{\"outlinewidth\":0,\"ticks\":\"\"},\"colorscale\":[[0.0,\"#0d0887\"],[0.1111111111111111,\"#46039f\"],[0.2222222222222222,\"#7201a8\"],[0.3333333333333333,\"#9c179e\"],[0.4444444444444444,\"#bd3786\"],[0.5555555555555556,\"#d8576b\"],[0.6666666666666666,\"#ed7953\"],[0.7777777777777778,\"#fb9f3a\"],[0.8888888888888888,\"#fdca26\"],[1.0,\"#f0f921\"]],\"type\":\"histogram2dcontour\"}],\"histogram2d\":[{\"colorbar\":{\"outlinewidth\":0,\"ticks\":\"\"},\"colorscale\":[[0.0,\"#0d0887\"],[0.1111111111111111,\"#46039f\"],[0.2222222222222222,\"#7201a8\"],[0.3333333333333333,\"#9c179e\"],[0.4444444444444444,\"#bd3786\"],[0.5555555555555556,\"#d8576b\"],[0.6666666666666666,\"#ed7953\"],[0.7777777777777778,\"#fb9f3a\"],[0.8888888888888888,\"#fdca26\"],[1.0,\"#f0f921\"]],\"type\":\"histogram2d\"}],\"histogram\":[{\"marker\":{\"pattern\":{\"fillmode\":\"overlay\",\"size\":10,\"solidity\":0.2}},\"type\":\"histogram\"}],\"mesh3d\":[{\"colorbar\":{\"outlinewidth\":0,\"ticks\":\"\"},\"type\":\"mesh3d\"}],\"parcoords\":[{\"line\":{\"colorbar\":{\"outlinewidth\":0,\"ticks\":\"\"}},\"type\":\"parcoords\"}],\"pie\":[{\"automargin\":true,\"type\":\"pie\"}],\"scatter3d\":[{\"line\":{\"colorbar\":{\"outlinewidth\":0,\"ticks\":\"\"}},\"marker\":{\"colorbar\":{\"outlinewidth\":0,\"ticks\":\"\"}},\"type\":\"scatter3d\"}],\"scattercarpet\":[{\"marker\":{\"colorbar\":{\"outlinewidth\":0,\"ticks\":\"\"}},\"type\":\"scattercarpet\"}],\"scattergeo\":[{\"marker\":{\"colorbar\":{\"outlinewidth\":0,\"ticks\":\"\"}},\"type\":\"scattergeo\"}],\"scattergl\":[{\"marker\":{\"line\":{\"color\":\"#283442\"}},\"type\":\"scattergl\"}],\"scattermapbox\":[{\"marker\":{\"colorbar\":{\"outlinewidth\":0,\"ticks\":\"\"}},\"type\":\"scattermapbox\"}],\"scatterpolargl\":[{\"marker\":{\"colorbar\":{\"outlinewidth\":0,\"ticks\":\"\"}},\"type\":\"scatterpolargl\"}],\"scatterpolar\":[{\"marker\":{\"colorbar\":{\"outlinewidth\":0,\"ticks\":\"\"}},\"type\":\"scatterpolar\"}],\"scatter\":[{\"marker\":{\"line\":{\"color\":\"#283442\"}},\"type\":\"scatter\"}],\"scatterternary\":[{\"marker\":{\"colorbar\":{\"outlinewidth\":0,\"ticks\":\"\"}},\"type\":\"scatterternary\"}],\"surface\":[{\"colorbar\":{\"outlinewidth\":0,\"ticks\":\"\"},\"colorscale\":[[0.0,\"#0d0887\"],[0.1111111111111111,\"#46039f\"],[0.2222222222222222,\"#7201a8\"],[0.3333333333333333,\"#9c179e\"],[0.4444444444444444,\"#bd3786\"],[0.5555555555555556,\"#d8576b\"],[0.6666666666666666,\"#ed7953\"],[0.7777777777777778,\"#fb9f3a\"],[0.8888888888888888,\"#fdca26\"],[1.0,\"#f0f921\"]],\"type\":\"surface\"}],\"table\":[{\"cells\":{\"fill\":{\"color\":\"#506784\"},\"line\":{\"color\":\"rgb(17,17,17)\"}},\"header\":{\"fill\":{\"color\":\"#2a3f5f\"},\"line\":{\"color\":\"rgb(17,17,17)\"}},\"type\":\"table\"}]},\"layout\":{\"annotationdefaults\":{\"arrowcolor\":\"#f2f5fa\",\"arrowhead\":0,\"arrowwidth\":1},\"autotypenumbers\":\"strict\",\"coloraxis\":{\"colorbar\":{\"outlinewidth\":0,\"ticks\":\"\"}},\"colorscale\":{\"diverging\":[[0,\"#8e0152\"],[0.1,\"#c51b7d\"],[0.2,\"#de77ae\"],[0.3,\"#f1b6da\"],[0.4,\"#fde0ef\"],[0.5,\"#f7f7f7\"],[0.6,\"#e6f5d0\"],[0.7,\"#b8e186\"],[0.8,\"#7fbc41\"],[0.9,\"#4d9221\"],[1,\"#276419\"]],\"sequential\":[[0.0,\"#0d0887\"],[0.1111111111111111,\"#46039f\"],[0.2222222222222222,\"#7201a8\"],[0.3333333333333333,\"#9c179e\"],[0.4444444444444444,\"#bd3786\"],[0.5555555555555556,\"#d8576b\"],[0.6666666666666666,\"#ed7953\"],[0.7777777777777778,\"#fb9f3a\"],[0.8888888888888888,\"#fdca26\"],[1.0,\"#f0f921\"]],\"sequentialminus\":[[0.0,\"#0d0887\"],[0.1111111111111111,\"#46039f\"],[0.2222222222222222,\"#7201a8\"],[0.3333333333333333,\"#9c179e\"],[0.4444444444444444,\"#bd3786\"],[0.5555555555555556,\"#d8576b\"],[0.6666666666666666,\"#ed7953\"],[0.7777777777777778,\"#fb9f3a\"],[0.8888888888888888,\"#fdca26\"],[1.0,\"#f0f921\"]]},\"colorway\":[\"#636efa\",\"#EF553B\",\"#00cc96\",\"#ab63fa\",\"#FFA15A\",\"#19d3f3\",\"#FF6692\",\"#B6E880\",\"#FF97FF\",\"#FECB52\"],\"font\":{\"color\":\"#f2f5fa\"},\"geo\":{\"bgcolor\":\"rgb(17,17,17)\",\"lakecolor\":\"rgb(17,17,17)\",\"landcolor\":\"rgb(17,17,17)\",\"showlakes\":true,\"showland\":true,\"subunitcolor\":\"#506784\"},\"hoverlabel\":{\"align\":\"left\"},\"hovermode\":\"closest\",\"mapbox\":{\"style\":\"dark\"},\"paper_bgcolor\":\"rgb(17,17,17)\",\"plot_bgcolor\":\"rgb(17,17,17)\",\"polar\":{\"angularaxis\":{\"gridcolor\":\"#506784\",\"linecolor\":\"#506784\",\"ticks\":\"\"},\"bgcolor\":\"rgb(17,17,17)\",\"radialaxis\":{\"gridcolor\":\"#506784\",\"linecolor\":\"#506784\",\"ticks\":\"\"}},\"scene\":{\"xaxis\":{\"backgroundcolor\":\"rgb(17,17,17)\",\"gridcolor\":\"#506784\",\"gridwidth\":2,\"linecolor\":\"#506784\",\"showbackground\":true,\"ticks\":\"\",\"zerolinecolor\":\"#C8D4E3\"},\"yaxis\":{\"backgroundcolor\":\"rgb(17,17,17)\",\"gridcolor\":\"#506784\",\"gridwidth\":2,\"linecolor\":\"#506784\",\"showbackground\":true,\"ticks\":\"\",\"zerolinecolor\":\"#C8D4E3\"},\"zaxis\":{\"backgroundcolor\":\"rgb(17,17,17)\",\"gridcolor\":\"#506784\",\"gridwidth\":2,\"linecolor\":\"#506784\",\"showbackground\":true,\"ticks\":\"\",\"zerolinecolor\":\"#C8D4E3\"}},\"shapedefaults\":{\"line\":{\"color\":\"#f2f5fa\"}},\"sliderdefaults\":{\"bgcolor\":\"#C8D4E3\",\"bordercolor\":\"rgb(17,17,17)\",\"borderwidth\":1,\"tickwidth\":0},\"ternary\":{\"aaxis\":{\"gridcolor\":\"#506784\",\"linecolor\":\"#506784\",\"ticks\":\"\"},\"baxis\":{\"gridcolor\":\"#506784\",\"linecolor\":\"#506784\",\"ticks\":\"\"},\"bgcolor\":\"rgb(17,17,17)\",\"caxis\":{\"gridcolor\":\"#506784\",\"linecolor\":\"#506784\",\"ticks\":\"\"}},\"title\":{\"x\":0.05},\"updatemenudefaults\":{\"bgcolor\":\"#506784\",\"borderwidth\":0},\"xaxis\":{\"automargin\":true,\"gridcolor\":\"#283442\",\"linecolor\":\"#506784\",\"ticks\":\"\",\"title\":{\"standoff\":15},\"zerolinecolor\":\"#283442\",\"zerolinewidth\":2},\"yaxis\":{\"automargin\":true,\"gridcolor\":\"#283442\",\"linecolor\":\"#506784\",\"ticks\":\"\",\"title\":{\"standoff\":15},\"zerolinecolor\":\"#283442\",\"zerolinewidth\":2}}},\"xaxis\":{\"anchor\":\"y\",\"domain\":[0.0,1.0],\"title\":{\"text\":\"total_pages\"}},\"yaxis\":{\"anchor\":\"x\",\"domain\":[0.0,1.0],\"title\":{\"text\":\"author_id\"},\"categoryorder\":\"total ascending\"},\"coloraxis\":{\"colorbar\":{\"title\":{\"text\":\"total_pages\"}},\"colorscale\":[[0.0,\"rgb(247,251,255)\"],[0.125,\"rgb(222,235,247)\"],[0.25,\"rgb(198,219,239)\"],[0.375,\"rgb(158,202,225)\"],[0.5,\"rgb(107,174,214)\"],[0.625,\"rgb(66,146,198)\"],[0.75,\"rgb(33,113,181)\"],[0.875,\"rgb(8,81,156)\"],[1.0,\"rgb(8,48,107)\"]]},\"legend\":{\"tracegroupgap\":0},\"title\":{\"text\":\"Top 25 Authors by Total Pages Written\"},\"barmode\":\"relative\",\"height\":800},                        {\"responsive\": true}                    ).then(function(){\n",
              "                            \n",
              "var gd = document.getElementById('48a0899f-8c18-4113-bfa4-37cf052aac4c');\n",
              "var x = new MutationObserver(function (mutations, observer) {{\n",
              "        var display = window.getComputedStyle(gd).display;\n",
              "        if (!display || display === 'none') {{\n",
              "            console.log([gd, 'removed!']);\n",
              "            Plotly.purge(gd);\n",
              "            observer.disconnect();\n",
              "        }}\n",
              "}});\n",
              "\n",
              "// Listen for the removal of the full notebook cells\n",
              "var notebookContainer = gd.closest('#notebook-container');\n",
              "if (notebookContainer) {{\n",
              "    x.observe(notebookContainer, {childList: true});\n",
              "}}\n",
              "\n",
              "// Listen for the clearing of the current output cell\n",
              "var outputEl = gd.closest('.output');\n",
              "if (outputEl) {{\n",
              "    x.observe(outputEl, {childList: true});\n",
              "}}\n",
              "\n",
              "                        })                };                            </script>        </div>\n",
              "</body>\n",
              "</html>"
            ]
          },
          "metadata": {}
        }
      ]
    },
    {
      "cell_type": "markdown",
      "source": [
        "#### 4.7) Top 25 authors by “want_to_read”, “currently_reading”, and “have_read”."
      ],
      "metadata": {
        "id": "x3eZU7brUbo9"
      }
    },
    {
      "cell_type": "code",
      "metadata": {
        "colab": {
          "base_uri": "https://localhost:8080/",
          "height": 817
        },
        "id": "e175297f",
        "outputId": "e1c76784-2395-4e65-dad6-a348d7d35530"
      },
      "source": [
        "# @title\n",
        "import plotly.graph_objects as go\n",
        "\n",
        "author_reading_stats = data.groupby('author_id').sum()[['want_to_read', 'currently_reading', 'have_read']].sort_values(by = 'have_read', ascending = False).head(25)\n",
        "\n",
        "names = []\n",
        "\n",
        "for author_id in author_reading_stats.index:\n",
        "  names.append(data[data['author_id'] == author_id]['author'].iloc[0])\n",
        "\n",
        "author_reading_stats['author'] = names\n",
        "\n",
        "fig = go.Figure(data=[\n",
        "    go.Bar(name='Want to Read', x=author_reading_stats['author'], y=author_reading_stats['want_to_read']),\n",
        "    go.Bar(name='Currently Reading', x=author_reading_stats['author'], y=author_reading_stats['currently_reading']),\n",
        "    go.Bar(name='Have Read', x=author_reading_stats['author'], y=author_reading_stats['have_read'])\n",
        "])\n",
        "\n",
        "fig.update_layout(barmode='group', title='Top 25 Authors by Reading Stats', template='plotly_dark', height=800)\n",
        "fig.show()"
      ],
      "execution_count": 78,
      "outputs": [
        {
          "output_type": "display_data",
          "data": {
            "text/html": [
              "<html>\n",
              "<head><meta charset=\"utf-8\" /></head>\n",
              "<body>\n",
              "    <div>            <script src=\"https://cdnjs.cloudflare.com/ajax/libs/mathjax/2.7.5/MathJax.js?config=TeX-AMS-MML_SVG\"></script><script type=\"text/javascript\">if (window.MathJax && window.MathJax.Hub && window.MathJax.Hub.Config) {window.MathJax.Hub.Config({SVG: {font: \"STIX-Web\"}});}</script>                <script type=\"text/javascript\">window.PlotlyConfig = {MathJaxConfig: 'local'};</script>\n",
              "        <script charset=\"utf-8\" src=\"https://cdn.plot.ly/plotly-2.24.1.min.js\"></script>                <div id=\"5783915d-3d01-40af-aaa5-c1072b1ccf31\" class=\"plotly-graph-div\" style=\"height:800px; width:100%;\"></div>            <script type=\"text/javascript\">                                    window.PLOTLYENV=window.PLOTLYENV || {};                                    if (document.getElementById(\"5783915d-3d01-40af-aaa5-c1072b1ccf31\")) {                    Plotly.newPlot(                        \"5783915d-3d01-40af-aaa5-c1072b1ccf31\",                        [{\"name\":\"Want to Read\",\"x\":[\"Stephen King\",\"J. K. Rowling\",\"Carole Mortimer\",\"Penny Jordan\",\"Rick Riordan\",\"R. L. Stine\",\"Nora Roberts\",\"Agatha Christie\",\"Terry Pratchett\",\"Colleen Hoover\",\"Isaac Asimov\",\"Lynne Graham\",\"Betty Neels\",\"Roald Dahl\",\"Neil Gaiman\",\"Brandon Sanderson\",\"Dr. Seuss\",\"Orson Scott Card\",\"Suzanne Collins\",\"Erin Hunter\",\"J.R.R. Tolkien\",\"George Orwell\",\"Jeff Kinney\",\"C. S. Lewis\",\"William Shakespeare\"],\"y\":[25526,21371,3956,3552,10003,10935,6834,8319,2685,56322,4696,2367,1687,8848,4919,2210,5183,1654,4680,4003,4181,4797,8965,3440,5305],\"type\":\"bar\"},{\"name\":\"Currently Reading\",\"x\":[\"Stephen King\",\"J. K. Rowling\",\"Carole Mortimer\",\"Penny Jordan\",\"Rick Riordan\",\"R. L. Stine\",\"Nora Roberts\",\"Agatha Christie\",\"Terry Pratchett\",\"Colleen Hoover\",\"Isaac Asimov\",\"Lynne Graham\",\"Betty Neels\",\"Roald Dahl\",\"Neil Gaiman\",\"Brandon Sanderson\",\"Dr. Seuss\",\"Orson Scott Card\",\"Suzanne Collins\",\"Erin Hunter\",\"J.R.R. Tolkien\",\"George Orwell\",\"Jeff Kinney\",\"C. S. Lewis\",\"William Shakespeare\"],\"y\":[1550,1746,356,294,819,418,406,481,107,2793,270,214,122,727,194,131,240,80,302,237,287,316,612,212,305],\"type\":\"bar\"},{\"name\":\"Have Read\",\"x\":[\"Stephen King\",\"J. K. Rowling\",\"Carole Mortimer\",\"Penny Jordan\",\"Rick Riordan\",\"R. L. Stine\",\"Nora Roberts\",\"Agatha Christie\",\"Terry Pratchett\",\"Colleen Hoover\",\"Isaac Asimov\",\"Lynne Graham\",\"Betty Neels\",\"Roald Dahl\",\"Neil Gaiman\",\"Brandon Sanderson\",\"Dr. Seuss\",\"Orson Scott Card\",\"Suzanne Collins\",\"Erin Hunter\",\"J.R.R. Tolkien\",\"George Orwell\",\"Jeff Kinney\",\"C. S. Lewis\",\"William Shakespeare\"],\"y\":[4522,3597,2930,2636,2382,2336,2306,2294,2292,2153,1781,1775,1638,1629,1555,1516,1432,1222,1221,1184,1158,1118,1117,1087,1057],\"type\":\"bar\"}],                        {\"template\":{\"data\":{\"barpolar\":[{\"marker\":{\"line\":{\"color\":\"rgb(17,17,17)\",\"width\":0.5},\"pattern\":{\"fillmode\":\"overlay\",\"size\":10,\"solidity\":0.2}},\"type\":\"barpolar\"}],\"bar\":[{\"error_x\":{\"color\":\"#f2f5fa\"},\"error_y\":{\"color\":\"#f2f5fa\"},\"marker\":{\"line\":{\"color\":\"rgb(17,17,17)\",\"width\":0.5},\"pattern\":{\"fillmode\":\"overlay\",\"size\":10,\"solidity\":0.2}},\"type\":\"bar\"}],\"carpet\":[{\"aaxis\":{\"endlinecolor\":\"#A2B1C6\",\"gridcolor\":\"#506784\",\"linecolor\":\"#506784\",\"minorgridcolor\":\"#506784\",\"startlinecolor\":\"#A2B1C6\"},\"baxis\":{\"endlinecolor\":\"#A2B1C6\",\"gridcolor\":\"#506784\",\"linecolor\":\"#506784\",\"minorgridcolor\":\"#506784\",\"startlinecolor\":\"#A2B1C6\"},\"type\":\"carpet\"}],\"choropleth\":[{\"colorbar\":{\"outlinewidth\":0,\"ticks\":\"\"},\"type\":\"choropleth\"}],\"contourcarpet\":[{\"colorbar\":{\"outlinewidth\":0,\"ticks\":\"\"},\"type\":\"contourcarpet\"}],\"contour\":[{\"colorbar\":{\"outlinewidth\":0,\"ticks\":\"\"},\"colorscale\":[[0.0,\"#0d0887\"],[0.1111111111111111,\"#46039f\"],[0.2222222222222222,\"#7201a8\"],[0.3333333333333333,\"#9c179e\"],[0.4444444444444444,\"#bd3786\"],[0.5555555555555556,\"#d8576b\"],[0.6666666666666666,\"#ed7953\"],[0.7777777777777778,\"#fb9f3a\"],[0.8888888888888888,\"#fdca26\"],[1.0,\"#f0f921\"]],\"type\":\"contour\"}],\"heatmapgl\":[{\"colorbar\":{\"outlinewidth\":0,\"ticks\":\"\"},\"colorscale\":[[0.0,\"#0d0887\"],[0.1111111111111111,\"#46039f\"],[0.2222222222222222,\"#7201a8\"],[0.3333333333333333,\"#9c179e\"],[0.4444444444444444,\"#bd3786\"],[0.5555555555555556,\"#d8576b\"],[0.6666666666666666,\"#ed7953\"],[0.7777777777777778,\"#fb9f3a\"],[0.8888888888888888,\"#fdca26\"],[1.0,\"#f0f921\"]],\"type\":\"heatmapgl\"}],\"heatmap\":[{\"colorbar\":{\"outlinewidth\":0,\"ticks\":\"\"},\"colorscale\":[[0.0,\"#0d0887\"],[0.1111111111111111,\"#46039f\"],[0.2222222222222222,\"#7201a8\"],[0.3333333333333333,\"#9c179e\"],[0.4444444444444444,\"#bd3786\"],[0.5555555555555556,\"#d8576b\"],[0.6666666666666666,\"#ed7953\"],[0.7777777777777778,\"#fb9f3a\"],[0.8888888888888888,\"#fdca26\"],[1.0,\"#f0f921\"]],\"type\":\"heatmap\"}],\"histogram2dcontour\":[{\"colorbar\":{\"outlinewidth\":0,\"ticks\":\"\"},\"colorscale\":[[0.0,\"#0d0887\"],[0.1111111111111111,\"#46039f\"],[0.2222222222222222,\"#7201a8\"],[0.3333333333333333,\"#9c179e\"],[0.4444444444444444,\"#bd3786\"],[0.5555555555555556,\"#d8576b\"],[0.6666666666666666,\"#ed7953\"],[0.7777777777777778,\"#fb9f3a\"],[0.8888888888888888,\"#fdca26\"],[1.0,\"#f0f921\"]],\"type\":\"histogram2dcontour\"}],\"histogram2d\":[{\"colorbar\":{\"outlinewidth\":0,\"ticks\":\"\"},\"colorscale\":[[0.0,\"#0d0887\"],[0.1111111111111111,\"#46039f\"],[0.2222222222222222,\"#7201a8\"],[0.3333333333333333,\"#9c179e\"],[0.4444444444444444,\"#bd3786\"],[0.5555555555555556,\"#d8576b\"],[0.6666666666666666,\"#ed7953\"],[0.7777777777777778,\"#fb9f3a\"],[0.8888888888888888,\"#fdca26\"],[1.0,\"#f0f921\"]],\"type\":\"histogram2d\"}],\"histogram\":[{\"marker\":{\"pattern\":{\"fillmode\":\"overlay\",\"size\":10,\"solidity\":0.2}},\"type\":\"histogram\"}],\"mesh3d\":[{\"colorbar\":{\"outlinewidth\":0,\"ticks\":\"\"},\"type\":\"mesh3d\"}],\"parcoords\":[{\"line\":{\"colorbar\":{\"outlinewidth\":0,\"ticks\":\"\"}},\"type\":\"parcoords\"}],\"pie\":[{\"automargin\":true,\"type\":\"pie\"}],\"scatter3d\":[{\"line\":{\"colorbar\":{\"outlinewidth\":0,\"ticks\":\"\"}},\"marker\":{\"colorbar\":{\"outlinewidth\":0,\"ticks\":\"\"}},\"type\":\"scatter3d\"}],\"scattercarpet\":[{\"marker\":{\"colorbar\":{\"outlinewidth\":0,\"ticks\":\"\"}},\"type\":\"scattercarpet\"}],\"scattergeo\":[{\"marker\":{\"colorbar\":{\"outlinewidth\":0,\"ticks\":\"\"}},\"type\":\"scattergeo\"}],\"scattergl\":[{\"marker\":{\"line\":{\"color\":\"#283442\"}},\"type\":\"scattergl\"}],\"scattermapbox\":[{\"marker\":{\"colorbar\":{\"outlinewidth\":0,\"ticks\":\"\"}},\"type\":\"scattermapbox\"}],\"scatterpolargl\":[{\"marker\":{\"colorbar\":{\"outlinewidth\":0,\"ticks\":\"\"}},\"type\":\"scatterpolargl\"}],\"scatterpolar\":[{\"marker\":{\"colorbar\":{\"outlinewidth\":0,\"ticks\":\"\"}},\"type\":\"scatterpolar\"}],\"scatter\":[{\"marker\":{\"line\":{\"color\":\"#283442\"}},\"type\":\"scatter\"}],\"scatterternary\":[{\"marker\":{\"colorbar\":{\"outlinewidth\":0,\"ticks\":\"\"}},\"type\":\"scatterternary\"}],\"surface\":[{\"colorbar\":{\"outlinewidth\":0,\"ticks\":\"\"},\"colorscale\":[[0.0,\"#0d0887\"],[0.1111111111111111,\"#46039f\"],[0.2222222222222222,\"#7201a8\"],[0.3333333333333333,\"#9c179e\"],[0.4444444444444444,\"#bd3786\"],[0.5555555555555556,\"#d8576b\"],[0.6666666666666666,\"#ed7953\"],[0.7777777777777778,\"#fb9f3a\"],[0.8888888888888888,\"#fdca26\"],[1.0,\"#f0f921\"]],\"type\":\"surface\"}],\"table\":[{\"cells\":{\"fill\":{\"color\":\"#506784\"},\"line\":{\"color\":\"rgb(17,17,17)\"}},\"header\":{\"fill\":{\"color\":\"#2a3f5f\"},\"line\":{\"color\":\"rgb(17,17,17)\"}},\"type\":\"table\"}]},\"layout\":{\"annotationdefaults\":{\"arrowcolor\":\"#f2f5fa\",\"arrowhead\":0,\"arrowwidth\":1},\"autotypenumbers\":\"strict\",\"coloraxis\":{\"colorbar\":{\"outlinewidth\":0,\"ticks\":\"\"}},\"colorscale\":{\"diverging\":[[0,\"#8e0152\"],[0.1,\"#c51b7d\"],[0.2,\"#de77ae\"],[0.3,\"#f1b6da\"],[0.4,\"#fde0ef\"],[0.5,\"#f7f7f7\"],[0.6,\"#e6f5d0\"],[0.7,\"#b8e186\"],[0.8,\"#7fbc41\"],[0.9,\"#4d9221\"],[1,\"#276419\"]],\"sequential\":[[0.0,\"#0d0887\"],[0.1111111111111111,\"#46039f\"],[0.2222222222222222,\"#7201a8\"],[0.3333333333333333,\"#9c179e\"],[0.4444444444444444,\"#bd3786\"],[0.5555555555555556,\"#d8576b\"],[0.6666666666666666,\"#ed7953\"],[0.7777777777777778,\"#fb9f3a\"],[0.8888888888888888,\"#fdca26\"],[1.0,\"#f0f921\"]],\"sequentialminus\":[[0.0,\"#0d0887\"],[0.1111111111111111,\"#46039f\"],[0.2222222222222222,\"#7201a8\"],[0.3333333333333333,\"#9c179e\"],[0.4444444444444444,\"#bd3786\"],[0.5555555555555556,\"#d8576b\"],[0.6666666666666666,\"#ed7953\"],[0.7777777777777778,\"#fb9f3a\"],[0.8888888888888888,\"#fdca26\"],[1.0,\"#f0f921\"]]},\"colorway\":[\"#636efa\",\"#EF553B\",\"#00cc96\",\"#ab63fa\",\"#FFA15A\",\"#19d3f3\",\"#FF6692\",\"#B6E880\",\"#FF97FF\",\"#FECB52\"],\"font\":{\"color\":\"#f2f5fa\"},\"geo\":{\"bgcolor\":\"rgb(17,17,17)\",\"lakecolor\":\"rgb(17,17,17)\",\"landcolor\":\"rgb(17,17,17)\",\"showlakes\":true,\"showland\":true,\"subunitcolor\":\"#506784\"},\"hoverlabel\":{\"align\":\"left\"},\"hovermode\":\"closest\",\"mapbox\":{\"style\":\"dark\"},\"paper_bgcolor\":\"rgb(17,17,17)\",\"plot_bgcolor\":\"rgb(17,17,17)\",\"polar\":{\"angularaxis\":{\"gridcolor\":\"#506784\",\"linecolor\":\"#506784\",\"ticks\":\"\"},\"bgcolor\":\"rgb(17,17,17)\",\"radialaxis\":{\"gridcolor\":\"#506784\",\"linecolor\":\"#506784\",\"ticks\":\"\"}},\"scene\":{\"xaxis\":{\"backgroundcolor\":\"rgb(17,17,17)\",\"gridcolor\":\"#506784\",\"gridwidth\":2,\"linecolor\":\"#506784\",\"showbackground\":true,\"ticks\":\"\",\"zerolinecolor\":\"#C8D4E3\"},\"yaxis\":{\"backgroundcolor\":\"rgb(17,17,17)\",\"gridcolor\":\"#506784\",\"gridwidth\":2,\"linecolor\":\"#506784\",\"showbackground\":true,\"ticks\":\"\",\"zerolinecolor\":\"#C8D4E3\"},\"zaxis\":{\"backgroundcolor\":\"rgb(17,17,17)\",\"gridcolor\":\"#506784\",\"gridwidth\":2,\"linecolor\":\"#506784\",\"showbackground\":true,\"ticks\":\"\",\"zerolinecolor\":\"#C8D4E3\"}},\"shapedefaults\":{\"line\":{\"color\":\"#f2f5fa\"}},\"sliderdefaults\":{\"bgcolor\":\"#C8D4E3\",\"bordercolor\":\"rgb(17,17,17)\",\"borderwidth\":1,\"tickwidth\":0},\"ternary\":{\"aaxis\":{\"gridcolor\":\"#506784\",\"linecolor\":\"#506784\",\"ticks\":\"\"},\"baxis\":{\"gridcolor\":\"#506784\",\"linecolor\":\"#506784\",\"ticks\":\"\"},\"bgcolor\":\"rgb(17,17,17)\",\"caxis\":{\"gridcolor\":\"#506784\",\"linecolor\":\"#506784\",\"ticks\":\"\"}},\"title\":{\"x\":0.05},\"updatemenudefaults\":{\"bgcolor\":\"#506784\",\"borderwidth\":0},\"xaxis\":{\"automargin\":true,\"gridcolor\":\"#283442\",\"linecolor\":\"#506784\",\"ticks\":\"\",\"title\":{\"standoff\":15},\"zerolinecolor\":\"#283442\",\"zerolinewidth\":2},\"yaxis\":{\"automargin\":true,\"gridcolor\":\"#283442\",\"linecolor\":\"#506784\",\"ticks\":\"\",\"title\":{\"standoff\":15},\"zerolinecolor\":\"#283442\",\"zerolinewidth\":2}}},\"barmode\":\"group\",\"title\":{\"text\":\"Top 25 Authors by Reading Stats\"},\"height\":800},                        {\"responsive\": true}                    ).then(function(){\n",
              "                            \n",
              "var gd = document.getElementById('5783915d-3d01-40af-aaa5-c1072b1ccf31');\n",
              "var x = new MutationObserver(function (mutations, observer) {{\n",
              "        var display = window.getComputedStyle(gd).display;\n",
              "        if (!display || display === 'none') {{\n",
              "            console.log([gd, 'removed!']);\n",
              "            Plotly.purge(gd);\n",
              "            observer.disconnect();\n",
              "        }}\n",
              "}});\n",
              "\n",
              "// Listen for the removal of the full notebook cells\n",
              "var notebookContainer = gd.closest('#notebook-container');\n",
              "if (notebookContainer) {{\n",
              "    x.observe(notebookContainer, {childList: true});\n",
              "}}\n",
              "\n",
              "// Listen for the clearing of the current output cell\n",
              "var outputEl = gd.closest('.output');\n",
              "if (outputEl) {{\n",
              "    x.observe(outputEl, {childList: true});\n",
              "}}\n",
              "\n",
              "                        })                };                            </script>        </div>\n",
              "</body>\n",
              "</html>"
            ]
          },
          "metadata": {}
        }
      ]
    },
    {
      "cell_type": "markdown",
      "source": [
        "### Conclusion — Top 25 Authors by Reading Stats\n",
        "\n",
        "1. The chart mainly reflects **“Want to Read”** counts; other statuses are not visible.\n",
        "2. **Terry Pratchett** is a clear outlier (~56k), dominating the distribution.\n",
        "3. **Stephen King** (25k) and **J. K. Rowling** (~21k) form the next tier.\n",
        "4. Most other authors sit in the **3k–10k** range, showing a long-tail of interest.\n",
        "5. Interpretation: this is **reading intent**, not completions; comparisons are skewed by the outlier."
      ],
      "metadata": {
        "id": "AFXZMYQLpFQU"
      }
    },
    {
      "cell_type": "code",
      "source": [
        "# --- Top Authors by Shelf Status: Share (%) <-> Counts toggle ---\n",
        "import pandas as pd\n",
        "import numpy as np\n",
        "import plotly.graph_objects as go\n",
        "\n",
        "# ---------------- CONFIG ----------------\n",
        "TOP_N = 15                                     # change to 10/25 as you like\n",
        "COLORS = {\"want_to_read\":\"#7DB3FF\",\"currently_reading\":\"#F6C85F\",\"have_read\":\"#5CC689\"}\n",
        "BG = \"#111111\"; GRID = \"#2A2A2A\"; FONT = \"#E6E6E6\"\n",
        "LABEL_THRESH = 8                               # show % labels only if segment >= 8%\n",
        "\n",
        "# ---------------- AGGREGATION ----------------\n",
        "agg = (\n",
        "    data.groupby(\"author_id\")\n",
        "        .agg(\n",
        "            want_to_read=(\"want_to_read\",\"sum\"),\n",
        "            currently_reading=(\"currently_reading\",\"sum\"),\n",
        "            have_read=(\"have_read\",\"sum\"),\n",
        "            author=(\"author\",\"first\")\n",
        "        )\n",
        "        .sort_values(\"have_read\", ascending=False)   # sorted by Have Read (count)\n",
        "        .head(TOP_N)\n",
        "        .reset_index(drop=True)\n",
        ")\n",
        "agg[\"total\"] = agg[[\"want_to_read\",\"currently_reading\",\"have_read\"]].sum(axis=1)\n",
        "safe_div = lambda num: np.where(agg[\"total\"]>0, num/agg[\"total\"]*100, 0.0)\n",
        "agg[\"want_to_read_pct\"]      = safe_div(agg[\"want_to_read\"])\n",
        "agg[\"currently_reading_pct\"] = safe_div(agg[\"currently_reading\"])\n",
        "agg[\"have_read_pct\"]         = safe_div(agg[\"have_read\"])\n",
        "\n",
        "# ---------------- HELPERS ----------------\n",
        "def pct_text(series, thresh=LABEL_THRESH):\n",
        "    return [f\"{v:.0f}%\" if v >= thresh else \"\" for v in series]\n",
        "\n",
        "def total_annots_pct(df):\n",
        "    # right-edge totals for % view\n",
        "    return [dict(x=100, y=a, xref=\"x\", yref=\"y\", xshift=34, showarrow=False,\n",
        "                 text=f\"{t:,.0f}\", font=dict(color=FONT, size=11))\n",
        "            for a, t in zip(df[\"author\"], df[\"total\"])]\n",
        "\n",
        "def total_annots_cnt(df):\n",
        "    # right-edge totals for counts view\n",
        "    offset = df[\"total\"].max() * 0.03\n",
        "    return [dict(x=t+offset, y=a, xref=\"x\", yref=\"y\", showarrow=False,\n",
        "                 text=f\"{t:,.0f}\", font=dict(color=FONT, size=11))\n",
        "            for a, t in zip(df[\"author\"], df[\"total\"])]\n",
        "\n",
        "# dynamic height\n",
        "height = max(520, 28 * len(agg) + 180)\n",
        "\n",
        "# ---------------- FIGURE (initial = Share %) ----------------\n",
        "fig = go.Figure()\n",
        "\n",
        "# Order left->right: Want -> Current -> Have (matches legend)\n",
        "fig.add_bar(\n",
        "    name=\"Want to Read\", orientation=\"h\",\n",
        "    y=agg[\"author\"], x=agg[\"want_to_read_pct\"],\n",
        "    marker_color=COLORS[\"want_to_read\"],\n",
        "    customdata=np.stack([agg[\"want_to_read\"], agg[\"total\"]], axis=-1),\n",
        "    hovertemplate=\"<b>%{y}</b><br>Want to Read: %{customdata[0]:,.0f} \"\n",
        "                  \"(%{x:.1f}%)<br>Total: %{customdata[1]:,.0f}<extra></extra>\",\n",
        "    text=pct_text(agg[\"want_to_read_pct\"]), textposition=\"inside\"\n",
        ")\n",
        "\n",
        "fig.add_bar(\n",
        "    name=\"Currently Reading\", orientation=\"h\",\n",
        "    y=agg[\"author\"], x=agg[\"currently_reading_pct\"],\n",
        "    marker_color=COLORS[\"currently_reading\"],\n",
        "    # dark text on yellow for contrast\n",
        "    textfont=dict(color=\"#111\"),\n",
        "    customdata=np.stack([agg[\"currently_reading\"], agg[\"total\"]], axis=-1),\n",
        "    hovertemplate=\"<b>%{y}</b><br>Currently Reading: %{customdata[0]:,.0f} \"\n",
        "                  \"(%{x:.1f}%)<br>Total: %{customdata[1]:,.0f}<extra></extra>\",\n",
        "    text=pct_text(agg[\"currently_reading_pct\"]), textposition=\"inside\"\n",
        ")\n",
        "\n",
        "fig.add_bar(\n",
        "    name=\"Have Read\", orientation=\"h\",\n",
        "    y=agg[\"author\"], x=agg[\"have_read_pct\"],\n",
        "    marker_color=COLORS[\"have_read\"],\n",
        "    customdata=np.stack([agg[\"have_read\"], agg[\"total\"]], axis=-1),\n",
        "    hovertemplate=\"<b>%{y}</b><br>Have Read: %{customdata[0]:,.0f} \"\n",
        "                  \"(%{x:.1f}%)<br>Total: %{customdata[1]:,.0f}<extra></extra>\",\n",
        "    text=pct_text(agg[\"have_read_pct\"]), textposition=\"inside\"\n",
        ")\n",
        "\n",
        "n_total = int(agg[\"total\"].sum())\n",
        "fig.update_layout(\n",
        "    barmode=\"stack\",\n",
        "    title=dict(\n",
        "        text=f\"Top Authors by Shelf Status (100% Share View)\"\n",
        "             f\"<br><sup>How reading status is distributed per author — sorted by Have Read (count). \"\n",
        "             f\"n = {n_total:,}</sup>\",\n",
        "        x=0.02, xanchor=\"left\"\n",
        "    ),\n",
        "    paper_bgcolor=BG, plot_bgcolor=BG, font=dict(color=FONT, size=12),\n",
        "    legend=dict(orientation=\"h\", y=1.08, x=0.01), legend_traceorder=\"normal\",\n",
        "    height=height, margin=dict(l=160, r=160, t=95, b=40),\n",
        "    xaxis=dict(title=\"Share of shelves (%)\", range=[0,100], dtick=20,\n",
        "               ticksuffix=\"%\", gridcolor=GRID, zeroline=False),\n",
        "    yaxis=dict(autorange=\"reversed\", gridcolor=GRID)\n",
        ")\n",
        "\n",
        "# totals on the right (share view)\n",
        "fig.update_layout(annotations=total_annots_pct(agg))\n",
        "\n",
        "# ---------------- TOGGLE: Share (%)  <->  Counts ----------------\n",
        "# x arrays for both modes\n",
        "x_share = [agg[\"want_to_read_pct\"], agg[\"currently_reading_pct\"], agg[\"have_read_pct\"]]\n",
        "x_count = [agg[\"want_to_read\"],    agg[\"currently_reading\"],    agg[\"have_read\"]]\n",
        "\n",
        "# text arrays\n",
        "text_share = [pct_text(agg[\"want_to_read_pct\"]),\n",
        "              pct_text(agg[\"currently_reading_pct\"]),\n",
        "              pct_text(agg[\"have_read_pct\"])]\n",
        "text_blank = [[\"\"]*len(agg)]*3\n",
        "\n",
        "fig.update_layout(\n",
        "    updatemenus=[dict(\n",
        "        type=\"buttons\", x=0.02, y=1.18, xanchor=\"left\",\n",
        "        buttons=[\n",
        "            dict(\n",
        "                label=\"Share (%)\",\n",
        "                method=\"update\",\n",
        "                args=[\n",
        "                    {\"x\": x_share, \"text\": text_share},\n",
        "                    {\"xaxis\": dict(title=\"Share of shelves (%)\", range=[0,100], dtick=20,\n",
        "                                   ticksuffix=\"%\", gridcolor=GRID, zeroline=False),\n",
        "                     \"annotations\": total_annots_pct(agg),\n",
        "                     \"barmode\":\"stack\"}\n",
        "                ],\n",
        "            ),\n",
        "            dict(\n",
        "                label=\"Counts\",\n",
        "                method=\"update\",\n",
        "                args=[\n",
        "                    {\"x\": x_count, \"text\": text_blank},\n",
        "                    {\"xaxis\": dict(title=\"Books (count)\", ticksuffix=\"\", dtick=None,\n",
        "                                   gridcolor=GRID, zeroline=False, tickformat=\",~s\", range=None),\n",
        "                     \"annotations\": total_annots_cnt(agg),\n",
        "                     \"barmode\":\"stack\"}      # keep stacked to show composition + totals\n",
        "                ],\n",
        "            ),\n",
        "        ]\n",
        "    )]\n",
        ")\n",
        "\n",
        "fig.show()"
      ],
      "metadata": {
        "colab": {
          "base_uri": "https://localhost:8080/",
          "height": 617
        },
        "id": "bbrTBSa-lvZo",
        "outputId": "280a9710-3362-490f-c7df-abdf4658f326"
      },
      "execution_count": 92,
      "outputs": [
        {
          "output_type": "display_data",
          "data": {
            "text/html": [
              "<html>\n",
              "<head><meta charset=\"utf-8\" /></head>\n",
              "<body>\n",
              "    <div>            <script src=\"https://cdnjs.cloudflare.com/ajax/libs/mathjax/2.7.5/MathJax.js?config=TeX-AMS-MML_SVG\"></script><script type=\"text/javascript\">if (window.MathJax && window.MathJax.Hub && window.MathJax.Hub.Config) {window.MathJax.Hub.Config({SVG: {font: \"STIX-Web\"}});}</script>                <script type=\"text/javascript\">window.PlotlyConfig = {MathJaxConfig: 'local'};</script>\n",
              "        <script charset=\"utf-8\" src=\"https://cdn.plot.ly/plotly-2.24.1.min.js\"></script>                <div id=\"e37db215-980b-4fb4-b1e1-c077cca624a3\" class=\"plotly-graph-div\" style=\"height:600px; width:100%;\"></div>            <script type=\"text/javascript\">                                    window.PLOTLYENV=window.PLOTLYENV || {};                                    if (document.getElementById(\"e37db215-980b-4fb4-b1e1-c077cca624a3\")) {                    Plotly.newPlot(                        \"e37db215-980b-4fb4-b1e1-c077cca624a3\",                        [{\"customdata\":[[25526,31598],[21371,26714],[3956,7242],[3552,6482],[10003,13204],[10935,13689],[6834,9546],[8319,11094],[2685,5084],[56322,61268],[4696,6747],[2367,4356],[1687,3447],[8848,11204],[4919,6668]],\"hovertemplate\":\"\\u003cb\\u003e%{y}\\u003c\\u002fb\\u003e\\u003cbr\\u003eWant to Read: %{customdata[0]:,.0f} (%{x:.1f}%)\\u003cbr\\u003eTotal: %{customdata[1]:,.0f}\\u003cextra\\u003e\\u003c\\u002fextra\\u003e\",\"marker\":{\"color\":\"#7DB3FF\"},\"name\":\"Want to Read\",\"orientation\":\"h\",\"text\":[\"81%\",\"80%\",\"55%\",\"55%\",\"76%\",\"80%\",\"72%\",\"75%\",\"53%\",\"92%\",\"70%\",\"54%\",\"49%\",\"79%\",\"74%\"],\"textposition\":\"inside\",\"x\":[80.78359389834799,79.99925132889122,54.62579397956365,54.79790188213515,75.75734625870948,79.88165680473372,71.5901948460088,74.98647917793402,52.81274586939417,91.92727035320233,69.60130428338522,54.33884297520662,48.94110821003771,78.97179578721885,73.77024595080984],\"y\":[\"Stephen King\",\"J. K. Rowling\",\"Carole Mortimer\",\"Penny Jordan\",\"Rick Riordan\",\"R. L. Stine\",\"Nora Roberts\",\"Agatha Christie\",\"Terry Pratchett\",\"Colleen Hoover\",\"Isaac Asimov\",\"Lynne Graham\",\"Betty Neels\",\"Roald Dahl\",\"Neil Gaiman\"],\"type\":\"bar\"},{\"customdata\":[[1550,31598],[1746,26714],[356,7242],[294,6482],[819,13204],[418,13689],[406,9546],[481,11094],[107,5084],[2793,61268],[270,6747],[214,4356],[122,3447],[727,11204],[194,6668]],\"hovertemplate\":\"\\u003cb\\u003e%{y}\\u003c\\u002fb\\u003e\\u003cbr\\u003eCurrently Reading: %{customdata[0]:,.0f} (%{x:.1f}%)\\u003cbr\\u003eTotal: %{customdata[1]:,.0f}\\u003cextra\\u003e\\u003c\\u002fextra\\u003e\",\"marker\":{\"color\":\"#F6C85F\"},\"name\":\"Currently Reading\",\"orientation\":\"h\",\"text\":[\"\",\"\",\"\",\"\",\"\",\"\",\"\",\"\",\"\",\"\",\"\",\"\",\"\",\"\",\"\"],\"textfont\":{\"color\":\"#111\"},\"textposition\":\"inside\",\"x\":[4.905373757832774,6.535898779666092,4.915769124551229,4.535637149028078,6.202665858830658,3.053546643290233,4.2530902996019275,4.335676942491437,2.104642014162077,4.558660312071554,4.001778568252556,4.912764003673095,3.539309544531476,6.488754016422706,2.9094181163767248],\"y\":[\"Stephen King\",\"J. K. Rowling\",\"Carole Mortimer\",\"Penny Jordan\",\"Rick Riordan\",\"R. L. Stine\",\"Nora Roberts\",\"Agatha Christie\",\"Terry Pratchett\",\"Colleen Hoover\",\"Isaac Asimov\",\"Lynne Graham\",\"Betty Neels\",\"Roald Dahl\",\"Neil Gaiman\"],\"type\":\"bar\"},{\"customdata\":[[4522,31598],[3597,26714],[2930,7242],[2636,6482],[2382,13204],[2336,13689],[2306,9546],[2294,11094],[2292,5084],[2153,61268],[1781,6747],[1775,4356],[1638,3447],[1629,11204],[1555,6668]],\"hovertemplate\":\"\\u003cb\\u003e%{y}\\u003c\\u002fb\\u003e\\u003cbr\\u003eHave Read: %{customdata[0]:,.0f} (%{x:.1f}%)\\u003cbr\\u003eTotal: %{customdata[1]:,.0f}\\u003cextra\\u003e\\u003c\\u002fextra\\u003e\",\"marker\":{\"color\":\"#5CC689\"},\"name\":\"Have Read\",\"orientation\":\"h\",\"text\":[\"14%\",\"13%\",\"40%\",\"41%\",\"18%\",\"17%\",\"24%\",\"21%\",\"45%\",\"\",\"26%\",\"41%\",\"48%\",\"15%\",\"23%\"],\"textposition\":\"inside\",\"x\":[14.31103234381923,13.46484989144269,40.458436895885114,40.66646096883677,18.039987882459858,17.064796551976038,24.15671485438927,20.677843879574546,45.08261211644374,3.514069334726121,26.39691714836224,40.74839302112029,47.51958224543081,14.539450196358445,23.32033593281344],\"y\":[\"Stephen King\",\"J. K. Rowling\",\"Carole Mortimer\",\"Penny Jordan\",\"Rick Riordan\",\"R. L. Stine\",\"Nora Roberts\",\"Agatha Christie\",\"Terry Pratchett\",\"Colleen Hoover\",\"Isaac Asimov\",\"Lynne Graham\",\"Betty Neels\",\"Roald Dahl\",\"Neil Gaiman\"],\"type\":\"bar\"}],                        {\"template\":{\"data\":{\"histogram2dcontour\":[{\"type\":\"histogram2dcontour\",\"colorbar\":{\"outlinewidth\":0,\"ticks\":\"\"},\"colorscale\":[[0.0,\"#0d0887\"],[0.1111111111111111,\"#46039f\"],[0.2222222222222222,\"#7201a8\"],[0.3333333333333333,\"#9c179e\"],[0.4444444444444444,\"#bd3786\"],[0.5555555555555556,\"#d8576b\"],[0.6666666666666666,\"#ed7953\"],[0.7777777777777778,\"#fb9f3a\"],[0.8888888888888888,\"#fdca26\"],[1.0,\"#f0f921\"]]}],\"choropleth\":[{\"type\":\"choropleth\",\"colorbar\":{\"outlinewidth\":0,\"ticks\":\"\"}}],\"histogram2d\":[{\"type\":\"histogram2d\",\"colorbar\":{\"outlinewidth\":0,\"ticks\":\"\"},\"colorscale\":[[0.0,\"#0d0887\"],[0.1111111111111111,\"#46039f\"],[0.2222222222222222,\"#7201a8\"],[0.3333333333333333,\"#9c179e\"],[0.4444444444444444,\"#bd3786\"],[0.5555555555555556,\"#d8576b\"],[0.6666666666666666,\"#ed7953\"],[0.7777777777777778,\"#fb9f3a\"],[0.8888888888888888,\"#fdca26\"],[1.0,\"#f0f921\"]]}],\"heatmap\":[{\"type\":\"heatmap\",\"colorbar\":{\"outlinewidth\":0,\"ticks\":\"\"},\"colorscale\":[[0.0,\"#0d0887\"],[0.1111111111111111,\"#46039f\"],[0.2222222222222222,\"#7201a8\"],[0.3333333333333333,\"#9c179e\"],[0.4444444444444444,\"#bd3786\"],[0.5555555555555556,\"#d8576b\"],[0.6666666666666666,\"#ed7953\"],[0.7777777777777778,\"#fb9f3a\"],[0.8888888888888888,\"#fdca26\"],[1.0,\"#f0f921\"]]}],\"heatmapgl\":[{\"type\":\"heatmapgl\",\"colorbar\":{\"outlinewidth\":0,\"ticks\":\"\"},\"colorscale\":[[0.0,\"#0d0887\"],[0.1111111111111111,\"#46039f\"],[0.2222222222222222,\"#7201a8\"],[0.3333333333333333,\"#9c179e\"],[0.4444444444444444,\"#bd3786\"],[0.5555555555555556,\"#d8576b\"],[0.6666666666666666,\"#ed7953\"],[0.7777777777777778,\"#fb9f3a\"],[0.8888888888888888,\"#fdca26\"],[1.0,\"#f0f921\"]]}],\"contourcarpet\":[{\"type\":\"contourcarpet\",\"colorbar\":{\"outlinewidth\":0,\"ticks\":\"\"}}],\"contour\":[{\"type\":\"contour\",\"colorbar\":{\"outlinewidth\":0,\"ticks\":\"\"},\"colorscale\":[[0.0,\"#0d0887\"],[0.1111111111111111,\"#46039f\"],[0.2222222222222222,\"#7201a8\"],[0.3333333333333333,\"#9c179e\"],[0.4444444444444444,\"#bd3786\"],[0.5555555555555556,\"#d8576b\"],[0.6666666666666666,\"#ed7953\"],[0.7777777777777778,\"#fb9f3a\"],[0.8888888888888888,\"#fdca26\"],[1.0,\"#f0f921\"]]}],\"surface\":[{\"type\":\"surface\",\"colorbar\":{\"outlinewidth\":0,\"ticks\":\"\"},\"colorscale\":[[0.0,\"#0d0887\"],[0.1111111111111111,\"#46039f\"],[0.2222222222222222,\"#7201a8\"],[0.3333333333333333,\"#9c179e\"],[0.4444444444444444,\"#bd3786\"],[0.5555555555555556,\"#d8576b\"],[0.6666666666666666,\"#ed7953\"],[0.7777777777777778,\"#fb9f3a\"],[0.8888888888888888,\"#fdca26\"],[1.0,\"#f0f921\"]]}],\"mesh3d\":[{\"type\":\"mesh3d\",\"colorbar\":{\"outlinewidth\":0,\"ticks\":\"\"}}],\"scatter\":[{\"fillpattern\":{\"fillmode\":\"overlay\",\"size\":10,\"solidity\":0.2},\"type\":\"scatter\"}],\"parcoords\":[{\"type\":\"parcoords\",\"line\":{\"colorbar\":{\"outlinewidth\":0,\"ticks\":\"\"}}}],\"scatterpolargl\":[{\"type\":\"scatterpolargl\",\"marker\":{\"colorbar\":{\"outlinewidth\":0,\"ticks\":\"\"}}}],\"bar\":[{\"error_x\":{\"color\":\"#2a3f5f\"},\"error_y\":{\"color\":\"#2a3f5f\"},\"marker\":{\"line\":{\"color\":\"#E5ECF6\",\"width\":0.5},\"pattern\":{\"fillmode\":\"overlay\",\"size\":10,\"solidity\":0.2}},\"type\":\"bar\"}],\"scattergeo\":[{\"type\":\"scattergeo\",\"marker\":{\"colorbar\":{\"outlinewidth\":0,\"ticks\":\"\"}}}],\"scatterpolar\":[{\"type\":\"scatterpolar\",\"marker\":{\"colorbar\":{\"outlinewidth\":0,\"ticks\":\"\"}}}],\"histogram\":[{\"marker\":{\"pattern\":{\"fillmode\":\"overlay\",\"size\":10,\"solidity\":0.2}},\"type\":\"histogram\"}],\"scattergl\":[{\"type\":\"scattergl\",\"marker\":{\"colorbar\":{\"outlinewidth\":0,\"ticks\":\"\"}}}],\"scatter3d\":[{\"type\":\"scatter3d\",\"line\":{\"colorbar\":{\"outlinewidth\":0,\"ticks\":\"\"}},\"marker\":{\"colorbar\":{\"outlinewidth\":0,\"ticks\":\"\"}}}],\"scattermapbox\":[{\"type\":\"scattermapbox\",\"marker\":{\"colorbar\":{\"outlinewidth\":0,\"ticks\":\"\"}}}],\"scatterternary\":[{\"type\":\"scatterternary\",\"marker\":{\"colorbar\":{\"outlinewidth\":0,\"ticks\":\"\"}}}],\"scattercarpet\":[{\"type\":\"scattercarpet\",\"marker\":{\"colorbar\":{\"outlinewidth\":0,\"ticks\":\"\"}}}],\"carpet\":[{\"aaxis\":{\"endlinecolor\":\"#2a3f5f\",\"gridcolor\":\"white\",\"linecolor\":\"white\",\"minorgridcolor\":\"white\",\"startlinecolor\":\"#2a3f5f\"},\"baxis\":{\"endlinecolor\":\"#2a3f5f\",\"gridcolor\":\"white\",\"linecolor\":\"white\",\"minorgridcolor\":\"white\",\"startlinecolor\":\"#2a3f5f\"},\"type\":\"carpet\"}],\"table\":[{\"cells\":{\"fill\":{\"color\":\"#EBF0F8\"},\"line\":{\"color\":\"white\"}},\"header\":{\"fill\":{\"color\":\"#C8D4E3\"},\"line\":{\"color\":\"white\"}},\"type\":\"table\"}],\"barpolar\":[{\"marker\":{\"line\":{\"color\":\"#E5ECF6\",\"width\":0.5},\"pattern\":{\"fillmode\":\"overlay\",\"size\":10,\"solidity\":0.2}},\"type\":\"barpolar\"}],\"pie\":[{\"automargin\":true,\"type\":\"pie\"}]},\"layout\":{\"autotypenumbers\":\"strict\",\"colorway\":[\"#636efa\",\"#EF553B\",\"#00cc96\",\"#ab63fa\",\"#FFA15A\",\"#19d3f3\",\"#FF6692\",\"#B6E880\",\"#FF97FF\",\"#FECB52\"],\"font\":{\"color\":\"#2a3f5f\"},\"hovermode\":\"closest\",\"hoverlabel\":{\"align\":\"left\"},\"paper_bgcolor\":\"white\",\"plot_bgcolor\":\"#E5ECF6\",\"polar\":{\"bgcolor\":\"#E5ECF6\",\"angularaxis\":{\"gridcolor\":\"white\",\"linecolor\":\"white\",\"ticks\":\"\"},\"radialaxis\":{\"gridcolor\":\"white\",\"linecolor\":\"white\",\"ticks\":\"\"}},\"ternary\":{\"bgcolor\":\"#E5ECF6\",\"aaxis\":{\"gridcolor\":\"white\",\"linecolor\":\"white\",\"ticks\":\"\"},\"baxis\":{\"gridcolor\":\"white\",\"linecolor\":\"white\",\"ticks\":\"\"},\"caxis\":{\"gridcolor\":\"white\",\"linecolor\":\"white\",\"ticks\":\"\"}},\"coloraxis\":{\"colorbar\":{\"outlinewidth\":0,\"ticks\":\"\"}},\"colorscale\":{\"sequential\":[[0.0,\"#0d0887\"],[0.1111111111111111,\"#46039f\"],[0.2222222222222222,\"#7201a8\"],[0.3333333333333333,\"#9c179e\"],[0.4444444444444444,\"#bd3786\"],[0.5555555555555556,\"#d8576b\"],[0.6666666666666666,\"#ed7953\"],[0.7777777777777778,\"#fb9f3a\"],[0.8888888888888888,\"#fdca26\"],[1.0,\"#f0f921\"]],\"sequentialminus\":[[0.0,\"#0d0887\"],[0.1111111111111111,\"#46039f\"],[0.2222222222222222,\"#7201a8\"],[0.3333333333333333,\"#9c179e\"],[0.4444444444444444,\"#bd3786\"],[0.5555555555555556,\"#d8576b\"],[0.6666666666666666,\"#ed7953\"],[0.7777777777777778,\"#fb9f3a\"],[0.8888888888888888,\"#fdca26\"],[1.0,\"#f0f921\"]],\"diverging\":[[0,\"#8e0152\"],[0.1,\"#c51b7d\"],[0.2,\"#de77ae\"],[0.3,\"#f1b6da\"],[0.4,\"#fde0ef\"],[0.5,\"#f7f7f7\"],[0.6,\"#e6f5d0\"],[0.7,\"#b8e186\"],[0.8,\"#7fbc41\"],[0.9,\"#4d9221\"],[1,\"#276419\"]]},\"xaxis\":{\"gridcolor\":\"white\",\"linecolor\":\"white\",\"ticks\":\"\",\"title\":{\"standoff\":15},\"zerolinecolor\":\"white\",\"automargin\":true,\"zerolinewidth\":2},\"yaxis\":{\"gridcolor\":\"white\",\"linecolor\":\"white\",\"ticks\":\"\",\"title\":{\"standoff\":15},\"zerolinecolor\":\"white\",\"automargin\":true,\"zerolinewidth\":2},\"scene\":{\"xaxis\":{\"backgroundcolor\":\"#E5ECF6\",\"gridcolor\":\"white\",\"linecolor\":\"white\",\"showbackground\":true,\"ticks\":\"\",\"zerolinecolor\":\"white\",\"gridwidth\":2},\"yaxis\":{\"backgroundcolor\":\"#E5ECF6\",\"gridcolor\":\"white\",\"linecolor\":\"white\",\"showbackground\":true,\"ticks\":\"\",\"zerolinecolor\":\"white\",\"gridwidth\":2},\"zaxis\":{\"backgroundcolor\":\"#E5ECF6\",\"gridcolor\":\"white\",\"linecolor\":\"white\",\"showbackground\":true,\"ticks\":\"\",\"zerolinecolor\":\"white\",\"gridwidth\":2}},\"shapedefaults\":{\"line\":{\"color\":\"#2a3f5f\"}},\"annotationdefaults\":{\"arrowcolor\":\"#2a3f5f\",\"arrowhead\":0,\"arrowwidth\":1},\"geo\":{\"bgcolor\":\"white\",\"landcolor\":\"#E5ECF6\",\"subunitcolor\":\"white\",\"showland\":true,\"showlakes\":true,\"lakecolor\":\"white\"},\"title\":{\"x\":0.05},\"mapbox\":{\"style\":\"light\"}}},\"title\":{\"text\":\"Top Authors by Shelf Status (100% Share View)\\u003cbr\\u003e\\u003csup\\u003eHow reading status is distributed per author — sorted by Have Read (count). n = 218,343\\u003c\\u002fsup\\u003e\",\"x\":0.02,\"xanchor\":\"left\"},\"font\":{\"color\":\"#E6E6E6\",\"size\":12},\"legend\":{\"orientation\":\"h\",\"y\":1.08,\"x\":0.01,\"traceorder\":\"normal\"},\"margin\":{\"l\":160,\"r\":160,\"t\":95,\"b\":40},\"xaxis\":{\"title\":{\"text\":\"Share of shelves (%)\"},\"range\":[0,100],\"dtick\":20,\"ticksuffix\":\"%\",\"gridcolor\":\"#2A2A2A\",\"zeroline\":false},\"yaxis\":{\"autorange\":\"reversed\",\"gridcolor\":\"#2A2A2A\"},\"barmode\":\"stack\",\"paper_bgcolor\":\"#111111\",\"plot_bgcolor\":\"#111111\",\"height\":600,\"annotations\":[{\"font\":{\"color\":\"#E6E6E6\",\"size\":11},\"showarrow\":false,\"text\":\"31,598\",\"x\":100,\"xref\":\"x\",\"xshift\":34,\"y\":\"Stephen King\",\"yref\":\"y\"},{\"font\":{\"color\":\"#E6E6E6\",\"size\":11},\"showarrow\":false,\"text\":\"26,714\",\"x\":100,\"xref\":\"x\",\"xshift\":34,\"y\":\"J. K. Rowling\",\"yref\":\"y\"},{\"font\":{\"color\":\"#E6E6E6\",\"size\":11},\"showarrow\":false,\"text\":\"7,242\",\"x\":100,\"xref\":\"x\",\"xshift\":34,\"y\":\"Carole Mortimer\",\"yref\":\"y\"},{\"font\":{\"color\":\"#E6E6E6\",\"size\":11},\"showarrow\":false,\"text\":\"6,482\",\"x\":100,\"xref\":\"x\",\"xshift\":34,\"y\":\"Penny Jordan\",\"yref\":\"y\"},{\"font\":{\"color\":\"#E6E6E6\",\"size\":11},\"showarrow\":false,\"text\":\"13,204\",\"x\":100,\"xref\":\"x\",\"xshift\":34,\"y\":\"Rick Riordan\",\"yref\":\"y\"},{\"font\":{\"color\":\"#E6E6E6\",\"size\":11},\"showarrow\":false,\"text\":\"13,689\",\"x\":100,\"xref\":\"x\",\"xshift\":34,\"y\":\"R. L. Stine\",\"yref\":\"y\"},{\"font\":{\"color\":\"#E6E6E6\",\"size\":11},\"showarrow\":false,\"text\":\"9,546\",\"x\":100,\"xref\":\"x\",\"xshift\":34,\"y\":\"Nora Roberts\",\"yref\":\"y\"},{\"font\":{\"color\":\"#E6E6E6\",\"size\":11},\"showarrow\":false,\"text\":\"11,094\",\"x\":100,\"xref\":\"x\",\"xshift\":34,\"y\":\"Agatha Christie\",\"yref\":\"y\"},{\"font\":{\"color\":\"#E6E6E6\",\"size\":11},\"showarrow\":false,\"text\":\"5,084\",\"x\":100,\"xref\":\"x\",\"xshift\":34,\"y\":\"Terry Pratchett\",\"yref\":\"y\"},{\"font\":{\"color\":\"#E6E6E6\",\"size\":11},\"showarrow\":false,\"text\":\"61,268\",\"x\":100,\"xref\":\"x\",\"xshift\":34,\"y\":\"Colleen Hoover\",\"yref\":\"y\"},{\"font\":{\"color\":\"#E6E6E6\",\"size\":11},\"showarrow\":false,\"text\":\"6,747\",\"x\":100,\"xref\":\"x\",\"xshift\":34,\"y\":\"Isaac Asimov\",\"yref\":\"y\"},{\"font\":{\"color\":\"#E6E6E6\",\"size\":11},\"showarrow\":false,\"text\":\"4,356\",\"x\":100,\"xref\":\"x\",\"xshift\":34,\"y\":\"Lynne Graham\",\"yref\":\"y\"},{\"font\":{\"color\":\"#E6E6E6\",\"size\":11},\"showarrow\":false,\"text\":\"3,447\",\"x\":100,\"xref\":\"x\",\"xshift\":34,\"y\":\"Betty Neels\",\"yref\":\"y\"},{\"font\":{\"color\":\"#E6E6E6\",\"size\":11},\"showarrow\":false,\"text\":\"11,204\",\"x\":100,\"xref\":\"x\",\"xshift\":34,\"y\":\"Roald Dahl\",\"yref\":\"y\"},{\"font\":{\"color\":\"#E6E6E6\",\"size\":11},\"showarrow\":false,\"text\":\"6,668\",\"x\":100,\"xref\":\"x\",\"xshift\":34,\"y\":\"Neil Gaiman\",\"yref\":\"y\"}],\"updatemenus\":[{\"buttons\":[{\"args\":[{\"x\":[[80.78359389834799,79.99925132889122,54.62579397956365,54.79790188213515,75.75734625870948,79.88165680473372,71.5901948460088,74.98647917793402,52.81274586939417,91.92727035320233,69.60130428338522,54.33884297520662,48.94110821003771,78.97179578721885,73.77024595080984],[4.905373757832774,6.535898779666092,4.915769124551229,4.535637149028078,6.202665858830658,3.053546643290233,4.2530902996019275,4.335676942491437,2.104642014162077,4.558660312071554,4.001778568252556,4.912764003673095,3.539309544531476,6.488754016422706,2.9094181163767248],[14.31103234381923,13.46484989144269,40.458436895885114,40.66646096883677,18.039987882459858,17.064796551976038,24.15671485438927,20.677843879574546,45.08261211644374,3.514069334726121,26.39691714836224,40.74839302112029,47.51958224543081,14.539450196358445,23.32033593281344]],\"text\":[[\"81%\",\"80%\",\"55%\",\"55%\",\"76%\",\"80%\",\"72%\",\"75%\",\"53%\",\"92%\",\"70%\",\"54%\",\"49%\",\"79%\",\"74%\"],[\"\",\"\",\"\",\"\",\"\",\"\",\"\",\"\",\"\",\"\",\"\",\"\",\"\",\"\",\"\"],[\"14%\",\"13%\",\"40%\",\"41%\",\"18%\",\"17%\",\"24%\",\"21%\",\"45%\",\"\",\"26%\",\"41%\",\"48%\",\"15%\",\"23%\"]]},{\"xaxis\":{\"title\":\"Share of shelves (%)\",\"range\":[0,100],\"dtick\":20,\"ticksuffix\":\"%\",\"gridcolor\":\"#2A2A2A\",\"zeroline\":false},\"annotations\":[{\"x\":100,\"y\":\"Stephen King\",\"xref\":\"x\",\"yref\":\"y\",\"xshift\":34,\"showarrow\":false,\"text\":\"31,598\",\"font\":{\"color\":\"#E6E6E6\",\"size\":11}},{\"x\":100,\"y\":\"J. K. Rowling\",\"xref\":\"x\",\"yref\":\"y\",\"xshift\":34,\"showarrow\":false,\"text\":\"26,714\",\"font\":{\"color\":\"#E6E6E6\",\"size\":11}},{\"x\":100,\"y\":\"Carole Mortimer\",\"xref\":\"x\",\"yref\":\"y\",\"xshift\":34,\"showarrow\":false,\"text\":\"7,242\",\"font\":{\"color\":\"#E6E6E6\",\"size\":11}},{\"x\":100,\"y\":\"Penny Jordan\",\"xref\":\"x\",\"yref\":\"y\",\"xshift\":34,\"showarrow\":false,\"text\":\"6,482\",\"font\":{\"color\":\"#E6E6E6\",\"size\":11}},{\"x\":100,\"y\":\"Rick Riordan\",\"xref\":\"x\",\"yref\":\"y\",\"xshift\":34,\"showarrow\":false,\"text\":\"13,204\",\"font\":{\"color\":\"#E6E6E6\",\"size\":11}},{\"x\":100,\"y\":\"R. L. Stine\",\"xref\":\"x\",\"yref\":\"y\",\"xshift\":34,\"showarrow\":false,\"text\":\"13,689\",\"font\":{\"color\":\"#E6E6E6\",\"size\":11}},{\"x\":100,\"y\":\"Nora Roberts\",\"xref\":\"x\",\"yref\":\"y\",\"xshift\":34,\"showarrow\":false,\"text\":\"9,546\",\"font\":{\"color\":\"#E6E6E6\",\"size\":11}},{\"x\":100,\"y\":\"Agatha Christie\",\"xref\":\"x\",\"yref\":\"y\",\"xshift\":34,\"showarrow\":false,\"text\":\"11,094\",\"font\":{\"color\":\"#E6E6E6\",\"size\":11}},{\"x\":100,\"y\":\"Terry Pratchett\",\"xref\":\"x\",\"yref\":\"y\",\"xshift\":34,\"showarrow\":false,\"text\":\"5,084\",\"font\":{\"color\":\"#E6E6E6\",\"size\":11}},{\"x\":100,\"y\":\"Colleen Hoover\",\"xref\":\"x\",\"yref\":\"y\",\"xshift\":34,\"showarrow\":false,\"text\":\"61,268\",\"font\":{\"color\":\"#E6E6E6\",\"size\":11}},{\"x\":100,\"y\":\"Isaac Asimov\",\"xref\":\"x\",\"yref\":\"y\",\"xshift\":34,\"showarrow\":false,\"text\":\"6,747\",\"font\":{\"color\":\"#E6E6E6\",\"size\":11}},{\"x\":100,\"y\":\"Lynne Graham\",\"xref\":\"x\",\"yref\":\"y\",\"xshift\":34,\"showarrow\":false,\"text\":\"4,356\",\"font\":{\"color\":\"#E6E6E6\",\"size\":11}},{\"x\":100,\"y\":\"Betty Neels\",\"xref\":\"x\",\"yref\":\"y\",\"xshift\":34,\"showarrow\":false,\"text\":\"3,447\",\"font\":{\"color\":\"#E6E6E6\",\"size\":11}},{\"x\":100,\"y\":\"Roald Dahl\",\"xref\":\"x\",\"yref\":\"y\",\"xshift\":34,\"showarrow\":false,\"text\":\"11,204\",\"font\":{\"color\":\"#E6E6E6\",\"size\":11}},{\"x\":100,\"y\":\"Neil Gaiman\",\"xref\":\"x\",\"yref\":\"y\",\"xshift\":34,\"showarrow\":false,\"text\":\"6,668\",\"font\":{\"color\":\"#E6E6E6\",\"size\":11}}],\"barmode\":\"stack\"}],\"label\":\"Share (%)\",\"method\":\"update\"},{\"args\":[{\"x\":[[25526,21371,3956,3552,10003,10935,6834,8319,2685,56322,4696,2367,1687,8848,4919],[1550,1746,356,294,819,418,406,481,107,2793,270,214,122,727,194],[4522,3597,2930,2636,2382,2336,2306,2294,2292,2153,1781,1775,1638,1629,1555]],\"text\":[[\"\",\"\",\"\",\"\",\"\",\"\",\"\",\"\",\"\",\"\",\"\",\"\",\"\",\"\",\"\"],[\"\",\"\",\"\",\"\",\"\",\"\",\"\",\"\",\"\",\"\",\"\",\"\",\"\",\"\",\"\"],[\"\",\"\",\"\",\"\",\"\",\"\",\"\",\"\",\"\",\"\",\"\",\"\",\"\",\"\",\"\"]]},{\"xaxis\":{\"title\":\"Books (count)\",\"ticksuffix\":\"\",\"dtick\":null,\"gridcolor\":\"#2A2A2A\",\"zeroline\":false,\"tickformat\":\",~s\",\"range\":null},\"annotations\":[{\"x\":33436.04,\"y\":\"Stephen King\",\"xref\":\"x\",\"yref\":\"y\",\"showarrow\":false,\"text\":\"31,598\",\"font\":{\"color\":\"#E6E6E6\",\"size\":11}},{\"x\":28552.04,\"y\":\"J. K. Rowling\",\"xref\":\"x\",\"yref\":\"y\",\"showarrow\":false,\"text\":\"26,714\",\"font\":{\"color\":\"#E6E6E6\",\"size\":11}},{\"x\":9080.04,\"y\":\"Carole Mortimer\",\"xref\":\"x\",\"yref\":\"y\",\"showarrow\":false,\"text\":\"7,242\",\"font\":{\"color\":\"#E6E6E6\",\"size\":11}},{\"x\":8320.04,\"y\":\"Penny Jordan\",\"xref\":\"x\",\"yref\":\"y\",\"showarrow\":false,\"text\":\"6,482\",\"font\":{\"color\":\"#E6E6E6\",\"size\":11}},{\"x\":15042.04,\"y\":\"Rick Riordan\",\"xref\":\"x\",\"yref\":\"y\",\"showarrow\":false,\"text\":\"13,204\",\"font\":{\"color\":\"#E6E6E6\",\"size\":11}},{\"x\":15527.04,\"y\":\"R. L. Stine\",\"xref\":\"x\",\"yref\":\"y\",\"showarrow\":false,\"text\":\"13,689\",\"font\":{\"color\":\"#E6E6E6\",\"size\":11}},{\"x\":11384.04,\"y\":\"Nora Roberts\",\"xref\":\"x\",\"yref\":\"y\",\"showarrow\":false,\"text\":\"9,546\",\"font\":{\"color\":\"#E6E6E6\",\"size\":11}},{\"x\":12932.04,\"y\":\"Agatha Christie\",\"xref\":\"x\",\"yref\":\"y\",\"showarrow\":false,\"text\":\"11,094\",\"font\":{\"color\":\"#E6E6E6\",\"size\":11}},{\"x\":6922.04,\"y\":\"Terry Pratchett\",\"xref\":\"x\",\"yref\":\"y\",\"showarrow\":false,\"text\":\"5,084\",\"font\":{\"color\":\"#E6E6E6\",\"size\":11}},{\"x\":63106.04,\"y\":\"Colleen Hoover\",\"xref\":\"x\",\"yref\":\"y\",\"showarrow\":false,\"text\":\"61,268\",\"font\":{\"color\":\"#E6E6E6\",\"size\":11}},{\"x\":8585.04,\"y\":\"Isaac Asimov\",\"xref\":\"x\",\"yref\":\"y\",\"showarrow\":false,\"text\":\"6,747\",\"font\":{\"color\":\"#E6E6E6\",\"size\":11}},{\"x\":6194.04,\"y\":\"Lynne Graham\",\"xref\":\"x\",\"yref\":\"y\",\"showarrow\":false,\"text\":\"4,356\",\"font\":{\"color\":\"#E6E6E6\",\"size\":11}},{\"x\":5285.04,\"y\":\"Betty Neels\",\"xref\":\"x\",\"yref\":\"y\",\"showarrow\":false,\"text\":\"3,447\",\"font\":{\"color\":\"#E6E6E6\",\"size\":11}},{\"x\":13042.04,\"y\":\"Roald Dahl\",\"xref\":\"x\",\"yref\":\"y\",\"showarrow\":false,\"text\":\"11,204\",\"font\":{\"color\":\"#E6E6E6\",\"size\":11}},{\"x\":8506.04,\"y\":\"Neil Gaiman\",\"xref\":\"x\",\"yref\":\"y\",\"showarrow\":false,\"text\":\"6,668\",\"font\":{\"color\":\"#E6E6E6\",\"size\":11}}],\"barmode\":\"stack\"}],\"label\":\"Counts\",\"method\":\"update\"}],\"type\":\"buttons\",\"x\":0.02,\"xanchor\":\"left\",\"y\":1.18}]},                        {\"responsive\": true}                    ).then(function(){\n",
              "                            \n",
              "var gd = document.getElementById('e37db215-980b-4fb4-b1e1-c077cca624a3');\n",
              "var x = new MutationObserver(function (mutations, observer) {{\n",
              "        var display = window.getComputedStyle(gd).display;\n",
              "        if (!display || display === 'none') {{\n",
              "            console.log([gd, 'removed!']);\n",
              "            Plotly.purge(gd);\n",
              "            observer.disconnect();\n",
              "        }}\n",
              "}});\n",
              "\n",
              "// Listen for the removal of the full notebook cells\n",
              "var notebookContainer = gd.closest('#notebook-container');\n",
              "if (notebookContainer) {{\n",
              "    x.observe(notebookContainer, {childList: true});\n",
              "}}\n",
              "\n",
              "// Listen for the clearing of the current output cell\n",
              "var outputEl = gd.closest('.output');\n",
              "if (outputEl) {{\n",
              "    x.observe(outputEl, {childList: true});\n",
              "}}\n",
              "\n",
              "                        })                };                            </script>        </div>\n",
              "</body>\n",
              "</html>"
            ]
          },
          "metadata": {}
        }
      ]
    },
    {
      "cell_type": "code",
      "source": [],
      "metadata": {
        "id": "eaiIwRGDm6VO"
      },
      "execution_count": null,
      "outputs": []
    },
    {
      "cell_type": "markdown",
      "metadata": {
        "id": "b07383c1"
      },
      "source": [
        "## Project Summary and Conclusion\n",
        "\n",
        "This notebook provided a concise, insight-first exploration of a large book dataset, addressing key questions related to inventory, authorship, categories, publication trends, and reader engagement.\n",
        "\n",
        "**Key Findings:**\n",
        "\n",
        "*   **Total Books:** The dataset contains a substantial number of unique books, providing a rich basis for analysis.\n",
        "*   **Top Categories:** Analysis of book categories revealed the most prevalent subjects in the dataset, highlighting areas with the largest collections. Visualizations showed the distribution across the top 25 categories.\n",
        "*   **Top Authors by Book Count:** Identifying authors with the highest number of published books provided insights into the most prolific contributors to the dataset. The bar chart clearly illustrated the leading authors in terms of quantity.\n",
        "*   **Yearly Publication Trends:** The time series analysis of publication years demonstrated the historical trend of book additions to the dataset, showing periods of growth and potential shifts in publication volume over time.\n",
        "*   **Most Common Titles:** Examining the most frequent book titles shed light on popular or widely available works within the collection.\n",
        "*   **Top Authors by Total Pages:** Analyzing authors by the cumulative number of pages written offered a different perspective on authorship, highlighting those who have contributed the most extensive works.\n",
        "*   **Reading Engagement (Want to Read, Currently Reading, Have Read):** The analysis of reading statistics provided valuable insights into reader interest and engagement with books and authors in the dataset. Visualizations of top authors by these metrics indicated patterns in how books are being added to reading lists, actively read, and completed. The final analysis of author reading stats, with the interactive Plotly chart, allowed for a detailed look at the distribution of reading intentions and completions for top authors.\n",
        "\n",
        "**Overall Conclusion:**\n",
        "\n",
        "This project successfully loaded, cleaned, and analyzed a comprehensive book dataset to answer specific objectives. The visualizations created using Plotly effectively communicated key findings regarding the dataset's composition, publication history, and reader interactions. The insights gained from this analysis can be further explored for recommendations related to collection development, reader behavior predictions, and identifying influential authors and categories."
      ]
    }
  ]
}